{
  "nbformat": 4,
  "nbformat_minor": 0,
  "metadata": {
    "colab": {
      "name": "neuron.ipynb",
      "version": "0.3.2",
      "provenance": [],
      "include_colab_link": true
    },
    "kernelspec": {
      "name": "python3",
      "display_name": "Python 3"
    },
    "accelerator": "GPU"
  },
  "cells": [
    {
      "cell_type": "markdown",
      "metadata": {
        "id": "view-in-github",
        "colab_type": "text"
      },
      "source": [
        "<a href=\"https://colab.research.google.com/github/x1001000/Learn_Deep_Learning_Deep/blob/master/neuron.ipynb\" target=\"_parent\"><img src=\"https://colab.research.google.com/assets/colab-badge.svg\" alt=\"Open In Colab\"/></a>"
      ]
    },
    {
      "metadata": {
        "id": "motxQ-WfV9vO",
        "colab_type": "text"
      },
      "cell_type": "markdown",
      "source": [
        "# Data"
      ]
    },
    {
      "metadata": {
        "id": "86D8fM6-33Yk",
        "colab_type": "text"
      },
      "cell_type": "markdown",
      "source": [
        "1. 資料都是數據化的多維陣列  \n",
        "資料常要視覺化以幫助理解\n",
        "\n",
        "2. 匯入多維陣列運算要用的函式庫 numpy，以下簡稱為 np  \n",
        "匯入作圖要用的函式庫 matplotlib.pyplot，以下簡稱為 plt"
      ]
    },
    {
      "metadata": {
        "id": "jRG5EitZxlcO",
        "colab_type": "code",
        "colab": {}
      },
      "cell_type": "code",
      "source": [
        "import numpy as np\n",
        "import matplotlib.pyplot as plt"
      ],
      "execution_count": 0,
      "outputs": []
    },
    {
      "metadata": {
        "id": "L-WBfUAK_QB1",
        "colab_type": "text"
      },
      "cell_type": "markdown",
      "source": [
        "3. 串列(list)與陣列(array)的元素，皆有序可供索引  \n",
        "串列的元素可以不同類別  \n",
        "陣列的元素必須相同類別，儲存在記憶體的一段連續位址上\n",
        "\n",
        "4. 複習一下串列"
      ]
    },
    {
      "metadata": {
        "id": "pCnkWRWq4uTb",
        "colab_type": "code",
        "outputId": "36910e6a-ce2f-4eaf-9b48-7767ae6a7d45",
        "colab": {
          "base_uri": "https://localhost:8080/",
          "height": 51
        }
      },
      "cell_type": "code",
      "source": [
        "a = [ [3,4,5,6], [7,8,9,0] ]\n",
        "print(type(a))\n",
        "print(len(a))"
      ],
      "execution_count": 2,
      "outputs": [
        {
          "output_type": "stream",
          "text": [
            "<class 'list'>\n",
            "2\n"
          ],
          "name": "stdout"
        }
      ]
    },
    {
      "metadata": {
        "id": "axn22aoT9nGX",
        "colab_type": "text"
      },
      "cell_type": "markdown",
      "source": [
        "5. 陣列 = np.array(串列)\n",
        "\n",
        "6. 陣列 aka 張量  \n",
        "矩陣 aka 二維張量  \n",
        "向量 aka 一維張量\n",
        "\n",
        "7. 查看陣列的形狀(shape)及維度(ndim)"
      ]
    },
    {
      "metadata": {
        "id": "hWJFxi7H5WnJ",
        "colab_type": "code",
        "outputId": "fd5b281a-ce62-4c03-bc23-1439af8f2a1e",
        "colab": {
          "base_uri": "https://localhost:8080/",
          "height": 85
        }
      },
      "cell_type": "code",
      "source": [
        "a = np.array( [a,a,a,a,a] )\n",
        "print(type(a))\n",
        "print(len(a))\n",
        "print(a.shape)\n",
        "print(a.ndim)"
      ],
      "execution_count": 3,
      "outputs": [
        {
          "output_type": "stream",
          "text": [
            "<class 'numpy.ndarray'>\n",
            "5\n",
            "(5, 2, 4)\n",
            "3\n"
          ],
          "name": "stdout"
        }
      ]
    },
    {
      "metadata": {
        "id": "Ww97ynVlHelS",
        "colab_type": "text"
      },
      "cell_type": "markdown",
      "source": [
        "# Linear Regression"
      ]
    },
    {
      "metadata": {
        "id": "nd3tbvdjx6yS",
        "colab_type": "text"
      },
      "cell_type": "markdown",
      "source": [
        "8. 線性迴歸就是求最接近全部樣本的一個線性函數\n",
        "\n",
        "9. 用一個極簡的例子來理解何謂訓練神經元(線性迴歸)  \n",
        "用五筆x(feature)及其y(label)，反覆更新w(weight)和b(bias)，使得線性函數y=wx+b更接近這五個資料點"
      ]
    },
    {
      "metadata": {
        "id": "YRHkFXTM2uNm",
        "colab_type": "code",
        "outputId": "d5d75d13-aaf1-442f-b02e-0d464655bbd8",
        "colab": {
          "base_uri": "https://localhost:8080/",
          "height": 364
        }
      },
      "cell_type": "code",
      "source": [
        "x = np.array( [1,2,3,4,5]      )\n",
        "y = np.array( [10,20,30,45,55] )\n",
        "plt.scatter(x,y)"
      ],
      "execution_count": 4,
      "outputs": [
        {
          "output_type": "execute_result",
          "data": {
            "text/plain": [
              "<matplotlib.collections.PathCollection at 0x7fdaa00f7b38>"
            ]
          },
          "metadata": {
            "tags": []
          },
          "execution_count": 4
        },
        {
          "output_type": "display_data",
          "data": {
            "image/png": "[encoded data removed]",
            "text/plain": [
              "<matplotlib.figure.Figure at 0x7fdaa017ee10>"
            ]
          },
          "metadata": {
            "tags": []
          }
        }
      ]
    },
    {
      "metadata": {
        "id": "nO1Vgsk9XRzQ",
        "colab_type": "text"
      },
      "cell_type": "markdown",
      "source": [
        "# Model"
      ]
    },
    {
      "metadata": {
        "id": "K27ixz0BBeDZ",
        "colab_type": "text"
      },
      "cell_type": "markdown",
      "source": [
        "10. 初學者用高階的Keras函式庫(之後再用TensorFlow函式庫)  \n",
        "初學者用順序式模型(之後再用函數式模型)"
      ]
    },
    {
      "metadata": {
        "id": "ub7Iwo_0A-I1",
        "colab_type": "code",
        "outputId": "0ec5b23b-7eac-41db-c89f-82a1ec7c6b66",
        "colab": {
          "base_uri": "https://localhost:8080/",
          "height": 34
        }
      },
      "cell_type": "code",
      "source": [
        "from keras.models import Sequential\n",
        "model = Sequential()"
      ],
      "execution_count": 5,
      "outputs": [
        {
          "output_type": "stream",
          "text": [
            "Using TensorFlow backend.\n"
          ],
          "name": "stderr"
        }
      ]
    },
    {
      "metadata": {
        "id": "QSEXUNnHFgSa",
        "colab_type": "text"
      },
      "cell_type": "markdown",
      "source": [
        "11. Dense(全連接)層的三個引數：  \n",
        "輸出y為一維的向量，故只需units=1個神經元  \n",
        "輸入x為一維的向量，故這個Dense層的input_dim=1  \n",
        "激活函數activation=None，讓y直接等於f(x)"
      ]
    },
    {
      "metadata": {
        "id": "CEQ_nRkpBRVh",
        "colab_type": "code",
        "colab": {}
      },
      "cell_type": "code",
      "source": [
        "from keras.layers import Dense\n",
        "model.add(Dense(units=1, input_dim=1, activation=None))"
      ],
      "execution_count": 0,
      "outputs": []
    },
    {
      "metadata": {
        "id": "FdoF649QSkQ_",
        "colab_type": "text"
      },
      "cell_type": "markdown",
      "source": [
        "12. 列出神經網路架構  \n",
        "這個極簡的例子只有一個神經元，只訓練到w和b兩個模型參數"
      ]
    },
    {
      "metadata": {
        "id": "_wiZcpqlItVQ",
        "colab_type": "code",
        "outputId": "d0a426fd-3f84-4431-86d2-dfff29395cfd",
        "colab": {
          "base_uri": "https://localhost:8080/",
          "height": 170
        }
      },
      "cell_type": "code",
      "source": [
        "model.summary()"
      ],
      "execution_count": 7,
      "outputs": [
        {
          "output_type": "stream",
          "text": [
            "_________________________________________________________________\n",
            "Layer (type)                 Output Shape              Param #   \n",
            "=================================================================\n",
            "dense_1 (Dense)              (None, 1)                 2         \n",
            "=================================================================\n",
            "Total params: 2\n",
            "Trainable params: 2\n",
            "Non-trainable params: 0\n",
            "_________________________________________________________________\n"
          ],
          "name": "stdout"
        }
      ]
    },
    {
      "metadata": {
        "id": "ePRDFrxVI3KD",
        "colab_type": "text"
      },
      "cell_type": "markdown",
      "source": [
        "13. [Before training a model, you need to configure the learning process, which is done via the compile method.](https://keras.io/getting-started/sequential-model-guide/)\n",
        "\n",
        "14. 模型參數的誤差函數Loss(w,b)的算法，採用MSE(均方誤差法)  \n",
        "模型參數w和b的最佳解的找法，採用SGD(隨機梯度下降法)"
      ]
    },
    {
      "metadata": {
        "id": "yne07GxQFB_f",
        "colab_type": "code",
        "colab": {}
      },
      "cell_type": "code",
      "source": [
        "model.compile(loss='MSE',\n",
        "              optimizer='SGD')"
      ],
      "execution_count": 0,
      "outputs": []
    },
    {
      "metadata": {
        "id": "fHFbYjNHTNdY",
        "colab_type": "text"
      },
      "cell_type": "markdown",
      "source": [
        "# Train"
      ]
    },
    {
      "metadata": {
        "id": "_-qG1KEGHs-G",
        "colab_type": "text"
      },
      "cell_type": "markdown",
      "source": [
        "15. 訓練10個回合(epochs)\n",
        "\n",
        "16. 看w和b"
      ]
    },
    {
      "metadata": {
        "id": "PFBLINzWLcVK",
        "colab_type": "code",
        "outputId": "19a06266-7147-4d53-8644-0fcc4b4a6e76",
        "colab": {
          "base_uri": "https://localhost:8080/",
          "height": 374
        }
      },
      "cell_type": "code",
      "source": [
        "model.fit(x, y, epochs=10)"
      ],
      "execution_count": 9,
      "outputs": [
        {
          "output_type": "stream",
          "text": [
            "Epoch 1/10\n",
            "5/5 [==============================] - 1s 161ms/step - loss: 961.6420\n",
            "Epoch 2/10\n",
            "5/5 [==============================] - 0s 1ms/step - loss: 562.8167\n",
            "Epoch 3/10\n",
            "5/5 [==============================] - 0s 1ms/step - loss: 330.3889\n",
            "Epoch 4/10\n",
            "5/5 [==============================] - 0s 1ms/step - loss: 194.9295\n",
            "Epoch 5/10\n",
            "5/5 [==============================] - 0s 573us/step - loss: 115.9784\n",
            "Epoch 6/10\n",
            "5/5 [==============================] - 0s 1ms/step - loss: 69.9578\n",
            "Epoch 7/10\n",
            "5/5 [==============================] - 0s 905us/step - loss: 43.1275\n",
            "Epoch 8/10\n",
            "5/5 [==============================] - 0s 747us/step - loss: 27.4804\n",
            "Epoch 9/10\n",
            "5/5 [==============================] - 0s 790us/step - loss: 18.3505\n",
            "Epoch 10/10\n",
            "5/5 [==============================] - 0s 732us/step - loss: 13.0184\n"
          ],
          "name": "stdout"
        },
        {
          "output_type": "execute_result",
          "data": {
            "text/plain": [
              "<keras.callbacks.History at 0x7fda5f7f52e8>"
            ]
          },
          "metadata": {
            "tags": []
          },
          "execution_count": 9
        }
      ]
    },
    {
      "metadata": {
        "id": "DbIZphaXL6FM",
        "colab_type": "code",
        "outputId": "c17c8582-d7bb-43c0-fe56-a1d15cffecf6",
        "colab": {
          "base_uri": "https://localhost:8080/",
          "height": 51
        }
      },
      "cell_type": "code",
      "source": [
        "w, b = model.layers[0].get_weights()\n",
        "print('w =', w[0,0])\n",
        "print('b =', b[0])"
      ],
      "execution_count": 10,
      "outputs": [
        {
          "output_type": "stream",
          "text": [
            "w = 9.606039\n",
            "b = 2.0748363\n"
          ],
          "name": "stdout"
        }
      ]
    },
    {
      "metadata": {
        "id": "9MgPWwvCONjz",
        "colab_type": "text"
      },
      "cell_type": "markdown",
      "source": [
        "17. 再訓練10個回合(epochs)\n",
        "\n",
        "18. 再看w和b"
      ]
    },
    {
      "metadata": {
        "id": "Wjei0gNSN6d0",
        "colab_type": "code",
        "outputId": "707e04d1-949b-48db-b236-ed1504e085d3",
        "colab": {
          "base_uri": "https://localhost:8080/",
          "height": 374
        }
      },
      "cell_type": "code",
      "source": [
        "model.fit(x, y, epochs=10)"
      ],
      "execution_count": 11,
      "outputs": [
        {
          "output_type": "stream",
          "text": [
            "Epoch 1/10\n",
            "5/5 [==============================] - 0s 1ms/step - loss: 9.8997\n",
            "Epoch 2/10\n",
            "5/5 [==============================] - 0s 1ms/step - loss: 8.0709\n",
            "Epoch 3/10\n",
            "5/5 [==============================] - 0s 908us/step - loss: 6.9938\n",
            "Epoch 4/10\n",
            "5/5 [==============================] - 0s 712us/step - loss: 6.3549\n",
            "Epoch 5/10\n",
            "5/5 [==============================] - 0s 648us/step - loss: 5.9715\n",
            "Epoch 6/10\n",
            "5/5 [==============================] - 0s 711us/step - loss: 5.7369\n",
            "Epoch 7/10\n",
            "5/5 [==============================] - 0s 723us/step - loss: 5.5892\n",
            "Epoch 8/10\n",
            "5/5 [==============================] - 0s 1ms/step - loss: 5.4922\n",
            "Epoch 9/10\n",
            "5/5 [==============================] - 0s 934us/step - loss: 5.4248\n",
            "Epoch 10/10\n",
            "5/5 [==============================] - 0s 848us/step - loss: 5.3747\n"
          ],
          "name": "stdout"
        },
        {
          "output_type": "execute_result",
          "data": {
            "text/plain": [
              "<keras.callbacks.History at 0x7fda9d8ade10>"
            ]
          },
          "metadata": {
            "tags": []
          },
          "execution_count": 11
        }
      ]
    },
    {
      "metadata": {
        "id": "jvG9O0g2N_AL",
        "colab_type": "code",
        "outputId": "d6af1958-5436-470d-f351-a9357067f2db",
        "colab": {
          "base_uri": "https://localhost:8080/",
          "height": 51
        }
      },
      "cell_type": "code",
      "source": [
        "w, b = model.layers[0].get_weights()\n",
        "print('w =', w[0,0])\n",
        "print('b =', b[0])"
      ],
      "execution_count": 12,
      "outputs": [
        {
          "output_type": "stream",
          "text": [
            "w = 10.192741\n",
            "b = 2.0675325\n"
          ],
          "name": "stdout"
        }
      ]
    },
    {
      "metadata": {
        "id": "z9n9HHRaISJV",
        "colab_type": "text"
      },
      "cell_type": "markdown",
      "source": [
        "# Inference"
      ]
    },
    {
      "metadata": {
        "id": "zAC7coOHTsin",
        "colab_type": "text"
      },
      "cell_type": "markdown",
      "source": [
        "19. 用訓練過的模型/網路做預測  \n",
        "輸入訓練用的feature，輸出結果應該很接近但不會剛好等於label"
      ]
    },
    {
      "metadata": {
        "id": "tdjspq_VLx9i",
        "colab_type": "code",
        "outputId": "f7d65bc1-0681-4ea0-a9a7-f78b37b6c2fa",
        "colab": {
          "base_uri": "https://localhost:8080/",
          "height": 102
        }
      },
      "cell_type": "code",
      "source": [
        "model.predict(x)"
      ],
      "execution_count": 13,
      "outputs": [
        {
          "output_type": "execute_result",
          "data": {
            "text/plain": [
              "array([[12.260274],\n",
              "       [22.453014],\n",
              "       [32.645756],\n",
              "       [42.838497],\n",
              "       [53.03124 ]], dtype=float32)"
            ]
          },
          "metadata": {
            "tags": []
          },
          "execution_count": 13
        }
      ]
    },
    {
      "metadata": {
        "id": "k8Sk7LOPQEiD",
        "colab_type": "code",
        "outputId": "ea3fe94d-fab5-43a1-c58e-eff6623e12aa",
        "colab": {
          "base_uri": "https://localhost:8080/",
          "height": 364
        }
      },
      "cell_type": "code",
      "source": [
        "plt.scatter(x, y)\n",
        "plt.plot(x, model.predict(x), color='red')"
      ],
      "execution_count": 14,
      "outputs": [
        {
          "output_type": "execute_result",
          "data": {
            "text/plain": [
              "[<matplotlib.lines.Line2D at 0x7fda58e1b080>]"
            ]
          },
          "metadata": {
            "tags": []
          },
          "execution_count": 14
        },
        {
          "output_type": "display_data",
          "data": {
            "image/png": "[encoded data removed]",
            "text/plain": [
              "<matplotlib.figure.Figure at 0x7fda58e1b048>"
            ]
          },
          "metadata": {
            "tags": []
          }
        }
      ]
    }
  ]
}