{
  "nbformat": 4,
  "nbformat_minor": 0,
  "metadata": {
    "colab": {
      "name": "neuron.ipynb",
      "version": "0.3.2",
      "provenance": [],
      "include_colab_link": true
    },
    "kernelspec": {
      "name": "python3",
      "display_name": "Python 3"
    },
    "accelerator": "GPU"
  },
  "cells": [
    {
      "cell_type": "markdown",
      "metadata": {
        "id": "view-in-github",
        "colab_type": "text"
      },
      "source": [
        "<a href=\"https://colab.research.google.com/github/x1001000/ML-DL-UL-RL/blob/master/neuron.ipynb\" target=\"_parent\"><img src=\"https://colab.research.google.com/assets/colab-badge.svg\" alt=\"Open In Colab\"/></a>"
      ]
    },
    {
      "metadata": {
        "id": "motxQ-WfV9vO",
        "colab_type": "text"
      },
      "cell_type": "markdown",
      "source": [
        "#Data\n",
        "\n",
        "---\n",
        "\n"
      ]
    },
    {
      "metadata": {
        "id": "86D8fM6-33Yk",
        "colab_type": "text"
      },
      "cell_type": "markdown",
      "source": [
        "##匯入numpy，用於陣列運算\n",
        "##匯入matplotlib.pyplot，用於資料視覺化"
      ]
    },
    {
      "metadata": {
        "id": "jRG5EitZxlcO",
        "colab_type": "code",
        "colab": {}
      },
      "cell_type": "code",
      "source": [
        "import numpy as np\n",
        "import matplotlib.pyplot as plt"
      ],
      "execution_count": 0,
      "outputs": []
    },
    {
      "metadata": {
        "id": "L-WBfUAK_QB1",
        "colab_type": "text"
      },
      "cell_type": "markdown",
      "source": [
        "##串列的元素可以不同類別\n",
        "##陣列的元素必須相同類別，儲存在記憶體的一段連續位址上"
      ]
    },
    {
      "metadata": {
        "id": "pCnkWRWq4uTb",
        "colab_type": "code",
        "outputId": "f572f80e-86d1-4c0c-c31b-692528cb3eff",
        "colab": {
          "base_uri": "https://localhost:8080/",
          "height": 51
        }
      },
      "cell_type": "code",
      "source": [
        "a = [ [4,5,6], [7,8,9] ]\n",
        "print(type(a))\n",
        "print(len(a))"
      ],
      "execution_count": 2,
      "outputs": [
        {
          "output_type": "stream",
          "text": [
            "<class 'list'>\n",
            "2\n"
          ],
          "name": "stdout"
        }
      ]
    },
    {
      "metadata": {
        "id": "axn22aoT9nGX",
        "colab_type": "text"
      },
      "cell_type": "markdown",
      "source": [
        "##查看陣列的形狀及維度\n",
        "陣列 aka 張量  \n",
        "矩陣 aka 二維張量  \n",
        "向量 aka 一維張量"
      ]
    },
    {
      "metadata": {
        "id": "hWJFxi7H5WnJ",
        "colab_type": "code",
        "outputId": "9ec7c7bf-84ca-4117-edd4-6009f6872242",
        "colab": {
          "base_uri": "https://localhost:8080/",
          "height": 85
        }
      },
      "cell_type": "code",
      "source": [
        "a = np.array( [a,a,a,a,a] )\n",
        "print(type(a))\n",
        "print(len(a))\n",
        "print(a.shape)\n",
        "print(a.ndim)"
      ],
      "execution_count": 3,
      "outputs": [
        {
          "output_type": "stream",
          "text": [
            "<class 'numpy.ndarray'>\n",
            "5\n",
            "(5, 2, 3)\n",
            "3\n"
          ],
          "name": "stdout"
        }
      ]
    },
    {
      "metadata": {
        "id": "nd3tbvdjx6yS",
        "colab_type": "text"
      },
      "cell_type": "markdown",
      "source": [
        "##用五筆有標記的資料來訓練一個神經元，意即\n",
        "##用五組x(feature)和y(label)來最佳化w(weight)和b(bias)，使得線性函數y=wx+b最接近這五個資料點"
      ]
    },
    {
      "metadata": {
        "id": "YRHkFXTM2uNm",
        "colab_type": "code",
        "outputId": "b906adf5-e5db-49a0-9f44-320a1f057b59",
        "colab": {
          "base_uri": "https://localhost:8080/",
          "height": 364
        }
      },
      "cell_type": "code",
      "source": [
        "x = np.array( [1,2,3,4,5]      )\n",
        "y = np.array( [10,20,30,45,55] )\n",
        "plt.scatter(x,y)"
      ],
      "execution_count": 4,
      "outputs": [
        {
          "output_type": "execute_result",
          "data": {
            "text/plain": [
              "<matplotlib.collections.PathCollection at 0x7f95b31a9a20>"
            ]
          },
          "metadata": {
            "tags": []
          },
          "execution_count": 4
        },
        {
          "output_type": "display_data",
          "data": {
            "image/png": "[encoded data removed]",
            "text/plain": [
              "<matplotlib.figure.Figure at 0x7f95b322dcf8>"
            ]
          },
          "metadata": {
            "tags": []
          }
        }
      ]
    },
    {
      "metadata": {
        "id": "nO1Vgsk9XRzQ",
        "colab_type": "text"
      },
      "cell_type": "markdown",
      "source": [
        "#Model\n",
        "\n",
        "\n",
        "---\n",
        "\n"
      ]
    },
    {
      "metadata": {
        "id": "K27ixz0BBeDZ",
        "colab_type": "text"
      },
      "cell_type": "markdown",
      "source": [
        "##初學者用高階的keras庫(之後再用tensorflow)\n",
        "##初學者用順序風格建模(之後再用函數風格)"
      ]
    },
    {
      "metadata": {
        "id": "ub7Iwo_0A-I1",
        "colab_type": "code",
        "colab": {
          "base_uri": "https://localhost:8080/",
          "height": 34
        },
        "outputId": "6e1d470a-7ccb-4115-e73a-4e249949f195"
      },
      "cell_type": "code",
      "source": [
        "from keras.models import Sequential\n",
        "model = Sequential()"
      ],
      "execution_count": 5,
      "outputs": [
        {
          "output_type": "stream",
          "text": [
            "Using TensorFlow backend.\n"
          ],
          "name": "stderr"
        }
      ]
    },
    {
      "metadata": {
        "id": "QSEXUNnHFgSa",
        "colab_type": "text"
      },
      "cell_type": "markdown",
      "source": [
        "##y為一維的向量，故只需一個Dense(全連接)層的神經元\n",
        "##x為一維的向量，故input_dim=1\n",
        "##讓y直接等於f(x)，故激活函數用linear，即 y = activation( f(x) ) = f(x)"
      ]
    },
    {
      "metadata": {
        "id": "CEQ_nRkpBRVh",
        "colab_type": "code",
        "colab": {}
      },
      "cell_type": "code",
      "source": [
        "from keras.layers import Dense\n",
        "model.add(Dense(1, input_dim=1, activation='linear'))"
      ],
      "execution_count": 0,
      "outputs": []
    },
    {
      "metadata": {
        "id": "ePRDFrxVI3KD",
        "colab_type": "text"
      },
      "cell_type": "markdown",
      "source": [
        "##誤差函數Loss(w,b)是算MSE(均方誤差)\n",
        "##最佳化w和b的方法是SGD(隨機梯度下降)"
      ]
    },
    {
      "metadata": {
        "id": "yne07GxQFB_f",
        "colab_type": "code",
        "colab": {}
      },
      "cell_type": "code",
      "source": [
        "from keras.optimizers import adam\n",
        "model.compile(loss='MSE',\n",
        "              optimizer='SGD')"
      ],
      "execution_count": 0,
      "outputs": []
    },
    {
      "metadata": {
        "id": "FdoF649QSkQ_",
        "colab_type": "text"
      },
      "cell_type": "markdown",
      "source": [
        "##列出神經網路架構，這個例子只有一層一個神經元，只訓練到w,b兩個參數"
      ]
    },
    {
      "metadata": {
        "id": "_wiZcpqlItVQ",
        "colab_type": "code",
        "outputId": "390d1011-658e-4acf-cc0c-2705bf3f3227",
        "colab": {
          "base_uri": "https://localhost:8080/",
          "height": 170
        }
      },
      "cell_type": "code",
      "source": [
        "model.summary()"
      ],
      "execution_count": 8,
      "outputs": [
        {
          "output_type": "stream",
          "text": [
            "_________________________________________________________________\n",
            "Layer (type)                 Output Shape              Param #   \n",
            "=================================================================\n",
            "dense_1 (Dense)              (None, 1)                 2         \n",
            "=================================================================\n",
            "Total params: 2\n",
            "Trainable params: 2\n",
            "Non-trainable params: 0\n",
            "_________________________________________________________________\n"
          ],
          "name": "stdout"
        }
      ]
    },
    {
      "metadata": {
        "id": "fHFbYjNHTNdY",
        "colab_type": "text"
      },
      "cell_type": "markdown",
      "source": [
        "##開始訓練，先訓練十個回合看看"
      ]
    },
    {
      "metadata": {
        "id": "PFBLINzWLcVK",
        "colab_type": "code",
        "outputId": "9b80d99d-7c35-416b-c2d1-a4227166493d",
        "colab": {
          "base_uri": "https://localhost:8080/",
          "height": 374
        }
      },
      "cell_type": "code",
      "source": [
        "model.fit(x, y, epochs=10)"
      ],
      "execution_count": 9,
      "outputs": [
        {
          "output_type": "stream",
          "text": [
            "Epoch 1/10\n",
            "5/5 [==============================] - 1s 159ms/step - loss: 937.3405\n",
            "Epoch 2/10\n",
            "5/5 [==============================] - 0s 2ms/step - loss: 548.6326\n",
            "Epoch 3/10\n",
            "5/5 [==============================] - 0s 1ms/step - loss: 322.1009\n",
            "Epoch 4/10\n",
            "5/5 [==============================] - 0s 571us/step - loss: 190.0776\n",
            "Epoch 5/10\n",
            "5/5 [==============================] - 0s 686us/step - loss: 113.1291\n",
            "Epoch 6/10\n",
            "5/5 [==============================] - 0s 601us/step - loss: 68.2756\n",
            "Epoch 7/10\n",
            "5/5 [==============================] - 0s 636us/step - loss: 42.1256\n",
            "Epoch 8/10\n",
            "5/5 [==============================] - 0s 1ms/step - loss: 26.8751\n",
            "Epoch 9/10\n",
            "5/5 [==============================] - 0s 845us/step - loss: 17.9764\n",
            "Epoch 10/10\n",
            "5/5 [==============================] - 0s 1ms/step - loss: 12.7793\n"
          ],
          "name": "stdout"
        },
        {
          "output_type": "execute_result",
          "data": {
            "text/plain": [
              "<keras.callbacks.History at 0x7f9572906ba8>"
            ]
          },
          "metadata": {
            "tags": []
          },
          "execution_count": 9
        }
      ]
    },
    {
      "metadata": {
        "id": "zAC7coOHTsin",
        "colab_type": "text"
      },
      "cell_type": "markdown",
      "source": [
        "##用訓練過的模型/網路做預測，輸入訓練的feature，輸出結果應該很接近但不會剛好等於label"
      ]
    },
    {
      "metadata": {
        "id": "tdjspq_VLx9i",
        "colab_type": "code",
        "colab": {
          "base_uri": "https://localhost:8080/",
          "height": 102
        },
        "outputId": "9c7391ed-6540-4e8b-9f0c-0ee5d1597b8b"
      },
      "cell_type": "code",
      "source": [
        "model.predict(x)"
      ],
      "execution_count": 10,
      "outputs": [
        {
          "output_type": "execute_result",
          "data": {
            "text/plain": [
              "array([[11.668959],\n",
              "       [21.29063 ],\n",
              "       [30.912302],\n",
              "       [40.533974],\n",
              "       [50.155647]], dtype=float32)"
            ]
          },
          "metadata": {
            "tags": []
          },
          "execution_count": 10
        }
      ]
    },
    {
      "metadata": {
        "id": "k8Sk7LOPQEiD",
        "colab_type": "code",
        "colab": {
          "base_uri": "https://localhost:8080/",
          "height": 364
        },
        "outputId": "1c4292a7-2a9c-4a17-daec-0b3461dfc07a"
      },
      "cell_type": "code",
      "source": [
        "plt.scatter(x, y)\n",
        "plt.plot(x, model.predict(x), color='red')"
      ],
      "execution_count": 11,
      "outputs": [
        {
          "output_type": "execute_result",
          "data": {
            "text/plain": [
              "[<matplotlib.lines.Line2D at 0x7f9571f494e0>]"
            ]
          },
          "metadata": {
            "tags": []
          },
          "execution_count": 11
        },
        {
          "output_type": "display_data",
          "data": {
            "image/png": "[encoded data removed]",
            "text/plain": [
              "<matplotlib.figure.Figure at 0x7f9571f494a8>"
            ]
          },
          "metadata": {
            "tags": []
          }
        }
      ]
    }
  ]
}