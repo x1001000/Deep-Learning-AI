{
 "cells": [
  {
   "cell_type": "markdown",
   "metadata": {
    "colab_type": "text",
    "id": "motxQ-WfV9vO"
   },
   "source": [
    "# Data"
   ]
  },
  {
   "cell_type": "markdown",
   "metadata": {
    "colab_type": "text",
    "id": "86D8fM6-33Yk"
   },
   "source": [
    "1. 資料都是數據化的多維陣列  \n",
    "資料常要視覺化以幫助理解\n",
    "\n",
    "2. 匯入多維陣列運算要用的函式庫 numpy，以下簡稱為 np  \n",
    "匯入作圖要用的函式庫 matplotlib.pyplot，以下簡稱為 plt"
   ]
  },
  {
   "cell_type": "code",
   "execution_count": 1,
   "metadata": {
    "colab": {},
    "colab_type": "code",
    "id": "jRG5EitZxlcO"
   },
   "outputs": [],
   "source": [
    "import numpy as np\n",
    "import matplotlib.pyplot as plt"
   ]
  },
  {
   "cell_type": "markdown",
   "metadata": {
    "colab_type": "text",
    "id": "L-WBfUAK_QB1"
   },
   "source": [
    "3. 串列(list)與陣列(array)的元素，皆有序可供索引  \n",
    "串列的元素可以不同類別  \n",
    "陣列的元素必須相同類別，儲存在記憶體的一段連續位址上\n",
    "\n",
    "4. 複習一下串列"
   ]
  },
  {
   "cell_type": "code",
   "execution_count": 2,
   "metadata": {
    "colab": {
     "base_uri": "https://localhost:8080/",
     "height": 51
    },
    "colab_type": "code",
    "id": "pCnkWRWq4uTb",
    "outputId": "b8275bd6-4925-4545-92b1-04da2a6774ab"
   },
   "outputs": [
    {
     "name": "stdout",
     "output_type": "stream",
     "text": [
      "<class 'list'>\n",
      "2\n"
     ]
    }
   ],
   "source": [
    "a = [ [3,4,5,6], [7,8,9,0] ]\n",
    "print(type(a))\n",
    "print(len(a))"
   ]
  },
  {
   "cell_type": "markdown",
   "metadata": {
    "colab_type": "text",
    "id": "axn22aoT9nGX"
   },
   "source": [
    "5. 陣列 = np.array(串列)\n",
    "\n",
    "6. 陣列 aka 張量  \n",
    "矩陣 aka 二維張量  \n",
    "向量 aka 一維張量\n",
    "\n",
    "7. 查看陣列的形狀(shape)及維度(ndim)"
   ]
  },
  {
   "cell_type": "code",
   "execution_count": 3,
   "metadata": {
    "colab": {
     "base_uri": "https://localhost:8080/",
     "height": 85
    },
    "colab_type": "code",
    "id": "hWJFxi7H5WnJ",
    "outputId": "61169942-4b87-40bc-d9c9-8f0be003b314"
   },
   "outputs": [
    {
     "name": "stdout",
     "output_type": "stream",
     "text": [
      "<class 'numpy.ndarray'>\n",
      "5\n",
      "(5, 2, 4)\n",
      "3\n"
     ]
    }
   ],
   "source": [
    "a = np.array( [a,a,a,a,a] )\n",
    "print(type(a))\n",
    "print(len(a))\n",
    "print(a.shape)\n",
    "print(a.ndim)"
   ]
  },
  {
   "cell_type": "markdown",
   "metadata": {
    "colab_type": "text",
    "id": "Ww97ynVlHelS"
   },
   "source": [
    "# Linear Regression"
   ]
  },
  {
   "cell_type": "markdown",
   "metadata": {
    "colab_type": "text",
    "id": "nd3tbvdjx6yS"
   },
   "source": [
    "8. 線性迴歸就是求最接近全部樣本的一個線性函數\n",
    "\n",
    "9. 用一個極簡的例子來理解何謂訓練神經元(線性迴歸)  \n",
    "用五筆x(feature)及其y(label)，反覆更新w(weight)和b(bias)，使得線性函數y=wx+b更接近這五個資料點"
   ]
  },
  {
   "cell_type": "code",
   "execution_count": 4,
   "metadata": {
    "colab": {
     "base_uri": "https://localhost:8080/",
     "height": 364
    },
    "colab_type": "code",
    "id": "YRHkFXTM2uNm",
    "outputId": "fbf895d5-f892-429d-ca8d-745a4bb53d6d"
   },
   "outputs": [
    {
     "data": {
      "text/plain": [
       "<matplotlib.collections.PathCollection at 0x10bf75400>"
      ]
     },
     "execution_count": 4,
     "metadata": {},
     "output_type": "execute_result"
    },
    {
     "data": {
      "image/png": "[encoded data removed]",
      "text/plain": [
       "<Figure size 432x288 with 1 Axes>"
      ]
     },
     "metadata": {},
     "output_type": "display_data"
    }
   ],
   "source": [
    "x = np.array( [1,2,3,4,5]      )\n",
    "y = np.array( [10,20,30,45,55] )\n",
    "plt.scatter(x,y)"
   ]
  },
  {
   "cell_type": "markdown",
   "metadata": {
    "colab_type": "text",
    "id": "nO1Vgsk9XRzQ"
   },
   "source": [
    "# Model"
   ]
  },
  {
   "cell_type": "markdown",
   "metadata": {
    "colab_type": "text",
    "id": "K27ixz0BBeDZ"
   },
   "source": [
    "10. 初學者用高階的Keras函式庫(之後再用TensorFlow函式庫)  \n",
    "初學者用順序式模型(之後再用函數式模型)"
   ]
  },
  {
   "cell_type": "code",
   "execution_count": 5,
   "metadata": {
    "colab": {
     "base_uri": "https://localhost:8080/",
     "height": 34
    },
    "colab_type": "code",
    "id": "ub7Iwo_0A-I1",
    "outputId": "e61ab370-310b-43fb-c1e1-31372df90199"
   },
   "outputs": [
    {
     "name": "stderr",
     "output_type": "stream",
     "text": [
      "Using TensorFlow backend.\n"
     ]
    }
   ],
   "source": [
    "from keras.models import Sequential\n",
    "model = Sequential()"
   ]
  },
  {
   "cell_type": "markdown",
   "metadata": {
    "colab_type": "text",
    "id": "QSEXUNnHFgSa"
   },
   "source": [
    "11. Dense(全連接)層的三個引數：  \n",
    "輸出y為一維的向量，故只需units=1個神經元  \n",
    "輸入x為一維的向量，故這個Dense層的input_dim=1  \n",
    "激活函數activation=None，讓y直接等於f(x)"
   ]
  },
  {
   "cell_type": "code",
   "execution_count": 6,
   "metadata": {
    "colab": {},
    "colab_type": "code",
    "id": "CEQ_nRkpBRVh"
   },
   "outputs": [],
   "source": [
    "from keras.layers import Dense\n",
    "model.add(Dense(units=1, input_dim=1, activation=None))"
   ]
  },
  {
   "cell_type": "markdown",
   "metadata": {
    "colab_type": "text",
    "id": "FdoF649QSkQ_"
   },
   "source": [
    "12. 列印神經網路架構  \n",
    "這個極簡的例子只有一個神經元，只訓練到w和b兩個模型參數"
   ]
  },
  {
   "cell_type": "code",
   "execution_count": 7,
   "metadata": {
    "colab": {
     "base_uri": "https://localhost:8080/",
     "height": 170
    },
    "colab_type": "code",
    "id": "_wiZcpqlItVQ",
    "outputId": "699ff528-c2fc-4a10-b4c0-099bbceff86b"
   },
   "outputs": [
    {
     "name": "stdout",
     "output_type": "stream",
     "text": [
      "_________________________________________________________________\n",
      "Layer (type)                 Output Shape              Param #   \n",
      "=================================================================\n",
      "dense_1 (Dense)              (None, 1)                 2         \n",
      "=================================================================\n",
      "Total params: 2\n",
      "Trainable params: 2\n",
      "Non-trainable params: 0\n",
      "_________________________________________________________________\n"
     ]
    }
   ],
   "source": [
    "model.summary()"
   ]
  },
  {
   "cell_type": "markdown",
   "metadata": {
    "colab_type": "text",
    "id": "fHFbYjNHTNdY"
   },
   "source": [
    "# Train"
   ]
  },
  {
   "cell_type": "markdown",
   "metadata": {
    "colab_type": "text",
    "id": "ePRDFrxVI3KD"
   },
   "source": [
    "13. [Before training a model, you need to configure the learning process, which is done via the compile method.](https://keras.io/getting-started/sequential-model-guide/)\n",
    "\n",
    "14. 模型參數的誤差函數Loss(w,b)的算法，採用MSE(均方誤差法)  \n",
    "模型參數w和b的最佳解的找法，採用SGD(隨機梯度下降法)"
   ]
  },
  {
   "cell_type": "code",
   "execution_count": 8,
   "metadata": {
    "colab": {},
    "colab_type": "code",
    "id": "yne07GxQFB_f"
   },
   "outputs": [],
   "source": [
    "model.compile(loss='MSE',\n",
    "              optimizer='SGD')"
   ]
  },
  {
   "cell_type": "markdown",
   "metadata": {
    "colab_type": "text",
    "id": "_-qG1KEGHs-G"
   },
   "source": [
    "15. 訓練10個回合(epochs)"
   ]
  },
  {
   "cell_type": "code",
   "execution_count": 9,
   "metadata": {
    "colab": {
     "base_uri": "https://localhost:8080/",
     "height": 374
    },
    "colab_type": "code",
    "id": "PFBLINzWLcVK",
    "outputId": "f95e7edb-ec52-4844-cf43-2ffe9ab31d1f"
   },
   "outputs": [
    {
     "name": "stdout",
     "output_type": "stream",
     "text": [
      "Epoch 1/10\n",
      "5/5 [==============================] - 0s 23ms/step - loss: 968.4266\n",
      "Epoch 2/10\n",
      "5/5 [==============================] - 0s 486us/step - loss: 566.7767\n",
      "Epoch 3/10\n",
      "5/5 [==============================] - 0s 537us/step - loss: 332.7027\n",
      "Epoch 4/10\n",
      "5/5 [==============================] - 0s 391us/step - loss: 196.2840\n",
      "Epoch 5/10\n",
      "5/5 [==============================] - 0s 598us/step - loss: 116.7739\n",
      "Epoch 6/10\n",
      "5/5 [==============================] - 0s 721us/step - loss: 70.4274\n",
      "Epoch 7/10\n",
      "5/5 [==============================] - 0s 460us/step - loss: 43.4072\n",
      "Epoch 8/10\n",
      "5/5 [==============================] - 0s 454us/step - loss: 27.6494\n",
      "Epoch 9/10\n",
      "5/5 [==============================] - 0s 469us/step - loss: 18.4548\n",
      "Epoch 10/10\n",
      "5/5 [==============================] - 0s 672us/step - loss: 13.0851\n"
     ]
    },
    {
     "data": {
      "text/plain": [
       "<keras.callbacks.History at 0x11ec6e5c0>"
      ]
     },
     "execution_count": 9,
     "metadata": {},
     "output_type": "execute_result"
    }
   ],
   "source": [
    "model.fit(x, y, epochs=10)"
   ]
  },
  {
   "cell_type": "markdown",
   "metadata": {
    "colab_type": "text",
    "id": "7Y6CSiUasrMe"
   },
   "source": [
    "16. 看w和b"
   ]
  },
  {
   "cell_type": "code",
   "execution_count": 10,
   "metadata": {
    "colab": {
     "base_uri": "https://localhost:8080/",
     "height": 51
    },
    "colab_type": "code",
    "id": "DbIZphaXL6FM",
    "outputId": "b9155ed1-d08e-4eaa-c1e0-463ab1c4eb47"
   },
   "outputs": [
    {
     "name": "stdout",
     "output_type": "stream",
     "text": [
      "w = 9.60171\n",
      "b = 2.0824652\n"
     ]
    }
   ],
   "source": [
    "w, b = model.layers[0].get_weights()\n",
    "print('w =', w[0,0])\n",
    "print('b =', b[0])"
   ]
  },
  {
   "cell_type": "markdown",
   "metadata": {
    "colab_type": "text",
    "id": "9MgPWwvCONjz"
   },
   "source": [
    "17. 再訓練10個回合(epochs)"
   ]
  },
  {
   "cell_type": "code",
   "execution_count": 11,
   "metadata": {
    "colab": {
     "base_uri": "https://localhost:8080/",
     "height": 374
    },
    "colab_type": "code",
    "id": "Wjei0gNSN6d0",
    "outputId": "880c7b32-8d36-4e29-839e-2b7ff08d838b"
   },
   "outputs": [
    {
     "name": "stdout",
     "output_type": "stream",
     "text": [
      "Epoch 1/10\n",
      "5/5 [==============================] - 0s 756us/step - loss: 9.9444\n",
      "Epoch 2/10\n",
      "5/5 [==============================] - 0s 393us/step - loss: 8.1028\n",
      "Epoch 3/10\n",
      "5/5 [==============================] - 0s 614us/step - loss: 7.0182\n",
      "Epoch 4/10\n",
      "5/5 [==============================] - 0s 655us/step - loss: 6.3749\n",
      "Epoch 5/10\n",
      "5/5 [==============================] - 0s 636us/step - loss: 5.9888\n",
      "Epoch 6/10\n",
      "5/5 [==============================] - 0s 483us/step - loss: 5.7526\n",
      "Epoch 7/10\n",
      "5/5 [==============================] - 0s 399us/step - loss: 5.6040\n",
      "Epoch 8/10\n",
      "5/5 [==============================] - 0s 364us/step - loss: 5.5064\n",
      "Epoch 9/10\n",
      "5/5 [==============================] - 0s 611us/step - loss: 5.4386\n",
      "Epoch 10/10\n",
      "5/5 [==============================] - 0s 503us/step - loss: 5.3883\n"
     ]
    },
    {
     "data": {
      "text/plain": [
       "<keras.callbacks.History at 0x11ee3f5f8>"
      ]
     },
     "execution_count": 11,
     "metadata": {},
     "output_type": "execute_result"
    }
   ],
   "source": [
    "model.fit(x, y, epochs=10)"
   ]
  },
  {
   "cell_type": "markdown",
   "metadata": {
    "colab_type": "text",
    "id": "gGWd2Aids0Hh"
   },
   "source": [
    "18. 再看w和b"
   ]
  },
  {
   "cell_type": "code",
   "execution_count": 12,
   "metadata": {
    "colab": {
     "base_uri": "https://localhost:8080/",
     "height": 51
    },
    "colab_type": "code",
    "id": "jvG9O0g2N_AL",
    "outputId": "018d9563-c23f-462f-fa15-79ab6db6f68a"
   },
   "outputs": [
    {
     "name": "stdout",
     "output_type": "stream",
     "text": [
      "w = 10.190408\n",
      "b = 2.0754204\n"
     ]
    }
   ],
   "source": [
    "w, b = model.layers[0].get_weights()\n",
    "print('w =', w[0,0])\n",
    "print('b =', b[0])"
   ]
  },
  {
   "cell_type": "markdown",
   "metadata": {
    "colab_type": "text",
    "id": "z9n9HHRaISJV"
   },
   "source": [
    "# Inference"
   ]
  },
  {
   "cell_type": "markdown",
   "metadata": {
    "colab_type": "text",
    "id": "zAC7coOHTsin"
   },
   "source": [
    "19. 用訓練過的模型/神經網路做推論/預測  \n",
    "輸入訓練資料的feature，輸出值接近但不等於label"
   ]
  },
  {
   "cell_type": "code",
   "execution_count": 13,
   "metadata": {
    "colab": {
     "base_uri": "https://localhost:8080/",
     "height": 102
    },
    "colab_type": "code",
    "id": "tdjspq_VLx9i",
    "outputId": "521cd3a6-5640-466b-9656-ef537784de73"
   },
   "outputs": [
    {
     "data": {
      "text/plain": [
       "array([[12.265828],\n",
       "       [22.456236],\n",
       "       [32.646645],\n",
       "       [42.83705 ],\n",
       "       [53.02746 ]], dtype=float32)"
      ]
     },
     "execution_count": 13,
     "metadata": {},
     "output_type": "execute_result"
    }
   ],
   "source": [
    "model.predict(x)"
   ]
  },
  {
   "cell_type": "markdown",
   "metadata": {
    "colab_type": "text",
    "id": "vxR7GKyWtgaw"
   },
   "source": [
    "20. 訓練資料為藍色點  \n",
    "預測結果為紅色點  \n",
    "五點連線為一直線，因為此模型只有一個神經元，神經元是一個線性函數"
   ]
  },
  {
   "cell_type": "code",
   "execution_count": 14,
   "metadata": {
    "colab": {
     "base_uri": "https://localhost:8080/",
     "height": 364
    },
    "colab_type": "code",
    "id": "k8Sk7LOPQEiD",
    "outputId": "1969f65a-1c36-4d26-db20-2a5c910de504"
   },
   "outputs": [
    {
     "data": {
      "text/plain": [
       "[<matplotlib.lines.Line2D at 0x11ee0ddd8>]"
      ]
     },
     "execution_count": 14,
     "metadata": {},
     "output_type": "execute_result"
    },
    {
     "data": {
      "image/png": "[encoded data removed]",
      "text/plain": [
       "<Figure size 432x288 with 1 Axes>"
      ]
     },
     "metadata": {},
     "output_type": "display_data"
    }
   ],
   "source": [
    "plt.scatter(x, y)\n",
    "plt.scatter(x, model.predict(x), color='red')\n",
    "plt.plot(x, model.predict(x), color='red')"
   ]
  }
 ],
 "metadata": {
  "accelerator": "GPU",
  "colab": {
   "collapsed_sections": [],
   "name": "neuron.ipynb",
   "provenance": [],
   "version": "0.3.2"
  },
  "kernelspec": {
   "display_name": "Python 3",
   "language": "python",
   "name": "python3"
  },
  "language_info": {
   "codemirror_mode": {
    "name": "ipython",
    "version": 3
   },
   "file_extension": ".py",
   "mimetype": "text/x-python",
   "name": "python",
   "nbconvert_exporter": "python",
   "pygments_lexer": "ipython3",
   "version": "3.6.6"
  }
 },
 "nbformat": 4,
 "nbformat_minor": 1
}
