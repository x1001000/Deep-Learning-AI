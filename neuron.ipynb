{
  "nbformat": 4,
  "nbformat_minor": 0,
  "metadata": {
    "colab": {
      "name": "neuron.ipynb",
      "version": "0.3.2",
      "provenance": [],
      "include_colab_link": true
    },
    "kernelspec": {
      "name": "python3",
      "display_name": "Python 3"
    },
    "accelerator": "GPU"
  },
  "cells": [
    {
      "cell_type": "markdown",
      "metadata": {
        "id": "view-in-github",
        "colab_type": "text"
      },
      "source": [
        "<a href=\"https://colab.research.google.com/github/x1001000/Learn_Deep_Learning_Deep/blob/master/neuron.ipynb\" target=\"_parent\"><img src=\"https://colab.research.google.com/assets/colab-badge.svg\" alt=\"Open In Colab\"/></a>"
      ]
    },
    {
      "metadata": {
        "id": "motxQ-WfV9vO",
        "colab_type": "text"
      },
      "cell_type": "markdown",
      "source": [
        "# Data"
      ]
    },
    {
      "metadata": {
        "id": "86D8fM6-33Yk",
        "colab_type": "text"
      },
      "cell_type": "markdown",
      "source": [
        "1. 資料都是數據化的多維陣列  \n",
        "資料常要視覺化以幫助理解\n",
        "\n",
        "2. 匯入多維陣列運算要用的函式庫 numpy，以下簡稱為 np  \n",
        "匯入作圖要用的函式庫 matplotlib.pyplot，以下簡稱為 plt"
      ]
    },
    {
      "metadata": {
        "id": "jRG5EitZxlcO",
        "colab_type": "code",
        "colab": {}
      },
      "cell_type": "code",
      "source": [
        "import numpy as np\n",
        "import matplotlib.pyplot as plt"
      ],
      "execution_count": 0,
      "outputs": []
    },
    {
      "metadata": {
        "id": "L-WBfUAK_QB1",
        "colab_type": "text"
      },
      "cell_type": "markdown",
      "source": [
        "3. 串列(list)與陣列(array)的元素，皆有序可供索引  \n",
        "串列的元素可以不同類別  \n",
        "陣列的元素必須相同類別，儲存在記憶體的一段連續位址上\n",
        "\n",
        "4. 複習一下串列"
      ]
    },
    {
      "metadata": {
        "id": "pCnkWRWq4uTb",
        "colab_type": "code",
        "outputId": "eb5c6142-4d79-42b4-94fc-cf7ad3821a5f",
        "colab": {
          "base_uri": "https://localhost:8080/",
          "height": 51
        }
      },
      "cell_type": "code",
      "source": [
        "a = [ [3,4,5,6], [7,8,9,0] ]\n",
        "print(type(a))\n",
        "print(len(a))"
      ],
      "execution_count": 2,
      "outputs": [
        {
          "output_type": "stream",
          "text": [
            "<class 'list'>\n",
            "2\n"
          ],
          "name": "stdout"
        }
      ]
    },
    {
      "metadata": {
        "id": "axn22aoT9nGX",
        "colab_type": "text"
      },
      "cell_type": "markdown",
      "source": [
        "5. 陣列 = np.array(串列)\n",
        "\n",
        "6. 陣列 aka 張量  \n",
        "矩陣 aka 二維張量  \n",
        "向量 aka 一維張量\n",
        "\n",
        "7. 查看陣列的形狀(shape)及維度(ndim)"
      ]
    },
    {
      "metadata": {
        "id": "hWJFxi7H5WnJ",
        "colab_type": "code",
        "outputId": "4e7fa273-e565-49c9-b999-6a792f134357",
        "colab": {
          "base_uri": "https://localhost:8080/",
          "height": 85
        }
      },
      "cell_type": "code",
      "source": [
        "a = np.array( [a,a,a,a,a] )\n",
        "print(type(a))\n",
        "print(len(a))\n",
        "print(a.shape)\n",
        "print(a.ndim)"
      ],
      "execution_count": 3,
      "outputs": [
        {
          "output_type": "stream",
          "text": [
            "<class 'numpy.ndarray'>\n",
            "5\n",
            "(5, 2, 4)\n",
            "3\n"
          ],
          "name": "stdout"
        }
      ]
    },
    {
      "metadata": {
        "id": "Ww97ynVlHelS",
        "colab_type": "text"
      },
      "cell_type": "markdown",
      "source": [
        "# Linear Regression"
      ]
    },
    {
      "metadata": {
        "id": "nd3tbvdjx6yS",
        "colab_type": "text"
      },
      "cell_type": "markdown",
      "source": [
        "8. 線性迴歸就是求最接近全部樣本的一個線性函數\n",
        "\n",
        "9. 用一個極簡的例子來理解何謂訓練神經元(線性迴歸)  \n",
        "用五筆x(feature)及其y(label)，反覆更新w(weight)和b(bias)，使得線性函數y=wx+b更接近這五個資料點"
      ]
    },
    {
      "metadata": {
        "id": "YRHkFXTM2uNm",
        "colab_type": "code",
        "outputId": "5395e063-6fa8-451a-8b02-b719d731273a",
        "colab": {
          "base_uri": "https://localhost:8080/",
          "height": 364
        }
      },
      "cell_type": "code",
      "source": [
        "x = np.array( [1,2,3,4,5]      )\n",
        "y = np.array( [10,20,30,45,55] )\n",
        "plt.scatter(x,y)"
      ],
      "execution_count": 4,
      "outputs": [
        {
          "output_type": "execute_result",
          "data": {
            "text/plain": [
              "<matplotlib.collections.PathCollection at 0x7fd0df519b70>"
            ]
          },
          "metadata": {
            "tags": []
          },
          "execution_count": 4
        },
        {
          "output_type": "display_data",
          "data": {
            "image/png": "[encoded data removed]",
            "text/plain": [
              "<matplotlib.figure.Figure at 0x7fd0df59ee80>"
            ]
          },
          "metadata": {
            "tags": []
          }
        }
      ]
    },
    {
      "metadata": {
        "id": "nO1Vgsk9XRzQ",
        "colab_type": "text"
      },
      "cell_type": "markdown",
      "source": [
        "# Model"
      ]
    },
    {
      "metadata": {
        "id": "K27ixz0BBeDZ",
        "colab_type": "text"
      },
      "cell_type": "markdown",
      "source": [
        "10. 初學者用高階的Keras函式庫(之後再用TensorFlow函式庫)  \n",
        "初學者用順序式模型(之後再用函數式模型)"
      ]
    },
    {
      "metadata": {
        "id": "ub7Iwo_0A-I1",
        "colab_type": "code",
        "outputId": "89e68571-dd75-4507-84f5-d74158f72aa3",
        "colab": {
          "base_uri": "https://localhost:8080/",
          "height": 34
        }
      },
      "cell_type": "code",
      "source": [
        "from keras.models import Sequential\n",
        "model = Sequential()"
      ],
      "execution_count": 5,
      "outputs": [
        {
          "output_type": "stream",
          "text": [
            "Using TensorFlow backend.\n"
          ],
          "name": "stderr"
        }
      ]
    },
    {
      "metadata": {
        "id": "QSEXUNnHFgSa",
        "colab_type": "text"
      },
      "cell_type": "markdown",
      "source": [
        "11. Dense(全連接)層的三個引數：  \n",
        "輸出y為一維的向量，故只需units=1個神經元  \n",
        "輸入x為一維的向量，故這個Dense層的input_dim=1  \n",
        "激活函數activation=None，讓y直接等於f(x)"
      ]
    },
    {
      "metadata": {
        "id": "CEQ_nRkpBRVh",
        "colab_type": "code",
        "colab": {}
      },
      "cell_type": "code",
      "source": [
        "from keras.layers import Dense\n",
        "model.add(Dense(units=1, input_dim=1, activation=None))"
      ],
      "execution_count": 0,
      "outputs": []
    },
    {
      "metadata": {
        "id": "FdoF649QSkQ_",
        "colab_type": "text"
      },
      "cell_type": "markdown",
      "source": [
        "12. 列印神經網路架構  \n",
        "這個極簡的例子只有一個神經元，只訓練到w和b兩個模型參數"
      ]
    },
    {
      "metadata": {
        "id": "_wiZcpqlItVQ",
        "colab_type": "code",
        "outputId": "045246ac-7446-4ed0-91bb-c79fe99602d1",
        "colab": {
          "base_uri": "https://localhost:8080/",
          "height": 170
        }
      },
      "cell_type": "code",
      "source": [
        "model.summary()"
      ],
      "execution_count": 7,
      "outputs": [
        {
          "output_type": "stream",
          "text": [
            "_________________________________________________________________\n",
            "Layer (type)                 Output Shape              Param #   \n",
            "=================================================================\n",
            "dense_1 (Dense)              (None, 1)                 2         \n",
            "=================================================================\n",
            "Total params: 2\n",
            "Trainable params: 2\n",
            "Non-trainable params: 0\n",
            "_________________________________________________________________\n"
          ],
          "name": "stdout"
        }
      ]
    },
    {
      "metadata": {
        "id": "ePRDFrxVI3KD",
        "colab_type": "text"
      },
      "cell_type": "markdown",
      "source": [
        "13. [Before training a model, you need to configure the learning process, which is done via the compile method.](https://keras.io/getting-started/sequential-model-guide/)\n",
        "\n",
        "14. 模型參數的誤差函數Loss(w,b)的算法，採用MSE(均方誤差法)  \n",
        "模型參數w和b的最佳解的找法，採用SGD(隨機梯度下降法)"
      ]
    },
    {
      "metadata": {
        "id": "yne07GxQFB_f",
        "colab_type": "code",
        "colab": {}
      },
      "cell_type": "code",
      "source": [
        "model.compile(loss='MSE',\n",
        "              optimizer='SGD')"
      ],
      "execution_count": 0,
      "outputs": []
    },
    {
      "metadata": {
        "id": "fHFbYjNHTNdY",
        "colab_type": "text"
      },
      "cell_type": "markdown",
      "source": [
        "# Train"
      ]
    },
    {
      "metadata": {
        "id": "_-qG1KEGHs-G",
        "colab_type": "text"
      },
      "cell_type": "markdown",
      "source": [
        "15. 訓練10個回合(epochs)\n",
        "\n",
        "16. 看w和b"
      ]
    },
    {
      "metadata": {
        "id": "PFBLINzWLcVK",
        "colab_type": "code",
        "outputId": "af337b46-883f-4350-c693-4a6518a7f640",
        "colab": {
          "base_uri": "https://localhost:8080/",
          "height": 374
        }
      },
      "cell_type": "code",
      "source": [
        "model.fit(x, y, epochs=10)"
      ],
      "execution_count": 9,
      "outputs": [
        {
          "output_type": "stream",
          "text": [
            "Epoch 1/10\n",
            "5/5 [==============================] - 1s 166ms/step - loss: 983.0392\n",
            "Epoch 2/10\n",
            "5/5 [==============================] - 0s 2ms/step - loss: 575.3055\n",
            "Epoch 3/10\n",
            "5/5 [==============================] - 0s 628us/step - loss: 337.6861\n",
            "Epoch 4/10\n",
            "5/5 [==============================] - 0s 1ms/step - loss: 199.2012\n",
            "Epoch 5/10\n",
            "5/5 [==============================] - 0s 1ms/step - loss: 118.4870\n",
            "Epoch 6/10\n",
            "5/5 [==============================] - 0s 931us/step - loss: 71.4387\n",
            "Epoch 7/10\n",
            "5/5 [==============================] - 0s 682us/step - loss: 44.0094\n",
            "Epoch 8/10\n",
            "5/5 [==============================] - 0s 917us/step - loss: 28.0132\n",
            "Epoch 9/10\n",
            "5/5 [==============================] - 0s 1ms/step - loss: 18.6796\n",
            "Epoch 10/10\n",
            "5/5 [==============================] - 0s 546us/step - loss: 13.2287\n"
          ],
          "name": "stdout"
        },
        {
          "output_type": "execute_result",
          "data": {
            "text/plain": [
              "<keras.callbacks.History at 0x7fd09ec15668>"
            ]
          },
          "metadata": {
            "tags": []
          },
          "execution_count": 9
        }
      ]
    },
    {
      "metadata": {
        "id": "DbIZphaXL6FM",
        "colab_type": "code",
        "outputId": "fdd78150-c29b-46d6-80ff-c0f016ae7322",
        "colab": {
          "base_uri": "https://localhost:8080/",
          "height": 51
        }
      },
      "cell_type": "code",
      "source": [
        "w, b = model.layers[0].get_weights()\n",
        "print('w =', w[0,0])\n",
        "print('b =', b[0])"
      ],
      "execution_count": 10,
      "outputs": [
        {
          "output_type": "stream",
          "text": [
            "w = 9.592438\n",
            "b = 2.0988064\n"
          ],
          "name": "stdout"
        }
      ]
    },
    {
      "metadata": {
        "id": "9MgPWwvCONjz",
        "colab_type": "text"
      },
      "cell_type": "markdown",
      "source": [
        "17. 再訓練10個回合(epochs)\n",
        "\n",
        "18. 再看w和b"
      ]
    },
    {
      "metadata": {
        "id": "Wjei0gNSN6d0",
        "colab_type": "code",
        "outputId": "781ffa79-14ab-4c5f-a77a-a82abba50e71",
        "colab": {
          "base_uri": "https://localhost:8080/",
          "height": 374
        }
      },
      "cell_type": "code",
      "source": [
        "model.fit(x, y, epochs=10)"
      ],
      "execution_count": 11,
      "outputs": [
        {
          "output_type": "stream",
          "text": [
            "Epoch 1/10\n",
            "5/5 [==============================] - 0s 1ms/step - loss: 10.0407\n",
            "Epoch 2/10\n",
            "5/5 [==============================] - 0s 578us/step - loss: 8.1713\n",
            "Epoch 3/10\n",
            "5/5 [==============================] - 0s 559us/step - loss: 7.0705\n",
            "Epoch 4/10\n",
            "5/5 [==============================] - 0s 2ms/step - loss: 6.4177\n",
            "Epoch 5/10\n",
            "5/5 [==============================] - 0s 626us/step - loss: 6.0259\n",
            "Epoch 6/10\n",
            "5/5 [==============================] - 0s 946us/step - loss: 5.7864\n",
            "Epoch 7/10\n",
            "5/5 [==============================] - 0s 817us/step - loss: 5.6358\n",
            "Epoch 8/10\n",
            "5/5 [==============================] - 0s 824us/step - loss: 5.5369\n",
            "Epoch 9/10\n",
            "5/5 [==============================] - 0s 586us/step - loss: 5.4683\n",
            "Epoch 10/10\n",
            "5/5 [==============================] - 0s 603us/step - loss: 5.4174\n"
          ],
          "name": "stdout"
        },
        {
          "output_type": "execute_result",
          "data": {
            "text/plain": [
              "<keras.callbacks.History at 0x7fd09e2b3710>"
            ]
          },
          "metadata": {
            "tags": []
          },
          "execution_count": 11
        }
      ]
    },
    {
      "metadata": {
        "id": "jvG9O0g2N_AL",
        "colab_type": "code",
        "outputId": "40f2d350-1816-4d32-e604-ff847995b33c",
        "colab": {
          "base_uri": "https://localhost:8080/",
          "height": 51
        }
      },
      "cell_type": "code",
      "source": [
        "w, b = model.layers[0].get_weights()\n",
        "print('w =', w[0,0])\n",
        "print('b =', b[0])"
      ],
      "execution_count": 12,
      "outputs": [
        {
          "output_type": "stream",
          "text": [
            "w = 10.185409\n",
            "b = 2.0923162\n"
          ],
          "name": "stdout"
        }
      ]
    },
    {
      "metadata": {
        "id": "z9n9HHRaISJV",
        "colab_type": "text"
      },
      "cell_type": "markdown",
      "source": [
        "# Inference"
      ]
    },
    {
      "metadata": {
        "id": "zAC7coOHTsin",
        "colab_type": "text"
      },
      "cell_type": "markdown",
      "source": [
        "19. 用訓練過的模型/網路做預測  \n",
        "輸入訓練用的feature，輸出結果應該很接近但不會剛好等於label"
      ]
    },
    {
      "metadata": {
        "id": "tdjspq_VLx9i",
        "colab_type": "code",
        "outputId": "9e1d633e-1d8b-4a91-a9b2-de4743fb11f6",
        "colab": {
          "base_uri": "https://localhost:8080/",
          "height": 102
        }
      },
      "cell_type": "code",
      "source": [
        "model.predict(x)"
      ],
      "execution_count": 13,
      "outputs": [
        {
          "output_type": "execute_result",
          "data": {
            "text/plain": [
              "array([[12.277725],\n",
              "       [22.463133],\n",
              "       [32.64854 ],\n",
              "       [42.83395 ],\n",
              "       [53.01936 ]], dtype=float32)"
            ]
          },
          "metadata": {
            "tags": []
          },
          "execution_count": 13
        }
      ]
    },
    {
      "metadata": {
        "id": "k8Sk7LOPQEiD",
        "colab_type": "code",
        "outputId": "df9fb3b5-5235-4cbd-cac4-07c3f75f3c52",
        "colab": {
          "base_uri": "https://localhost:8080/",
          "height": 364
        }
      },
      "cell_type": "code",
      "source": [
        "plt.scatter(x, y)\n",
        "plt.plot(x, model.predict(x), color='red')"
      ],
      "execution_count": 14,
      "outputs": [
        {
          "output_type": "execute_result",
          "data": {
            "text/plain": [
              "[<matplotlib.lines.Line2D at 0x7fd0df59e860>]"
            ]
          },
          "metadata": {
            "tags": []
          },
          "execution_count": 14
        },
        {
          "output_type": "display_data",
          "data": {
            "image/png": "[encoded data removed]",
            "text/plain": [
              "<matplotlib.figure.Figure at 0x7fd09e2b3f60>"
            ]
          },
          "metadata": {
            "tags": []
          }
        }
      ]
    }
  ]
}