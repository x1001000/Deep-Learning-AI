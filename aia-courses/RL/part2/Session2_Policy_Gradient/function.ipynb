{
 "cells": [
  {
   "cell_type": "markdown",
   "metadata": {},
   "source": [
    "# Function1"
   ]
  },
  {
   "cell_type": "code",
   "execution_count": null,
   "metadata": {
    "collapsed": true
   },
   "outputs": [],
   "source": [
    "with tf.variable_scope(scope):\n",
    "            init_w = tf.random_normal_initializer(0., 0.3)\n",
    "            init_b = tf.constant_initializer(0.1)\n",
    "            \n",
    "            x_h1 = tf.layers.dense(inputs = self.state_input, units = neuron_num, \\\n",
    "                   activation = tf.nn.tanh, kernel_initializer=init_w, \\\n",
    "                   bias_initializer=init_b, trainable=Trainable) \n",
    "            x_h2 = tf.layers.dense(inputs = self.state_input, units = neuron_num, \\\n",
    "                   activation = tf.nn.tanh, kernel_initializer=init_w, \\\n",
    "                   bias_initializer=init_b, trainable=Trainable)\n",
    "            \n",
    "            output = tf.layers.dense(inputs = x_h2, units = self.n_actions, \\\n",
    "                   activation = tf.nn.softmax, kernel_initializer=init_w, \\\n",
    "                   bias_initializer=init_b, trainable=Trainable)#輸出為個行為的機率，因此使用softmax\n",
    "            \n",
    "        \n",
    "        return output #輸出‘不同動作’對應的Q值"
   ]
  },
  {
   "cell_type": "markdown",
   "metadata": {},
   "source": [
    "# Function2"
   ]
  },
  {
   "cell_type": "code",
   "execution_count": null,
   "metadata": {
    "collapsed": true
   },
   "outputs": [],
   "source": [
    "# discount episode rewards\n",
    "        Vt = np.zeros_like(self.past_reward, dtype=np.float64)\n",
    "        Vt_temp = 0\n",
    "        for t in reversed(range(0, len(self.past_reward))):\n",
    "            Vt_temp = self.past_reward[t] + Vt_temp * self.gamma\n",
    "            Vt[t] = Vt_temp\n",
    "\n",
    "        # normalize episode rewards\n",
    "        \n",
    "        Vt -= np.mean(Vt)\n",
    "        Vt /= np.std(Vt)\n",
    "        \n",
    "        return Vt"
   ]
  },
  {
   "cell_type": "markdown",
   "metadata": {},
   "source": [
    "# Function3"
   ]
  },
  {
   "cell_type": "code",
   "execution_count": null,
   "metadata": {
    "collapsed": true
   },
   "outputs": [],
   "source": [
    "action_one_hot = self.action_one_hot.copy()\n",
    "action_one_hot[action] = 1\n",
    "self.past_state.append(current_state)\n",
    "self.past_action.append(action_one_hot)\n",
    "self.past_reward.append(reward)"
   ]
  },
  {
   "cell_type": "markdown",
   "metadata": {},
   "source": [
    "# Function4"
   ]
  },
  {
   "cell_type": "code",
   "execution_count": null,
   "metadata": {
    "collapsed": true
   },
   "outputs": [],
   "source": [
    "act_proba = self.sess.run(self.act_proba, feed_dict={self.state_input: current_state[np.newaxis, :]})\n",
    "        \"\"\"\n",
    "        根據神經網路輸出個動作的機率當作權重做隨機抽樣選出動作。一樣舉超級瑪莉的例子，如果輸出\n",
    "        [上, 下, 左, 右]的機率分別為[0.3, 0.1, 0.2, 0.4]，那做隨機抽樣就分別有30%, 10%, \n",
    "        20%和40%的機率抽到上、下、左、右，因為這樣的做法已具有隨機性因此不需要用epsilon來控制\n",
    "        行為的隨機程度來增加探索。\n",
    "        \"\"\"\n",
    "        self.action = np.random.choice(range(act_proba.shape[1]), p=act_proba.ravel())  \n",
    "   \n",
    "        return self.action"
   ]
  },
  {
   "cell_type": "markdown",
   "metadata": {},
   "source": [
    "# Function5"
   ]
  },
  {
   "cell_type": "code",
   "execution_count": null,
   "metadata": {
    "collapsed": true
   },
   "outputs": [],
   "source": [
    "#用reward算出更新向量\n",
    "Vt = self.calculate_Vt()\n",
    "#print(np.array(self.past_action).shape)\n",
    "#print(np.array(self.past_action))\n",
    "#將整個episode的資料放進來做更新\n",
    "self.sess.run(self.train, feed_dict={\n",
    "     self.state_input: np.vstack(self.past_state),  # shape=[None, n_state]\n",
    "     self.real_action: np.array(self.past_action),  # shape=[None, n_actions]\n",
    "     self.Vt: np.array(Vt)  # shape=[None, ]\n",
    "})\n",
    "#更新完後將記憶庫清空\n",
    "self.past_state, self.past_action, self.past_reward = [], [], []    "
   ]
  }
 ],
 "metadata": {
  "kernelspec": {
   "display_name": "Python 3",
   "language": "python",
   "name": "python3"
  },
  "language_info": {
   "codemirror_mode": {
    "name": "ipython",
    "version": 3
   },
   "file_extension": ".py",
   "mimetype": "text/x-python",
   "name": "python",
   "nbconvert_exporter": "python",
   "pygments_lexer": "ipython3",
   "version": "3.5.4"
  }
 },
 "nbformat": 4,
 "nbformat_minor": 2
}
