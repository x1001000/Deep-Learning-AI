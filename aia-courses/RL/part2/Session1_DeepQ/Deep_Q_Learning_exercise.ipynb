{
 "cells": [
  {
   "cell_type": "markdown",
   "metadata": {},
   "source": [
    "# Import Library"
   ]
  },
  {
   "cell_type": "code",
   "execution_count": 1,
   "metadata": {
    "collapsed": true
   },
   "outputs": [],
   "source": [
    "import tensorflow as tf\n",
    "import numpy as np\n",
    "import pandas as pd\n",
    "import gym\n",
    "import sys\n",
    "import matplotlib.pyplot as plt"
   ]
  },
  {
   "cell_type": "markdown",
   "metadata": {},
   "source": [
    "# 定義DeepQLearning\n",
    "請大家將class中function的內容完成。投影片上應該也有答案～"
   ]
  },
  {
   "cell_type": "code",
   "execution_count": 2,
   "metadata": {
    "collapsed": true
   },
   "outputs": [],
   "source": [
    "class DeepQLearning:\n",
    "    \n",
    "    def __init__(\n",
    "        self, \n",
    "        n_actions, \n",
    "        n_states, \n",
    "        gamma = 0.9, #遠見程度\n",
    "        epsilon = 0.9,  #保守程度，越大就越容易用Q值大小來採取行動；越小則越容易產生隨機行動\n",
    "        epsilon_increase = None,\n",
    "        learning_rate = 0.001, #神經網路的更新率\n",
    "        memory_size = 50, #####\n",
    "        batch_size = 32, #####\n",
    "        nueron_num = 10\n",
    "    ):\n",
    "    \n",
    "        self.n_actions = n_actions\n",
    "        self.n_states = n_states\n",
    "        self.gamma = gamma\n",
    "        self.epsilon_max = epsilon #####\n",
    "        self.epsilon_increase = epsilon_increase #####\n",
    "        self.epsilon = 0 if epsilon_increase is not None else epsilon #####\n",
    "        self.lr = learning_rate\n",
    "        self.memory_size = memory_size #####\n",
    "        self.memory_counter = 0 #####\n",
    "        self.batch_size = batch_size ####\n",
    "        self.nueron_num = nueron_num\n",
    "        ##### initialize memory\n",
    "        self.memory = np.zeros((self.memory_size, n_states * 2 + 2))\n",
    "        \"\"\"\n",
    "        memory用來記錄探索環境所蒐集到的資料用來更新神經網路，從公式Q_target = R(s,a) + max(Q(s_,a))*Gamma\n",
    "        得知我們需要存取的資訊有s(current state), s_(next state), r(reward), a(action) 因此總共需要 2*n_states\n",
    "        +2的dimension\n",
    "        \"\"\"\n",
    "        \n",
    "        tf.reset_default_graph() ## 重新 build graph 需要跑這行\n",
    "        self.sess = tf.Session() #宣告session\n",
    "        #輸入current state\n",
    "        self.state_input = tf.placeholder(shape = [None, self.n_states], \n",
    "                                          name = 'input',\n",
    "                                          dtype = tf.float32)\n",
    "        #q_target = R(s, action) + Q(s_)*Gamma \n",
    "        self.q_target = tf.placeholder(shape = [None, self.n_actions], \n",
    "                                       name = 'q_target',\n",
    "                                       dtype = tf.float32)\n",
    "        #搭建神經網路\n",
    "        with tf.variable_scope('Q_table'):\n",
    "            self.q_eval = self.build_network(self.nueron_num, Trainable = True, scope = 'net_eval') \n",
    "            self.q_next = self.build_network(self.nueron_num, Trainable = False, scope = 'net_target') ##### 利用另外一個參數較舊的神經網路來給出下一步的q值並計算q_target\n",
    "        \n",
    "        #管理神經網路的parameters\n",
    "        self.Qnet_eval_params = tf.get_collection(tf.GraphKeys.GLOBAL_VARIABLES, scope='Q_table/net_eval')\n",
    "        self.Qnet_target_params = tf.get_collection(tf.GraphKeys.GLOBAL_VARIABLES, scope='Q_table/net_target') #####\n",
    "        #更新舊神經網路的參數\n",
    "        self.replace_net_params = [tf.assign(old, new) for old, new in zip(self.Qnet_target_params, self.Qnet_eval_params)]\n",
    "        \n",
    "        #計算q_target和q_eval的mse來更新神經網路的參數\n",
    "        self.loss = tf.reduce_mean(tf.squared_difference(self.q_target, self.q_eval))\n",
    "        self.train = tf.train.RMSPropOptimizer(self.lr).minimize(self.loss, var_list=self.Qnet_eval_params)\n",
    "        \n",
    "        self.sess.run(tf.global_variables_initializer()) #將神經網路初始化\n",
    "    \n",
    "    def write_memory(self): #請填入要引入的變數\n",
    "        \n",
    "    \n",
    "    \n",
    "    def build_network(self, neuron_num, Trainable, scope): \n",
    "        \n",
    " \n",
    "            \n",
    "    def choose_action(self): #請填入要引入的變數\n",
    " \n",
    "        \n",
    "    \n",
    "    def learn(self): #請填入要引入的變數\n",
    "        \n",
    "        \n",
    "    def model_save(self, model_name):\n",
    "        \n",
    "        saver = tf.train.Saver()\n",
    "        saver.save(self.sess, \"saved_models/{}.ckpt\".format(model_name))\n",
    "    \n",
    "    def model_restore(self, model_name):\n",
    "        \n",
    "        saver = tf.train.Saver()\n",
    "        saver.restore(self.sess, \"saved_models/{}.ckpt\".format(model_name))\n",
    "        "
   ]
  },
  {
   "cell_type": "markdown",
   "metadata": {},
   "source": [
    "# Define Training的環境和步驟"
   ]
  },
  {
   "cell_type": "code",
   "execution_count": 3,
   "metadata": {
    "collapsed": true
   },
   "outputs": [],
   "source": [
    "def training(save_model, model_name):\n",
    "    step_record = []\n",
    "    learn_count = 0\n",
    "    update_count = 0\n",
    "    for episode in range(100):\n",
    "        # initial environment並給出起始的state\n",
    "        current_state = env.reset()\n",
    "        step = 0\n",
    "        total_reward = 0\n",
    "        while True:\n",
    "            # 產生環境視窗\n",
    "            env.render()\n",
    "\n",
    "            # 根據現在的狀態選擇動作\n",
    "            action = RL.choose_action(current_state)\n",
    "\n",
    "            # 產生動作和環境互動後產生下一個狀態、獎勵值及遊戲是否結束\n",
    "            next_state, reward, done, _ = env.step(action)\n",
    "            \n",
    "            # 調整reward\n",
    "            \"\"\"\n",
    "            引導agent將車子推得越遠越好、速度越快越好\n",
    "            position的原點在-0.5因此這邊將0.5加回來\n",
    "            \"\"\"\n",
    "            position, velocity = next_state\n",
    "            reward = abs(position + 0.5) + abs(velocity)*15 + reward\n",
    "            \n",
    "            \"\"\"\n",
    "            表現較差的方法，但是在一般問題中我們常常是不知道怎麼引導agent\n",
    "            達到目標的，因此這樣的方法相對直覺。\n",
    "            #if done == True:\n",
    "            #    reward = 100\n",
    "            #else:\n",
    "            #    reward = -1\n",
    "            \"\"\"\n",
    "    \n",
    "\n",
    "            # 將資訊存至記憶體中以便進行experience replay\n",
    "            RL.write_memory(current_state, next_state, reward, action)\n",
    "            \n",
    "            # 進行學習\n",
    "            if learn_count <= 1000:\n",
    "                learn_count+=1\n",
    "            else:\n",
    "                #進行參數更新\n",
    "                if update_count==300:\n",
    "                    update = True\n",
    "                    update_count =0\n",
    "                else:\n",
    "                    update = False\n",
    "                    update_count+=1\n",
    "                \n",
    "                RL.learn(current_state, reward, next_state, update)\n",
    "            \n",
    "            # break while loop when end of this episode\n",
    "            if done:\n",
    "                mean_reward = total_reward/step\n",
    "                print('episode:{} steps:{} mean reward:{} epsilon:{}'.format(episode, step, \\\n",
    "                       mean_reward, RL.epsilon))\n",
    "                step_record.append(step)\n",
    "                break\n",
    "            current_state = next_state\n",
    "            step += 1\n",
    "\n",
    "    # end of game\n",
    "    if save_model:\n",
    "        RL.model_save(model_name)\n",
    "    print('game over')\n",
    "    env.close()\n",
    "    return step_record"
   ]
  },
  {
   "cell_type": "code",
   "execution_count": null,
   "metadata": {
    "collapsed": true,
    "scrolled": false
   },
   "outputs": [],
   "source": [
    "step_result = []\n",
    "env = gym.make('MountainCar-v0')\n",
    "env = env.unwrapped\n",
    "env.seed(1)\n",
    "\n",
    "RL = DeepQLearning( n_actions = 3, \n",
    "                    n_states = 2,\n",
    "                    gamma = 0.99,\n",
    "                    epsilon = 0.95,\n",
    "                    epsilon_increase = 0.001,\n",
    "                    learning_rate = 0.01,\n",
    "                    memory_size =10000,\n",
    "                    batch_size = 32,\n",
    "                    nueron_num = 10)\n",
    "step_record = training(save_model = True, model_name='mountain_car_deepq')\n",
    "step_result.append(pd.DataFrame(step_record))"
   ]
  },
  {
   "cell_type": "markdown",
   "metadata": {},
   "source": [
    "# Plot\n",
    "Steps越大代表每一回合將小車推上山丘的步數越多，因此用步數來評估agent是否有學到正確決策方法。"
   ]
  },
  {
   "cell_type": "code",
   "execution_count": 11,
   "metadata": {},
   "outputs": [
    {
     "data": {
      "image/png": "[encoded data removed]",
      "text/plain": [
       "<matplotlib.figure.Figure at 0x12c097518>"
      ]
     },
     "metadata": {},
     "output_type": "display_data"
    }
   ],
   "source": [
    "step_result = pd.concat(step_result)\n",
    "step_result.columns = ['DeepQ_Agent']\n",
    "step_result.plot()\n",
    "plt.xlabel('Episode')\n",
    "plt.ylabel('Steps')\n",
    "plt.show()"
   ]
  },
  {
   "cell_type": "code",
   "execution_count": null,
   "metadata": {
    "collapsed": true
   },
   "outputs": [],
   "source": []
  }
 ],
 "metadata": {
  "kernelspec": {
   "display_name": "Python 3",
   "language": "python",
   "name": "python3"
  },
  "language_info": {
   "codemirror_mode": {
    "name": "ipython",
    "version": 3
   },
   "file_extension": ".py",
   "mimetype": "text/x-python",
   "name": "python",
   "nbconvert_exporter": "python",
   "pygments_lexer": "ipython3",
   "version": "3.5.4"
  }
 },
 "nbformat": 4,
 "nbformat_minor": 2
}
