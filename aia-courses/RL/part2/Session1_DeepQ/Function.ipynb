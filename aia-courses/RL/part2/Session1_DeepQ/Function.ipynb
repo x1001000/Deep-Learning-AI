{
 "cells": [
  {
   "cell_type": "markdown",
   "metadata": {},
   "source": [
    "# Function1"
   ]
  },
  {
   "cell_type": "code",
   "execution_count": null,
   "metadata": {
    "collapsed": true
   },
   "outputs": [],
   "source": [
    "if np.random.uniform() < self.epsilon: \n",
    "            #選擇產生估計Q值較大的行動\n",
    "            q_eval = self.sess.run(self.q_eval, feed_dict={self.state_input: current_state[np.newaxis, :]})\n",
    "            self.action = np.argmax(q_eval)\n",
    "        else:\n",
    "            #採取隨機行動\n",
    "            self.action = np.random.randint(0, self.n_actions)\n",
    "return self.action            "
   ]
  },
  {
   "cell_type": "markdown",
   "metadata": {},
   "source": [
    "# Function2"
   ]
  },
  {
   "cell_type": "code",
   "execution_count": null,
   "metadata": {
    "collapsed": true
   },
   "outputs": [],
   "source": [
    "with tf.variable_scope(scope):\n",
    "            init_w = tf.random_normal_initializer(0., 0.3)\n",
    "            init_b = tf.constant_initializer(0.1)\n",
    "            \n",
    "            x_h1 = tf.layers.dense(inputs = self.state_input, units = neuron_num, activation = tf.nn.tanh, kernel_initializer=init_w, bias_initializer=init_b, trainable=Trainable) \n",
    "            \n",
    "            x_h2 = tf.layers.dense(inputs = x_h1, units = neuron_num, activation = tf.nn.tanh, kernel_initializer=init_w, bias_initializer=init_b, trainable=Trainable)  \n",
    "            \n",
    "            output = tf.layers.dense(inputs = x_h2, units = self.n_actions, kernel_initializer=init_w, bias_initializer=init_b, trainable=Trainable)\n",
    "        \n",
    "        return output #輸出‘不同動作’對應的Q值 "
   ]
  },
  {
   "cell_type": "markdown",
   "metadata": {},
   "source": [
    "# Function3"
   ]
  },
  {
   "cell_type": "code",
   "execution_count": null,
   "metadata": {
    "collapsed": true
   },
   "outputs": [],
   "source": [
    "if update_params: #####\n",
    "            self.sess.run(self.replace_net_params)\n",
    "            #print('update parameters')\n",
    "        \n",
    "        #####從記憶中抽取過去的經驗來做更新\n",
    "        if self.memory_counter > self.memory_size:\n",
    "            sample_index = np.random.choice(self.memory_size, size=self.batch_size)\n",
    "        else:\n",
    "            sample_index = np.random.choice(self.memory_counter, size=self.batch_size)\n",
    "        past_experience = self.memory[sample_index, :]\n",
    "        \n",
    "        current_state = past_experience[:, 0:self.n_states]\n",
    "        next_state = past_experience[:, self.n_states:self.n_states*2]\n",
    "        reward = past_experience[:, self.n_states*2]\n",
    "        action = past_experience[:, self.n_states*2+1].astype(int)\n",
    "        index = np.arange(self.batch_size)\n",
    "\n",
    "        #算出實際q值並用此更新神經網路參數\n",
    "        q_eval = self.sess.run(self.q_eval, feed_dict={self.state_input: current_state})\n",
    "        q_next = self.sess.run(self.q_next, feed_dict={self.state_input: next_state})\n",
    "     \n",
    "        q_target = q_eval.copy()\n",
    "        q_target[index, action] = reward + self.gamma*np.max(q_next, axis=1)\n",
    "        _, self.cost = self.sess.run([self.train, self.loss], feed_dict={self.state_input: current_state,\n",
    "                                                                                self.q_target: q_target})        # increasing epsilon\n",
    "        self.epsilon = self.epsilon + self.epsilon_increase if self.epsilon < self.epsilon_max else self.epsilon_max  \n",
    "        "
   ]
  },
  {
   "cell_type": "markdown",
   "metadata": {},
   "source": [
    "# Function4"
   ]
  },
  {
   "cell_type": "code",
   "execution_count": null,
   "metadata": {
    "collapsed": true
   },
   "outputs": [],
   "source": [
    "env_info = np.concatenate([current_state, next_state, [reward], [action]]) \n",
    "        save_index = self.memory_counter%self.memory_size\n",
    "        self.memory[save_index, :] = env_info\n",
    "        self.memory_counter+=1\n",
    "        if self.memory_counter%self.memory_size == 0:\n",
    "            self.memory_counter = self.memory_size"
   ]
  }
 ],
 "metadata": {
  "kernelspec": {
   "display_name": "Python 3",
   "language": "python",
   "name": "python3"
  },
  "language_info": {
   "codemirror_mode": {
    "name": "ipython",
    "version": 3
   },
   "file_extension": ".py",
   "mimetype": "text/x-python",
   "name": "python",
   "nbconvert_exporter": "python",
   "pygments_lexer": "ipython3",
   "version": "3.5.4"
  }
 },
 "nbformat": 4,
 "nbformat_minor": 2
}
