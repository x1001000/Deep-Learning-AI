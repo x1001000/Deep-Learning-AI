{
 "cells": [
  {
   "cell_type": "markdown",
   "metadata": {},
   "source": [
    "### Import package"
   ]
  },
  {
   "cell_type": "code",
   "execution_count": 1,
   "metadata": {},
   "outputs": [],
   "source": [
    "import tensorflow as tf\n",
    "import numpy as np\n",
    "import gym\n",
    "import matplotlib.pyplot as plt\n",
    "\n",
    "np.random.seed(2)\n",
    "tf.set_random_seed(2)\n",
    "\n",
    "%matplotlib inline"
   ]
  },
  {
   "cell_type": "markdown",
   "metadata": {},
   "source": [
    "### Hyperparameter"
   ]
  },
  {
   "cell_type": "code",
   "execution_count": 2,
   "metadata": {},
   "outputs": [],
   "source": [
    "MAX_EPISODES = 100\n",
    "MAX_EP_STEPS = 200\n",
    "LR_A = 0.001 # learning rate for actor\n",
    "LR_C = 0.001 # learning rate for critic\n",
    "DISPLAY_REWARD_THRESHOLD = -50\n",
    "RENDER = False\n",
    "GAMMA = 0.9 # reward discount factor\n",
    "TAU = 0.01 # soft replacement\n",
    "MEMORY_CAPACITY = 10000\n",
    "BATCH_SIZE = 32"
   ]
  },
  {
   "cell_type": "markdown",
   "metadata": {},
   "source": [
    "### Define DDPG"
   ]
  },
  {
   "cell_type": "code",
   "execution_count": 3,
   "metadata": {},
   "outputs": [],
   "source": [
    "class DDPG(object):\n",
    "    def __init__(self, a_dim, s_dim, a_bound, sess):\n",
    "        self.memory = np.zeros((MEMORY_CAPACITY, s_dim * 2 + a_dim + 1), dtype=np.float32) # state, next_state, action, reward\n",
    "        self.pointer = 0\n",
    "        self.sess = sess\n",
    "\n",
    "        self.a_dim, self.s_dim, self.a_bound = a_dim, s_dim, a_bound,\n",
    "        self.S = tf.placeholder(tf.float32, [None, s_dim], 'state_input')\n",
    "        self.S_ = tf.placeholder(tf.float32, [None, s_dim], 'next_state_input')\n",
    "        self.R = tf.placeholder(tf.float32, [None, 1], 'reward')\n",
    "\n",
    "        with tf.variable_scope('Actor'): #兩個 Actor: eval & target ~~ μ-network\n",
    "            self.action = self.create_actor(self.S, scope='eval', trainable=True) #和環境互動\n",
    "            action_ = self.create_actor(self.S_, scope='target', trainable=False) #用來更新 Critic\n",
    "            \n",
    "        with tf.variable_scope('Critic'): #兩個 Critic: eval & target ~~ Q-network\n",
    "            # assign self.a = a in memory when calculating q for td_error,\n",
    "            # otherwise the self.a is from Actor when updating Actor\n",
    "            v = self.create_critic(self.S, self.action, scope='eval', trainable=True) #prediction v\n",
    "            v_ = self.create_critic(self.S_, action_, scope='target', trainable=False) #計算v_target用來更新eval Critic\n",
    "\n",
    "        # networks parameters by scope, for partial update network parameters\n",
    "        self.ae_params = tf.get_collection(tf.GraphKeys.GLOBAL_VARIABLES, scope='Actor/eval') #train params\n",
    "        self.at_params = tf.get_collection(tf.GraphKeys.GLOBAL_VARIABLES, scope='Actor/target') #soft_replace\n",
    "        self.ce_params = tf.get_collection(tf.GraphKeys.GLOBAL_VARIABLES, scope='Critic/eval') #train params\n",
    "        self.ct_params = tf.get_collection(tf.GraphKeys.GLOBAL_VARIABLES, scope='Critic/target') #soft_replace\n",
    "\n",
    "        # target net replacement  (TAU:soft replacement, ta:target Actor, ea:eval Actor, tc:target Critic, ec:eval Critic)\n",
    "        self.soft_replace = [[tf.assign(ta, (1 - TAU) * ta + TAU * ea), \n",
    "                              tf.assign(tc, (1 - TAU) * tc + TAU * ec)]\n",
    "                             for ta, ea, tc, ec in zip(self.at_params, self.ae_params, self.ct_params, self.ce_params)]\n",
    "        #註1:本文件最後有語法範例\n",
    "\n",
    "        v_target = self.R + GAMMA * v_   # GAMMA:reward discount factor\n",
    "        \n",
    "        # in the feed dict for the td_error, the self.action should change to actions in memory\n",
    "        td_error = tf.losses.mean_squared_error(labels=v_target, predictions=v)\n",
    "        self.critic_train = tf.train.AdamOptimizer(LR_C).minimize(td_error, var_list=self.ce_params) #train critic/eval only\n",
    "\n",
    "        exp_v = - tf.reduce_mean(v)    # maximize the q\n",
    "        self.actor_train = tf.train.AdamOptimizer(LR_A).minimize(exp_v, var_list=self.ae_params) #train actor/eval only\n",
    "\n",
    "        \n",
    "    def choose_action(self, s):\n",
    "        return self.sess.run(self.action, {self.S: s[np.newaxis, :]})[0]\n",
    "\n",
    "    def learn(self):\n",
    "        indices = np.random.choice(MEMORY_CAPACITY, size=BATCH_SIZE)\n",
    "        bt = self.memory[indices, :] #random choice an transition\n",
    "        bs = bt[:, :self.s_dim]\n",
    "        ba = bt[:, self.s_dim: self.s_dim + self.a_dim]\n",
    "        br = bt[:, -self.s_dim - 1: -self.s_dim]\n",
    "        bs_ = bt[:, -self.s_dim:]\n",
    "\n",
    "        self.sess.run(self.actor_train, {self.S: bs})\n",
    "        self.sess.run(self.critic_train, {self.S: bs, self.action: ba, self.R: br, self.S_: bs_})\n",
    "\n",
    "        # soft target replacement\n",
    "        self.sess.run(self.soft_replace)\n",
    "\n",
    "    def store_transition(self, s, a, r, s_):\n",
    "        # Memory (Experience Replay)\n",
    "        transition = np.hstack((s, a, [r], s_))\n",
    "        index = self.pointer % MEMORY_CAPACITY  # replace the old memory with new memory\n",
    "        self.memory[index, :] = transition\n",
    "        self.pointer += 1\n",
    "\n",
    "    def create_actor(self, s, scope, trainable):\n",
    "        with tf.variable_scope(scope):\n",
    "            net = tf.layers.dense(s, 30, activation=tf.nn.relu, name='l1', trainable=trainable)\n",
    "            a = tf.layers.dense(net, self.a_dim, activation=tf.nn.tanh, name='action', trainable=trainable)\n",
    "            return tf.multiply(a, self.a_bound, name='policy_action')\n",
    "\n",
    "    def create_critic(self, s, a, scope, trainable):\n",
    "        with tf.variable_scope(scope):\n",
    "            n_l1 = 30\n",
    "            w1_s = tf.get_variable('w1_s', [self.s_dim, n_l1], trainable=trainable)\n",
    "            w1_a = tf.get_variable('w1_a', [self.a_dim, n_l1], trainable=trainable)\n",
    "            b1 = tf.get_variable('b1', [1, n_l1], trainable=trainable)\n",
    "            net = tf.nn.relu(tf.matmul(s, w1_s) + tf.matmul(a, w1_a) + b1)\n",
    "            return tf.layers.dense(net, 1, trainable=trainable)  # Q(s,a)"
   ]
  },
  {
   "cell_type": "markdown",
   "metadata": {},
   "source": [
    "![](img/log_ddpg.png)"
   ]
  },
  {
   "cell_type": "markdown",
   "metadata": {},
   "source": [
    "![](img/ddpg_critic.png)"
   ]
  },
  {
   "cell_type": "markdown",
   "metadata": {},
   "source": [
    "![](img/ddpg_actor.png)"
   ]
  },
  {
   "cell_type": "markdown",
   "metadata": {},
   "source": [
    "### Environment Settings"
   ]
  },
  {
   "cell_type": "code",
   "execution_count": 4,
   "metadata": {},
   "outputs": [
    {
     "name": "stdout",
     "output_type": "stream",
     "text": [
      "\u001b[33mWARN: gym.spaces.Box autodetected dtype as <class 'numpy.float32'>. Please provide explicit dtype.\u001b[0m\n",
      "\u001b[33mWARN: gym.spaces.Box autodetected dtype as <class 'numpy.float32'>. Please provide explicit dtype.\u001b[0m\n"
     ]
    }
   ],
   "source": [
    "ENV_NAME = 'Pendulum-v0'\n",
    "env = gym.make(ENV_NAME)\n",
    "env.seed(1)\n",
    "\n",
    "s_dim = env.observation_space.shape[0]\n",
    "a_dim = env.action_space.shape[0]\n",
    "a_bound = env.action_space.high"
   ]
  },
  {
   "cell_type": "markdown",
   "metadata": {},
   "source": [
    "### Initial DDPG"
   ]
  },
  {
   "cell_type": "code",
   "execution_count": 5,
   "metadata": {},
   "outputs": [],
   "source": [
    "tf.reset_default_graph()\n",
    "sess = tf.InteractiveSession()\n",
    "ddpg = DDPG(a_dim, s_dim, a_bound, sess=sess)\n",
    "\n",
    "sess.run(tf.global_variables_initializer())\n",
    "writer = tf.summary.FileWriter(\"D:/temp/log_ddpg/\", graph=sess.graph)"
   ]
  },
  {
   "cell_type": "markdown",
   "metadata": {},
   "source": [
    "### Main training"
   ]
  },
  {
   "cell_type": "code",
   "execution_count": 6,
   "metadata": {},
   "outputs": [
    {
     "name": "stdout",
     "output_type": "stream",
     "text": [
      "Episode: 0  Reward: -127 Explore: 3.00\n",
      "Episode: 1  Reward: -127 Explore: 3.00\n",
      "Episode: 2  Reward: -127 Explore: 3.00\n",
      "Episode: 3  Reward: -127 Explore: 3.00\n",
      "Episode: 4  Reward: -128 Explore: 3.00\n",
      "Episode: 5  Reward: -128 Explore: 3.00\n",
      "Episode: 6  Reward: -128 Explore: 3.00\n",
      "Episode: 7  Reward: -129 Explore: 3.00\n",
      "Episode: 8  Reward: -129 Explore: 3.00\n",
      "Episode: 9  Reward: -129 Explore: 3.00\n",
      "Episode: 10  Reward: -127 Explore: 3.00\n",
      "Episode: 11  Reward: -127 Explore: 3.00\n",
      "Episode: 12  Reward: -127 Explore: 3.00\n",
      "Episode: 13  Reward: -126 Explore: 3.00\n",
      "Episode: 14  Reward: -124 Explore: 3.00\n",
      "Episode: 15  Reward: -125 Explore: 3.00\n",
      "Episode: 16  Reward: -126 Explore: 3.00\n",
      "Episode: 17  Reward: -126 Explore: 3.00\n",
      "Episode: 18  Reward: -125 Explore: 3.00\n",
      "Episode: 19  Reward: -124 Explore: 3.00\n",
      "Episode: 20  Reward: -125 Explore: 3.00\n",
      "Episode: 21  Reward: -124 Explore: 3.00\n",
      "Episode: 22  Reward: -124 Explore: 3.00\n",
      "Episode: 23  Reward: -124 Explore: 3.00\n",
      "Episode: 24  Reward: -125 Explore: 3.00\n",
      "Episode: 25  Reward: -124 Explore: 3.00\n",
      "Episode: 26  Reward: -123 Explore: 3.00\n",
      "Episode: 27  Reward: -123 Explore: 3.00\n",
      "Episode: 28  Reward: -124 Explore: 3.00\n",
      "Episode: 29  Reward: -125 Explore: 3.00\n",
      "Episode: 30  Reward: -124 Explore: 3.00\n",
      "Episode: 31  Reward: -124 Explore: 3.00\n",
      "Episode: 32  Reward: -123 Explore: 3.00\n",
      "Episode: 33  Reward: -125 Explore: 3.00\n",
      "Episode: 34  Reward: -125 Explore: 3.00\n",
      "Episode: 35  Reward: -125 Explore: 3.00\n",
      "Episode: 36  Reward: -126 Explore: 3.00\n",
      "Episode: 37  Reward: -125 Explore: 3.00\n",
      "Episode: 38  Reward: -124 Explore: 3.00\n",
      "Episode: 39  Reward: -125 Explore: 3.00\n",
      "Episode: 40  Reward: -123 Explore: 3.00\n",
      "Episode: 41  Reward: -124 Explore: 3.00\n",
      "Episode: 42  Reward: -124 Explore: 3.00\n",
      "Episode: 43  Reward: -122 Explore: 3.00\n",
      "Episode: 44  Reward: -123 Explore: 3.00\n",
      "Episode: 45  Reward: -123 Explore: 3.00\n",
      "Episode: 46  Reward: -124 Explore: 3.00\n",
      "Episode: 47  Reward: -123 Explore: 3.00\n",
      "Episode: 48  Reward: -123 Explore: 3.00\n",
      "Episode: 49  Reward: -123 Explore: 2.93\n",
      "Episode: 50  Reward: -123 Explore: 2.65\n",
      "Episode: 51  Reward: -126 Explore: 2.39\n",
      "Episode: 52  Reward: -131 Explore: 2.16\n",
      "Episode: 53  Reward: -136 Explore: 1.96\n",
      "Episode: 54  Reward: -141 Explore: 1.77\n",
      "Episode: 55  Reward: -143 Explore: 1.60\n",
      "Episode: 56  Reward: -145 Explore: 1.45\n",
      "Episode: 57  Reward: -146 Explore: 1.31\n",
      "Episode: 58  Reward: -145 Explore: 1.18\n",
      "Episode: 59  Reward: -143 Explore: 1.07\n",
      "Episode: 60  Reward: -143 Explore: 0.97\n",
      "Episode: 61  Reward: -140 Explore: 0.88\n",
      "Episode: 62  Reward: -140 Explore: 0.79\n",
      "Episode: 63  Reward: -136 Explore: 0.72\n",
      "Episode: 64  Reward: -137 Explore: 0.65\n",
      "Episode: 65  Reward: -138 Explore: 0.59\n",
      "Episode: 66  Reward: -139 Explore: 0.53\n",
      "Episode: 67  Reward: -137 Explore: 0.48\n",
      "Episode: 68  Reward: -134 Explore: 0.43\n",
      "Episode: 69  Reward: -136 Explore: 0.39\n",
      "Episode: 70  Reward: -129 Explore: 0.35\n",
      "Episode: 71  Reward: -126 Explore: 0.32\n",
      "Episode: 72  Reward: -121 Explore: 0.29\n",
      "Episode: 73  Reward: -114 Explore: 0.26\n",
      "Episode: 74  Reward: -107 Explore: 0.24\n",
      "Episode: 75  Reward: -102 Explore: 0.21\n",
      "Episode: 76  Reward: -97 Explore: 0.19\n",
      "Episode: 77  Reward: -90 Explore: 0.18\n",
      "Episode: 78  Reward: -90 Explore: 0.16\n",
      "Episode: 79  Reward: -86 Explore: 0.14\n",
      "Episode: 80  Reward: -83 Explore: 0.13\n",
      "Episode: 81  Reward: -75 Explore: 0.12\n",
      "Episode: 82  Reward: -75 Explore: 0.11\n",
      "Episode: 83  Reward: -73 Explore: 0.10\n",
      "Episode: 84  Reward: -67 Explore: 0.09\n",
      "Episode: 85  Reward: -63 Explore: 0.08\n",
      "Episode: 86  Reward: -60 Explore: 0.07\n",
      "Episode: 87  Reward: -56 Explore: 0.06\n",
      "Episode: 88  Reward: -53 Explore: 0.06\n",
      "Episode: 89  Reward: -49 Explore: 0.05\n",
      "Episode: 90  Reward: -48 Explore: 0.05\n",
      "Episode: 91  Reward: -45 Explore: 0.04\n",
      "Episode: 92  Reward: -42 Explore: 0.04\n",
      "Episode: 93  Reward: -39 Explore: 0.04\n",
      "Episode: 94  Reward: -35 Explore: 0.03\n",
      "Episode: 95  Reward: -33 Explore: 0.03\n",
      "Episode: 96  Reward: -31 Explore: 0.03\n",
      "Episode: 97  Reward: -29 Explore: 0.02\n",
      "Episode: 98  Reward: -27 Explore: 0.02\n",
      "Episode: 99  Reward: -28 Explore: 0.02\n"
     ]
    }
   ],
   "source": [
    "var = 3  # control exploration\n",
    "reward_history = []\n",
    "for i in range(MAX_EPISODES):\n",
    "    s = env.reset()\n",
    "    t = 0\n",
    "    ep_rs = 0\n",
    "    while True:\n",
    "        if RENDER:\n",
    "            env.render()\n",
    "\n",
    "        # Add exploration noise\n",
    "        a = ddpg.choose_action(s)\n",
    "        a = np.clip(np.random.normal(a, var), -2, 2)    # add randomness to action selection for exploration\n",
    "        s_, r, done, info = env.step(a)\n",
    "        r = r/10\n",
    "\n",
    "        ddpg.store_transition(s, a, r, s_)\n",
    "        \n",
    "        # MEMORY 足夠大了就開始 learn\n",
    "        if ddpg.pointer > MEMORY_CAPACITY:\n",
    "            var *= .9995    # decay the action randomness\n",
    "            ddpg.learn()\n",
    "\n",
    "        s = s_\n",
    "        t += 1\n",
    "        ep_rs += r\n",
    "        if t > MAX_EP_STEPS:\n",
    "            reward_history.append(ep_rs)\n",
    "            if 'running_reward' not in globals():\n",
    "                running_reward = ep_rs\n",
    "            else:\n",
    "                running_reward = running_reward * 0.9 + ep_rs * 0.1 # 希望是穩定的 reward\n",
    "            print('Episode:', i, ' Reward: %i' % int(running_reward), 'Explore: %.2f' % var, )\n",
    "            if running_reward > DISPLAY_REWARD_THRESHOLD:RENDER = True\n",
    "            break"
   ]
  },
  {
   "cell_type": "code",
   "execution_count": 7,
   "metadata": {},
   "outputs": [
    {
     "data": {
      "text/plain": [
       "[<matplotlib.lines.Line2D at 0x162318fc6a0>]"
      ]
     },
     "execution_count": 7,
     "metadata": {},
     "output_type": "execute_result"
    },
    {
     "data": {
      "image/png": "[encoded data removed]",
      "text/plain": [
       "<Figure size 432x288 with 1 Axes>"
      ]
     },
     "metadata": {},
     "output_type": "display_data"
    }
   ],
   "source": [
    "plt.plot(reward_history)"
   ]
  },
  {
   "cell_type": "markdown",
   "metadata": {},
   "source": [
    "### Use checkpoint\n",
    "這裡同樣有幫大家跑好的 model，有興趣的話可以 restore ddpg_v1.ckpt 這個 checkpoint 來玩 pendulum，看看 train 好的 agent 多強。"
   ]
  },
  {
   "cell_type": "code",
   "execution_count": 8,
   "metadata": {
    "collapsed": true
   },
   "outputs": [],
   "source": [
    "# Add ops to save and restore all the variables.\n",
    "saver = tf.train.Saver()\n",
    "# Save the variables to disk.\n",
    "save_path = saver.save(sess, \"checkpoint/ddpg_v1.ckpt\")"
   ]
  },
  {
   "cell_type": "code",
   "execution_count": 10,
   "metadata": {},
   "outputs": [
    {
     "name": "stdout",
     "output_type": "stream",
     "text": [
      "INFO:tensorflow:Restoring parameters from checkpoint/ddpg_v1.ckpt\n"
     ]
    }
   ],
   "source": [
    "saver.restore(sess, \"checkpoint/ddpg_v1.ckpt\")\n",
    "s = env.reset()\n",
    "i_step = 0\n",
    "while True:\n",
    "    env.render()\n",
    "    a = ddpg.choose_action(s)\n",
    "    s_, r, done, info = env.step(a)\n",
    "    s = s_\n",
    "    i_step += 1\n",
    "    if i_step > 300:\n",
    "        break"
   ]
  },
  {
   "cell_type": "code",
   "execution_count": null,
   "metadata": {},
   "outputs": [],
   "source": [
    "# 啟動TensorBoard\n",
    "!tensorboard --logdir=D:/temp/log_ddpg/ --debug"
   ]
  },
  {
   "cell_type": "markdown",
   "metadata": {},
   "source": [
    "#### 註:1) 語法範例: target net replacement 使用的語法"
   ]
  },
  {
   "cell_type": "code",
   "execution_count": 2,
   "metadata": {},
   "outputs": [
    {
     "data": {
      "text/plain": [
       "[[3, 7], [3, 7], [3, 7], [3, 7]]"
      ]
     },
     "execution_count": 2,
     "metadata": {},
     "output_type": "execute_result"
    }
   ],
   "source": [
    "[[a1+a2, a3+a4] for a1, a2, a3, a4 in zip([1,1,1,1], [2,2,2,2], [3,3,3,3], [4,4,4,4])]"
   ]
  },
  {
   "cell_type": "code",
   "execution_count": null,
   "metadata": {},
   "outputs": [],
   "source": []
  }
 ],
 "metadata": {
  "kernelspec": {
   "display_name": "Python 3",
   "language": "python",
   "name": "python3"
  },
  "language_info": {
   "codemirror_mode": {
    "name": "ipython",
    "version": 3
   },
   "file_extension": ".py",
   "mimetype": "text/x-python",
   "name": "python",
   "nbconvert_exporter": "python",
   "pygments_lexer": "ipython3",
   "version": "3.5.5"
  }
 },
 "nbformat": 4,
 "nbformat_minor": 2
}
