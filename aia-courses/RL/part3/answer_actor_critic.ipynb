{
 "cells": [
  {
   "cell_type": "markdown",
   "metadata": {},
   "source": [
    "### Import package"
   ]
  },
  {
   "cell_type": "code",
   "execution_count": 1,
   "metadata": {},
   "outputs": [],
   "source": [
    "import gym\n",
    "import numpy as np\n",
    "import tensorflow as tf\n",
    "import matplotlib.pyplot as plt\n",
    "\n",
    "np.random.seed(2)\n",
    "tf.set_random_seed(2)\n",
    "\n",
    "%matplotlib inline"
   ]
  },
  {
   "cell_type": "markdown",
   "metadata": {},
   "source": [
    "### Hyperparameter"
   ]
  },
  {
   "cell_type": "code",
   "execution_count": 2,
   "metadata": {},
   "outputs": [],
   "source": [
    "MAX_EPISODE = 100 # 要跑多少個 episode\n",
    "MAX_EP_STEPS = 200 # 一個 episode 要跑多少步\n",
    "DISPLAY_REWARD_THRESHOLD = -60 # 如果 reward 大於這個 threshold 就 render 環境\n",
    "RENDER = False # 一開始先不要 render，因為會浪費時間\n",
    "GAMMA = 0.95 # reward discount factor\n",
    "LR_A = 0.0001 # learning rate for actor\n",
    "LR_C = 0.001 # learning rate for critic\n",
    "\n",
    "USE_ACTION_AS_INPUT = False # whether to use action as input for critic"
   ]
  },
  {
   "cell_type": "markdown",
   "metadata": {},
   "source": [
    "### Environment Settings"
   ]
  },
  {
   "cell_type": "code",
   "execution_count": 3,
   "metadata": {},
   "outputs": [
    {
     "name": "stdout",
     "output_type": "stream",
     "text": [
      "\u001b[33mWARN: gym.spaces.Box autodetected dtype as <class 'numpy.float32'>. Please provide explicit dtype.\u001b[0m\n",
      "\u001b[33mWARN: gym.spaces.Box autodetected dtype as <class 'numpy.float32'>. Please provide explicit dtype.\u001b[0m\n",
      "The number of observation is: 3 The number of action that can be taken is: 1 (continuous)\n",
      "Action boundary: -2.0 ~ 2.0\n"
     ]
    }
   ],
   "source": [
    "ENV_NAME = \"Pendulum-v0\"\n",
    "env = gym.make(ENV_NAME)\n",
    "env.seed(1) # reproducible\n",
    "\n",
    "n_obs = env.observation_space.shape[0]\n",
    "is_discrete = hasattr(env.action_space, \"n\")\n",
    "\n",
    "if is_discrete:\n",
    "    n_action_space = env.action_space.n\n",
    "else:\n",
    "    n_action_space = env.action_space.shape[0]\n",
    "print(\"The number of observation is: %s The number of action that can be taken is: %s (%s)\" % \\\n",
    "      (n_obs, n_action_space, \"discrete\" if is_discrete else \"continuous\"))\n",
    "\n",
    "if not is_discrete:\n",
    "    action_bound = env.action_space.high\n",
    "    print(\"Action boundary: %s ~ %s\" % (env.action_space.low[0], env.action_space.high[0]))"
   ]
  },
  {
   "cell_type": "markdown",
   "metadata": {},
   "source": [
    "![](img/actor_critic_pseudo.JPG)"
   ]
  },
  {
   "cell_type": "markdown",
   "metadata": {},
   "source": [
    "### Actor-Critic"
   ]
  },
  {
   "cell_type": "code",
   "execution_count": 4,
   "metadata": {},
   "outputs": [],
   "source": [
    "class ActorCritic(object):\n",
    "    def __init__(self, n_action_space, n_state, action_bound, sess):\n",
    "        \n",
    "        self.n_action_space = n_action_space\n",
    "        self.n_state = n_state\n",
    "        self.action_bound = action_bound\n",
    "        self.sess = sess\n",
    "        \n",
    "        self.S = tf.placeholder(tf.float32, [1, self.n_state], 'state_input') \n",
    "        self.gt_action = tf.placeholder(tf.float32, None, 'gt_action') # groundtruth action\n",
    "        self.td_error = tf.placeholder(tf.float32, None, name=\"td_error\")  # TD_error\n",
    "        \n",
    "        self.R = tf.placeholder(tf.float32, name='reward')\n",
    "        self.v_ = tf.placeholder(tf.float32, [1, 1], 'next_exp_v')\n",
    "        \n",
    "        with tf.variable_scope(\"Actor\"):\n",
    "            # create actor network\n",
    "            self.action, self.normal_dist = self.create_actor(self.S)\n",
    "            \n",
    "            with tf.name_scope(\"expected_value_for_actor\"):\n",
    "                # actor gradient = grad[logPi(a|s) * td_error]\n",
    "                self.exp_v = self.normal_dist.log_prob(self.gt_action) * self.td_error\n",
    "                self.exp_v = self.exp_v - 0.01 * self.normal_dist.entropy() # Add cross entropy cost to encourage exploration\n",
    "            \n",
    "            with tf.name_scope(\"actor_train\"):\n",
    "                # wish to maximize Q value\n",
    "                self.actor_train = tf.train.AdamOptimizer(learning_rate=LR_A).minimize(-self.exp_v) # min(-v) = max(v)\n",
    "        \n",
    "        with tf.variable_scope(\"Critic\"):\n",
    "            # create critic network\n",
    "            self.v = self.create_critic(self.S, self.gt_action)\n",
    "            \n",
    "            with tf.name_scope(\"squared_TD_error\"):\n",
    "                # critic gradient = grad[r + gamma * V(s_) - V(s)]\n",
    "                critic_v_target = self.R + GAMMA * self.v_\n",
    "                self.critic_td_error = tf.reduce_mean(critic_v_target - self.v)\n",
    "                self.loss = tf.square(self.critic_td_error)\n",
    "            \n",
    "            with tf.name_scope(\"critic_train\"):\n",
    "                # wish to minimize the td error\n",
    "                self.critic_train = tf.train.AdamOptimizer(learning_rate=LR_C).minimize(self.loss) \n",
    "                \n",
    "    def choose_action(self, s):\n",
    "        s = s[np.newaxis, :]\n",
    "        return self.sess.run(self.action, {self.S: s}) # return a action with continuous real number\n",
    "    \n",
    "    def create_actor(self, s):\n",
    "        l1 = tf.layers.dense(s, units=30, activation=tf.nn.relu, name='l1')\n",
    "        mu = tf.layers.dense(inputs=l1, units=1, activation=tf.nn.tanh, name='mu')\n",
    "        sigma = tf.layers.dense(inputs=l1, units=1, activation=tf.nn.softplus, name='sigma')\n",
    "        normal_dist = tf.distributions.Normal(tf.squeeze(mu*2), tf.squeeze(sigma + 1e-5))\n",
    "        # action = tf.clip_by_value(normal_dist.sample(1), -self.action_bound[0], -self.action_bound[0], name='policy_action')\n",
    "        action = tf.multiply(normal_dist.sample(1), self.action_bound, name='policy_action')\n",
    "        return action, normal_dist\n",
    "        \n",
    "    def update_actor(self, s, a , td):\n",
    "        s = s[np.newaxis, :]\n",
    "        feed_dict = {self.S: s, self.gt_action: a, self.td_error: td}\n",
    "        _, exp_v = self.sess.run([self.actor_train, self.exp_v], feed_dict)\n",
    "        return exp_v\n",
    "        \n",
    "    def create_critic(self, s, a):\n",
    "        l1 = tf.layers.dense(inputs=s, units=30, activation=tf.nn.relu, name='l1')\n",
    "        if USE_ACTION_AS_INPUT:\n",
    "            a = tf.reshape(a, (1, 1))\n",
    "            l2 = tf.layers.dense(inputs=tf.concat([l1, a], axis=1), units=20, activation=tf.nn.relu, name=\"l2\")\n",
    "            v = tf.layers.dense(inputs=l2, units=1, activation=None, name=\"value\")\n",
    "        else:\n",
    "            v = tf.layers.dense(inputs=l1, units=1, activation=None, name=\"value\")\n",
    "        return v\n",
    "    \n",
    "    def update_critic(self, s, r, s_, a=None):\n",
    "        s, s_ = s[np.newaxis, :], s_[np.newaxis, :]\n",
    "        \n",
    "        if a is None:\n",
    "            v_ = self.sess.run(self.v, {self.S: s_})\n",
    "            td_error, _ = self.sess.run([self.critic_td_error, self.critic_train],\n",
    "                                              {self.S: s, self.v_: v_, self.R: r})\n",
    "        else:\n",
    "            v_ = self.sess.run(self.v, {self.S: s_, self.gt_action: a})\n",
    "            td_error, _ = self.sess.run([self.critic_td_error, self.critic_train],\n",
    "                                              {self.S: s, self.gt_action: a, self.v_: v_, self.R: r})          \n",
    "        return td_error\n"
   ]
  },
  {
   "cell_type": "markdown",
   "metadata": {},
   "source": [
    "![](img/log_actor_critic.png)"
   ]
  },
  {
   "cell_type": "markdown",
   "metadata": {},
   "source": [
    "### Initial our Actor-Critic"
   ]
  },
  {
   "cell_type": "code",
   "execution_count": 5,
   "metadata": {},
   "outputs": [],
   "source": [
    "tf.reset_default_graph()\n",
    "sess = tf.InteractiveSession()\n",
    "\n",
    "actor_critic = ActorCritic(n_action_space, n_obs, action_bound, sess)\n",
    "\n",
    "sess.run(tf.global_variables_initializer())\n",
    "writer = tf.summary.FileWriter(\"D:/temp/log_actor_critic/\", graph=sess.graph)"
   ]
  },
  {
   "cell_type": "markdown",
   "metadata": {},
   "source": [
    "### Main training"
   ]
  },
  {
   "cell_type": "code",
   "execution_count": 6,
   "metadata": {},
   "outputs": [
    {
     "name": "stdout",
     "output_type": "stream",
     "text": [
      "episode: 0   reward: -161\n",
      "episode: 1   reward: -159\n",
      "episode: 2   reward: -159\n",
      "episode: 3   reward: -158\n",
      "episode: 4   reward: -159\n",
      "episode: 5   reward: -158\n",
      "episode: 6   reward: -157\n",
      "episode: 7   reward: -156\n",
      "episode: 8   reward: -156\n",
      "episode: 9   reward: -152\n",
      "episode: 10   reward: -152\n",
      "episode: 11   reward: -155\n",
      "episode: 12   reward: -158\n",
      "episode: 13   reward: -161\n",
      "episode: 14   reward: -162\n",
      "episode: 15   reward: -165\n",
      "episode: 16   reward: -167\n",
      "episode: 17   reward: -167\n",
      "episode: 18   reward: -166\n",
      "episode: 19   reward: -164\n",
      "episode: 20   reward: -165\n",
      "episode: 21   reward: -165\n",
      "episode: 22   reward: -165\n",
      "episode: 23   reward: -167\n",
      "episode: 24   reward: -163\n",
      "episode: 25   reward: -160\n",
      "episode: 26   reward: -159\n",
      "episode: 27   reward: -161\n",
      "episode: 28   reward: -159\n",
      "episode: 29   reward: -158\n",
      "episode: 30   reward: -156\n",
      "episode: 31   reward: -157\n",
      "episode: 32   reward: -157\n",
      "episode: 33   reward: -158\n",
      "episode: 34   reward: -157\n",
      "episode: 35   reward: -155\n",
      "episode: 36   reward: -156\n",
      "episode: 37   reward: -156\n",
      "episode: 38   reward: -156\n",
      "episode: 39   reward: -154\n",
      "episode: 40   reward: -155\n",
      "episode: 41   reward: -157\n",
      "episode: 42   reward: -156\n",
      "episode: 43   reward: -155\n",
      "episode: 44   reward: -152\n",
      "episode: 45   reward: -155\n",
      "episode: 46   reward: -155\n",
      "episode: 47   reward: -157\n",
      "episode: 48   reward: -156\n",
      "episode: 49   reward: -155\n",
      "episode: 50   reward: -156\n",
      "episode: 51   reward: -156\n",
      "episode: 52   reward: -154\n",
      "episode: 53   reward: -151\n",
      "episode: 54   reward: -154\n",
      "episode: 55   reward: -153\n",
      "episode: 56   reward: -150\n",
      "episode: 57   reward: -145\n",
      "episode: 58   reward: -145\n",
      "episode: 59   reward: -142\n",
      "episode: 60   reward: -143\n",
      "episode: 61   reward: -140\n",
      "episode: 62   reward: -143\n",
      "episode: 63   reward: -140\n",
      "episode: 64   reward: -138\n",
      "episode: 65   reward: -135\n",
      "episode: 66   reward: -136\n",
      "episode: 67   reward: -134\n",
      "episode: 68   reward: -133\n",
      "episode: 69   reward: -132\n",
      "episode: 70   reward: -129\n",
      "episode: 71   reward: -128\n",
      "episode: 72   reward: -126\n",
      "episode: 73   reward: -123\n",
      "episode: 74   reward: -120\n",
      "episode: 75   reward: -120\n",
      "episode: 76   reward: -122\n",
      "episode: 77   reward: -119\n",
      "episode: 78   reward: -121\n",
      "episode: 79   reward: -120\n",
      "episode: 80   reward: -124\n",
      "episode: 81   reward: -122\n",
      "episode: 82   reward: -122\n",
      "episode: 83   reward: -123\n",
      "episode: 84   reward: -120\n",
      "episode: 85   reward: -118\n",
      "episode: 86   reward: -113\n",
      "episode: 87   reward: -114\n",
      "episode: 88   reward: -114\n",
      "episode: 89   reward: -113\n",
      "episode: 90   reward: -114\n",
      "episode: 91   reward: -113\n",
      "episode: 92   reward: -114\n",
      "episode: 93   reward: -114\n",
      "episode: 94   reward: -112\n",
      "episode: 95   reward: -111\n",
      "episode: 96   reward: -112\n",
      "episode: 97   reward: -111\n",
      "episode: 98   reward: -110\n",
      "episode: 99   reward: -114\n"
     ]
    }
   ],
   "source": [
    "reward_history = []\n",
    "for i_episode in range(MAX_EPISODE):\n",
    "    s = env.reset()\n",
    "    t, ep_rs = 0, 0\n",
    "    while True:\n",
    "        if RENDER:\n",
    "            env.render()\n",
    "        a = actor_critic.choose_action(s)\n",
    "        s_, r, done, info = env.step(a)\n",
    "        r /= 10 # scaled reward to converge faster\n",
    "        if USE_ACTION_AS_INPUT:\n",
    "            td_error = actor_critic.update_critic(s, r, s_, a)\n",
    "        else:\n",
    "            td_error = actor_critic.update_critic(s, r, s_) # critic gradient = grad[r + gamma * V(s_) - V(s)]\n",
    "        actor_critic.update_actor(s, a, td_error) # actor gradient = grad[logPi(a|s) * td_error]\n",
    "\n",
    "        s = s_\n",
    "        t += 1\n",
    "        ep_rs += r\n",
    "        \n",
    "        if t > MAX_EP_STEPS:\n",
    "            reward_history.append(ep_rs)\n",
    "            if 'running_reward' not in globals():\n",
    "                running_reward = ep_rs\n",
    "            else:\n",
    "                running_reward = running_reward * 0.9 + ep_rs * 0.1 # 希望是穩定的 reward\n",
    "            \n",
    "            if running_reward > DISPLAY_REWARD_THRESHOLD: RENDER = True  # rendering\n",
    "            print(\"episode:\", i_episode, \"  reward:\", int(running_reward))\n",
    "            break"
   ]
  },
  {
   "cell_type": "code",
   "execution_count": 7,
   "metadata": {},
   "outputs": [
    {
     "data": {
      "text/plain": [
       "[<matplotlib.lines.Line2D at 0x20c903cea58>]"
      ]
     },
     "execution_count": 7,
     "metadata": {},
     "output_type": "execute_result"
    },
    {
     "data": {
      "image/png": "[encoded data removed]",
      "text/plain": [
       "<Figure size 432x288 with 1 Axes>"
      ]
     },
     "metadata": {},
     "output_type": "display_data"
    }
   ],
   "source": [
    "plt.plot(reward_history)"
   ]
  },
  {
   "cell_type": "code",
   "execution_count": 8,
   "metadata": {},
   "outputs": [],
   "source": [
    "# Add ops to save and restore all the variables.\n",
    "saver = tf.train.Saver()\n",
    "# Save the variables to disk.\n",
    "save_path = saver.save(sess, \"checkpoint/ac_v1.ckpt\")"
   ]
  },
  {
   "cell_type": "markdown",
   "metadata": {},
   "source": [
    "### Use checkpoint\n",
    "這裡有幫大家跑好 `USE_ACTION_AS_INPUT = False` 的 model，有興趣的話可以 restore ac.ckpt 這個 checkpoint 來玩 pendulum。"
   ]
  },
  {
   "cell_type": "code",
   "execution_count": 9,
   "metadata": {},
   "outputs": [
    {
     "name": "stdout",
     "output_type": "stream",
     "text": [
      "INFO:tensorflow:Restoring parameters from checkpoint/ac_v1.ckpt\n"
     ]
    }
   ],
   "source": [
    "saver.restore(sess, \"checkpoint/ac_v1.ckpt\")\n",
    "s = env.reset()\n",
    "i_step = 0\n",
    "while True:\n",
    "    env.render()\n",
    "    a = actor_critic.choose_action(s)\n",
    "    s_, r, done, info = env.step(a)\n",
    "    s = s_\n",
    "    i_step += 1\n",
    "    if i_step > 300:\n",
    "        break"
   ]
  },
  {
   "cell_type": "code",
   "execution_count": null,
   "metadata": {},
   "outputs": [],
   "source": [
    "# 啟動TensorBoard\n",
    "!tensorboard --logdir=D:/temp/log_actor_critic/ --debug"
   ]
  }
 ],
 "metadata": {
  "kernelspec": {
   "display_name": "Python 3",
   "language": "python",
   "name": "python3"
  },
  "language_info": {
   "codemirror_mode": {
    "name": "ipython",
    "version": 3
   },
   "file_extension": ".py",
   "mimetype": "text/x-python",
   "name": "python",
   "nbconvert_exporter": "python",
   "pygments_lexer": "ipython3",
   "version": "3.5.5"
  }
 },
 "nbformat": 4,
 "nbformat_minor": 2
}
