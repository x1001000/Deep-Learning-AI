{
 "cells": [
  {
   "cell_type": "markdown",
   "metadata": {},
   "source": [
    "### Import package"
   ]
  },
  {
   "cell_type": "code",
   "execution_count": 1,
   "metadata": {
    "collapsed": true
   },
   "outputs": [],
   "source": [
    "import tensorflow as tf\n",
    "import numpy as np\n",
    "import gym\n",
    "import matplotlib.pyplot as plt\n",
    "\n",
    "np.random.seed(2)\n",
    "tf.set_random_seed(2)\n",
    "\n",
    "%matplotlib inline"
   ]
  },
  {
   "cell_type": "markdown",
   "metadata": {},
   "source": [
    "### Hyperparameter"
   ]
  },
  {
   "cell_type": "code",
   "execution_count": 2,
   "metadata": {
    "collapsed": true
   },
   "outputs": [],
   "source": [
    "MAX_EPISODES = 200\n",
    "MAX_EP_STEPS = 200\n",
    "LR_A = 0.001 # learning rate for actor\n",
    "LR_C = 0.001 # learning rate for critic\n",
    "DISPLAY_REWARD_THRESHOLD = -50\n",
    "RENDER = False\n",
    "GAMMA = 0.9 # reward discount factor\n",
    "TAU = 0.01 # soft replacement\n",
    "MEMORY_CAPACITY = 10000\n",
    "BATCH_SIZE = 32"
   ]
  },
  {
   "cell_type": "markdown",
   "metadata": {},
   "source": [
    "<img src='img/ddpg_pseudo.jpg'>"
   ]
  },
  {
   "cell_type": "markdown",
   "metadata": {},
   "source": [
    "### DDPG"
   ]
  },
  {
   "cell_type": "markdown",
   "metadata": {},
   "source": [
    "以下程式碼我們做了挖空的處理，註解有 `###` 的部分就要請你練習寫出來的地方"
   ]
  },
  {
   "cell_type": "code",
   "execution_count": 3,
   "metadata": {
    "collapsed": true
   },
   "outputs": [],
   "source": [
    "class DDPG(object):\n",
    "    def __init__(self, a_dim, s_dim, a_bound, sess):\n",
    "        ### 請決定 memory 的維度\n",
    "        self.memory = np.zeros((MEMORY_CAPACITY, ), dtype=np.float32) # state, next_state, action, reward\n",
    "        self.pointer = 0\n",
    "        self.sess = sess\n",
    "\n",
    "        self.a_dim, self.s_dim, self.a_bound = a_dim, s_dim, a_bound,\n",
    "        self.S = tf.placeholder(tf.float32, [None, s_dim], 'state_input')\n",
    "        self.S_ = tf.placeholder(tf.float32, [None, s_dim], 'next_state_input')\n",
    "        self.R = tf.placeholder(tf.float32, [None, 1], 'reward')\n",
    "\n",
    "        with tf.variable_scope('Actor'):\n",
    "            self.action = self.create_actor(self.S, scope='eval', trainable=True)\n",
    "            action_ = self.create_actor(self.S_, scope='target', trainable=False)\n",
    "            \n",
    "        with tf.variable_scope('Critic'):\n",
    "            # assign self.a = a in memory when calculating q for td_error,\n",
    "            # otherwise the self.a is from Actor when updating Actor\n",
    "            v = self.create_critic(self.S, self.action, scope='eval', trainable=True)\n",
    "            v_ = self.create_critic(self.S_, action_, scope='target', trainable=False)\n",
    "\n",
    "        # networks parameters\n",
    "        self.ae_params = tf.get_collection(tf.GraphKeys.GLOBAL_VARIABLES, scope='Actor/eval')\n",
    "        self.at_params = tf.get_collection(tf.GraphKeys.GLOBAL_VARIABLES, scope='Actor/target')\n",
    "        self.ce_params = tf.get_collection(tf.GraphKeys.GLOBAL_VARIABLES, scope='Critic/eval')\n",
    "        self.ct_params = tf.get_collection(tf.GraphKeys.GLOBAL_VARIABLES, scope='Critic/target')\n",
    "\n",
    "        # target net replacement\n",
    "        self.soft_replace = [[tf.assign(ta, (1 - TAU) * ta + TAU * ea), tf.assign(tc, (1 - TAU) * tc + TAU * ec)]\n",
    "                             for ta, ea, tc, ec in zip(self.at_params, self.ae_params, self.ct_params, self.ce_params)]\n",
    "        \n",
    "        ### 請寫出如何更新 critic, hint: use var_list when minimize the loss\n",
    "        v_target = \n",
    "        \n",
    "        # in the feed dict for the td_error, the self.action should change to actions in memory\n",
    "        td_error = \n",
    "        self.critic_train = \n",
    "        \n",
    "        ### 請寫出如何更新 actor\n",
    "        exp_v =    # maximize the q\n",
    "        self.actor_train = \n",
    "\n",
    "        self.sess.run(tf.global_variables_initializer())\n",
    "\n",
    "    def choose_action(self, s):\n",
    "        return self.sess.run(self.action, {self.S: s[np.newaxis, :]})[0]\n",
    "\n",
    "    def learn(self):\n",
    "        indices = np.random.choice(MEMORY_CAPACITY, size=BATCH_SIZE)\n",
    "        bt = self.memory[indices, :]\n",
    "        bs = bt[:, :self.s_dim]\n",
    "        ba = bt[:, self.s_dim: self.s_dim + self.a_dim]\n",
    "        br = bt[:, -self.s_dim - 1: -self.s_dim]\n",
    "        bs_ = bt[:, -self.s_dim:]\n",
    "\n",
    "        self.sess.run(self.actor_train, {self.S: bs})\n",
    "        self.sess.run(self.critic_train, {self.S: bs, self.action: ba, self.R: br, self.S_: bs_})\n",
    "\n",
    "        # soft target replacement\n",
    "        self.sess.run(self.soft_replace)\n",
    "\n",
    "    def store_transition(self, s, a, r, s_):\n",
    "        transition = np.hstack((s, a, [r], s_))\n",
    "        index = self.pointer % MEMORY_CAPACITY  # replace the old memory with new memory\n",
    "        self.memory[index, :] = transition\n",
    "        self.pointer += 1\n",
    "\n",
    "    def create_actor(self, s, scope, trainable):\n",
    "        ### 請練習定義 actor 的網路架構\n",
    "        with tf.variable_scope(scope):\n",
    "            \n",
    "            \n",
    "            return tf.multiply(a, self.a_bound, name='policy_action')\n",
    "\n",
    "    def create_critic(self, s, a, scope, trainable):\n",
    "        ### 請練習定義 critic 的網路架構\n",
    "        with tf.variable_scope(scope):\n",
    "            \n",
    "            \n",
    "            return   # Q(s,a)"
   ]
  },
  {
   "cell_type": "markdown",
   "metadata": {},
   "source": [
    "### Environment Settings"
   ]
  },
  {
   "cell_type": "code",
   "execution_count": 4,
   "metadata": {
    "collapsed": true
   },
   "outputs": [],
   "source": [
    "ENV_NAME = 'Pendulum-v0'\n",
    "env = gym.make(ENV_NAME)\n",
    "env.seed(1)\n",
    "\n",
    "s_dim = env.observation_space.shape[0]\n",
    "a_dim = env.action_space.shape[0]\n",
    "a_bound = env.action_space.high"
   ]
  },
  {
   "cell_type": "markdown",
   "metadata": {},
   "source": [
    "### Initial DDPG"
   ]
  },
  {
   "cell_type": "code",
   "execution_count": null,
   "metadata": {
    "collapsed": true
   },
   "outputs": [],
   "source": [
    "tf.reset_default_graph()\n",
    "sess = tf.InteractiveSession()\n",
    "ddpg = DDPG(a_dim, s_dim, a_bound, sess=sess)"
   ]
  },
  {
   "cell_type": "markdown",
   "metadata": {},
   "source": [
    "### Main training"
   ]
  },
  {
   "cell_type": "code",
   "execution_count": 5,
   "metadata": {},
   "outputs": [
    {
     "name": "stdout",
     "output_type": "stream",
     "text": [
      "Episode: 0  Reward: -167 Explore: 3.00\n",
      "Episode: 1  Reward: -166 Explore: 3.00\n",
      "Episode: 2  Reward: -166 Explore: 3.00\n",
      "Episode: 3  Reward: -168 Explore: 3.00\n",
      "Episode: 4  Reward: -167 Explore: 3.00\n",
      "Episode: 5  Reward: -168 Explore: 3.00\n",
      "Episode: 6  Reward: -168 Explore: 3.00\n",
      "Episode: 7  Reward: -169 Explore: 3.00\n",
      "Episode: 8  Reward: -167 Explore: 3.00\n",
      "Episode: 9  Reward: -168 Explore: 3.00\n",
      "Episode: 10  Reward: -167 Explore: 3.00\n",
      "Episode: 11  Reward: -166 Explore: 3.00\n",
      "Episode: 12  Reward: -167 Explore: 3.00\n",
      "Episode: 13  Reward: -167 Explore: 3.00\n",
      "Episode: 14  Reward: -167 Explore: 3.00\n",
      "Episode: 15  Reward: -168 Explore: 3.00\n",
      "Episode: 16  Reward: -167 Explore: 3.00\n",
      "Episode: 17  Reward: -164 Explore: 3.00\n",
      "Episode: 18  Reward: -162 Explore: 3.00\n",
      "Episode: 19  Reward: -164 Explore: 3.00\n",
      "Episode: 20  Reward: -165 Explore: 3.00\n",
      "Episode: 21  Reward: -164 Explore: 3.00\n",
      "Episode: 22  Reward: -160 Explore: 3.00\n",
      "Episode: 23  Reward: -161 Explore: 3.00\n",
      "Episode: 24  Reward: -161 Explore: 3.00\n",
      "Episode: 25  Reward: -162 Explore: 3.00\n",
      "Episode: 26  Reward: -163 Explore: 3.00\n",
      "Episode: 27  Reward: -164 Explore: 3.00\n",
      "Episode: 28  Reward: -163 Explore: 3.00\n",
      "Episode: 29  Reward: -162 Explore: 3.00\n",
      "Episode: 30  Reward: -162 Explore: 3.00\n",
      "Episode: 31  Reward: -162 Explore: 3.00\n",
      "Episode: 32  Reward: -161 Explore: 3.00\n",
      "Episode: 33  Reward: -160 Explore: 3.00\n",
      "Episode: 34  Reward: -159 Explore: 3.00\n",
      "Episode: 35  Reward: -160 Explore: 3.00\n",
      "Episode: 36  Reward: -159 Explore: 3.00\n",
      "Episode: 37  Reward: -160 Explore: 3.00\n",
      "Episode: 38  Reward: -160 Explore: 3.00\n",
      "Episode: 39  Reward: -161 Explore: 3.00\n",
      "Episode: 40  Reward: -159 Explore: 3.00\n",
      "Episode: 41  Reward: -160 Explore: 3.00\n",
      "Episode: 42  Reward: -161 Explore: 3.00\n",
      "Episode: 43  Reward: -159 Explore: 3.00\n",
      "Episode: 44  Reward: -159 Explore: 3.00\n",
      "Episode: 45  Reward: -160 Explore: 3.00\n",
      "Episode: 46  Reward: -159 Explore: 3.00\n",
      "Episode: 47  Reward: -160 Explore: 3.00\n",
      "Episode: 48  Reward: -158 Explore: 3.00\n",
      "Episode: 49  Reward: -160 Explore: 2.93\n",
      "Episode: 50  Reward: -160 Explore: 2.65\n",
      "Episode: 51  Reward: -155 Explore: 2.39\n",
      "Episode: 52  Reward: -154 Explore: 2.16\n",
      "Episode: 53  Reward: -155 Explore: 1.96\n",
      "Episode: 54  Reward: -157 Explore: 1.77\n",
      "Episode: 55  Reward: -155 Explore: 1.60\n",
      "Episode: 56  Reward: -155 Explore: 1.45\n",
      "Episode: 57  Reward: -153 Explore: 1.31\n",
      "Episode: 58  Reward: -149 Explore: 1.18\n",
      "Episode: 59  Reward: -147 Explore: 1.07\n",
      "Episode: 60  Reward: -144 Explore: 0.97\n",
      "Episode: 61  Reward: -144 Explore: 0.88\n",
      "Episode: 62  Reward: -143 Explore: 0.79\n",
      "Episode: 63  Reward: -139 Explore: 0.72\n",
      "Episode: 64  Reward: -137 Explore: 0.65\n",
      "Episode: 65  Reward: -134 Explore: 0.59\n",
      "Episode: 66  Reward: -128 Explore: 0.53\n",
      "Episode: 67  Reward: -127 Explore: 0.48\n",
      "Episode: 68  Reward: -124 Explore: 0.43\n",
      "Episode: 69  Reward: -122 Explore: 0.39\n",
      "Episode: 70  Reward: -119 Explore: 0.35\n",
      "Episode: 71  Reward: -117 Explore: 0.32\n",
      "Episode: 72  Reward: -114 Explore: 0.29\n",
      "Episode: 73  Reward: -110 Explore: 0.26\n",
      "Episode: 74  Reward: -100 Explore: 0.24\n",
      "Episode: 75  Reward: -94 Explore: 0.21\n",
      "Episode: 76  Reward: -89 Explore: 0.19\n",
      "Episode: 77  Reward: -82 Explore: 0.18\n",
      "Episode: 78  Reward: -77 Explore: 0.16\n",
      "Episode: 79  Reward: -72 Explore: 0.14\n",
      "Episode: 80  Reward: -68 Explore: 0.13\n",
      "Episode: 81  Reward: -61 Explore: 0.12\n",
      "Episode: 82  Reward: -59 Explore: 0.11\n",
      "Episode: 83  Reward: -58 Explore: 0.10\n",
      "Episode: 84  Reward: -54 Explore: 0.09\n",
      "Episode: 85  Reward: -52 Explore: 0.08\n",
      "Episode: 86  Reward: -48 Explore: 0.07\n",
      "Episode: 87  Reward: -46 Explore: 0.06\n",
      "Episode: 88  Reward: -43 Explore: 0.06\n",
      "Episode: 89  Reward: -41 Explore: 0.05\n",
      "Episode: 90  Reward: -40 Explore: 0.05\n",
      "Episode: 91  Reward: -38 Explore: 0.04\n",
      "Episode: 92  Reward: -36 Explore: 0.04\n",
      "Episode: 93  Reward: -33 Explore: 0.04\n",
      "Episode: 94  Reward: -30 Explore: 0.03\n",
      "Episode: 95  Reward: -28 Explore: 0.03\n",
      "Episode: 96  Reward: -27 Explore: 0.03\n",
      "Episode: 97  Reward: -25 Explore: 0.02\n",
      "Episode: 98  Reward: -24 Explore: 0.02\n",
      "Episode: 99  Reward: -25 Explore: 0.02\n",
      "Episode: 100  Reward: -25 Explore: 0.02\n",
      "Episode: 101  Reward: -25 Explore: 0.02\n",
      "Episode: 102  Reward: -26 Explore: 0.01\n",
      "Episode: 103  Reward: -24 Explore: 0.01\n",
      "Episode: 104  Reward: -24 Explore: 0.01\n",
      "Episode: 105  Reward: -22 Explore: 0.01\n",
      "Episode: 106  Reward: -19 Explore: 0.01\n",
      "Episode: 107  Reward: -19 Explore: 0.01\n",
      "Episode: 108  Reward: -19 Explore: 0.01\n",
      "Episode: 109  Reward: -19 Explore: 0.01\n",
      "Episode: 110  Reward: -18 Explore: 0.01\n",
      "Episode: 111  Reward: -18 Explore: 0.01\n",
      "Episode: 112  Reward: -20 Explore: 0.01\n",
      "Episode: 113  Reward: -20 Explore: 0.00\n",
      "Episode: 114  Reward: -18 Explore: 0.00\n",
      "Episode: 115  Reward: -27 Explore: 0.00\n",
      "Episode: 116  Reward: -27 Explore: 0.00\n",
      "Episode: 117  Reward: -28 Explore: 0.00\n",
      "Episode: 118  Reward: -39 Explore: 0.00\n",
      "Episode: 119  Reward: -47 Explore: 0.00\n",
      "Episode: 120  Reward: -53 Explore: 0.00\n",
      "Episode: 121  Reward: -58 Explore: 0.00\n",
      "Episode: 122  Reward: -61 Explore: 0.00\n",
      "Episode: 123  Reward: -55 Explore: 0.00\n",
      "Episode: 124  Reward: -55 Explore: 0.00\n",
      "Episode: 125  Reward: -52 Explore: 0.00\n",
      "Episode: 126  Reward: -50 Explore: 0.00\n",
      "Episode: 127  Reward: -47 Explore: 0.00\n",
      "Episode: 128  Reward: -43 Explore: 0.00\n",
      "Episode: 129  Reward: -38 Explore: 0.00\n",
      "Episode: 130  Reward: -35 Explore: 0.00\n",
      "Episode: 131  Reward: -35 Explore: 0.00\n",
      "Episode: 132  Reward: -34 Explore: 0.00\n",
      "Episode: 133  Reward: -32 Explore: 0.00\n",
      "Episode: 134  Reward: -33 Explore: 0.00\n",
      "Episode: 135  Reward: -31 Explore: 0.00\n",
      "Episode: 136  Reward: -30 Explore: 0.00\n",
      "Episode: 137  Reward: -29 Explore: 0.00\n",
      "Episode: 138  Reward: -30 Explore: 0.00\n",
      "Episode: 139  Reward: -30 Explore: 0.00\n",
      "Episode: 140  Reward: -29 Explore: 0.00\n",
      "Episode: 141  Reward: -31 Explore: 0.00\n",
      "Episode: 142  Reward: -29 Explore: 0.00\n",
      "Episode: 143  Reward: -28 Explore: 0.00\n",
      "Episode: 144  Reward: -28 Explore: 0.00\n",
      "Episode: 145  Reward: -27 Explore: 0.00\n",
      "Episode: 146  Reward: -28 Explore: 0.00\n",
      "Episode: 147  Reward: -27 Explore: 0.00\n",
      "Episode: 148  Reward: -28 Explore: 0.00\n",
      "Episode: 149  Reward: -27 Explore: 0.00\n",
      "Episode: 150  Reward: -25 Explore: 0.00\n",
      "Episode: 151  Reward: -27 Explore: 0.00\n",
      "Episode: 152  Reward: -27 Explore: 0.00\n",
      "Episode: 153  Reward: -24 Explore: 0.00\n",
      "Episode: 154  Reward: -25 Explore: 0.00\n",
      "Episode: 155  Reward: -24 Explore: 0.00\n",
      "Episode: 156  Reward: -25 Explore: 0.00\n",
      "Episode: 157  Reward: -26 Explore: 0.00\n",
      "Episode: 158  Reward: -25 Explore: 0.00\n",
      "Episode: 159  Reward: -26 Explore: 0.00\n",
      "Episode: 160  Reward: -26 Explore: 0.00\n",
      "Episode: 161  Reward: -27 Explore: 0.00\n",
      "Episode: 162  Reward: -25 Explore: 0.00\n",
      "Episode: 163  Reward: -23 Explore: 0.00\n",
      "Episode: 164  Reward: -22 Explore: 0.00\n",
      "Episode: 165  Reward: -21 Explore: 0.00\n",
      "Episode: 166  Reward: -22 Explore: 0.00\n",
      "Episode: 167  Reward: -21 Explore: 0.00\n",
      "Episode: 168  Reward: -21 Explore: 0.00\n",
      "Episode: 169  Reward: -20 Explore: 0.00\n",
      "Episode: 170  Reward: -21 Explore: 0.00\n",
      "Episode: 171  Reward: -24 Explore: 0.00\n",
      "Episode: 172  Reward: -35 Explore: 0.00\n",
      "Episode: 173  Reward: -36 Explore: 0.00\n",
      "Episode: 174  Reward: -33 Explore: 0.00\n",
      "Episode: 175  Reward: -31 Explore: 0.00\n",
      "Episode: 176  Reward: -31 Explore: 0.00\n",
      "Episode: 177  Reward: -29 Explore: 0.00\n",
      "Episode: 178  Reward: -27 Explore: 0.00\n",
      "Episode: 179  Reward: -26 Explore: 0.00\n",
      "Episode: 180  Reward: -25 Explore: 0.00\n",
      "Episode: 181  Reward: -25 Explore: 0.00\n",
      "Episode: 182  Reward: -33 Explore: 0.00\n",
      "Episode: 183  Reward: -38 Explore: 0.00\n",
      "Episode: 184  Reward: -38 Explore: 0.00\n",
      "Episode: 185  Reward: -35 Explore: 0.00\n",
      "Episode: 186  Reward: -33 Explore: 0.00\n",
      "Episode: 187  Reward: -31 Explore: 0.00\n",
      "Episode: 188  Reward: -29 Explore: 0.00\n",
      "Episode: 189  Reward: -27 Explore: 0.00\n",
      "Episode: 190  Reward: -27 Explore: 0.00\n",
      "Episode: 191  Reward: -29 Explore: 0.00\n",
      "Episode: 192  Reward: -28 Explore: 0.00\n",
      "Episode: 193  Reward: -25 Explore: 0.00\n",
      "Episode: 194  Reward: -26 Explore: 0.00\n",
      "Episode: 195  Reward: -26 Explore: 0.00\n",
      "Episode: 196  Reward: -26 Explore: 0.00\n",
      "Episode: 197  Reward: -24 Explore: 0.00\n",
      "Episode: 198  Reward: -24 Explore: 0.00\n",
      "Episode: 199  Reward: -24 Explore: 0.00\n"
     ]
    }
   ],
   "source": [
    "var = 3  # control exploration\n",
    "reward_history = []\n",
    "for i in range(MAX_EPISODES):\n",
    "    s = env.reset()\n",
    "    t = 0\n",
    "    ep_rs = 0\n",
    "    while True:\n",
    "        if RENDER:\n",
    "            env.render()\n",
    "\n",
    "        # Add exploration noise\n",
    "        a = ddpg.choose_action(s)\n",
    "        a = np.clip(np.random.normal(a, var), -2, 2)    # add randomness to action selection for exploration\n",
    "        s_, r, done, info = env.step(a)\n",
    "        r = r/10\n",
    "\n",
    "        ddpg.store_transition(s, a, r, s_)\n",
    "        \n",
    "        # MEMORY 足夠大了就開始 learn\n",
    "        if ddpg.pointer > MEMORY_CAPACITY:\n",
    "            var *= .9995    # decay the action randomness\n",
    "            ddpg.learn()\n",
    "\n",
    "        s = s_\n",
    "        t += 1\n",
    "        ep_rs += r\n",
    "        if t > MAX_EP_STEPS:\n",
    "            reward_history.append(ep_rs)\n",
    "            if 'running_reward' not in globals():\n",
    "                running_reward = ep_rs\n",
    "            else:\n",
    "                running_reward = running_reward * 0.9 + ep_rs * 0.1 # 希望是穩定的 reward\n",
    "            print('Episode:', i, ' Reward: %i' % int(running_reward), 'Explore: %.2f' % var, )\n",
    "            if running_reward > DISPLAY_REWARD_THRESHOLD:RENDER = True\n",
    "            break"
   ]
  },
  {
   "cell_type": "code",
   "execution_count": 7,
   "metadata": {},
   "outputs": [
    {
     "data": {
      "text/plain": [
       "[<matplotlib.lines.Line2D at 0x2ee55f38668>]"
      ]
     },
     "execution_count": 7,
     "metadata": {},
     "output_type": "execute_result"
    },
    {
     "data": {
      "image/png": "[encoded data removed]",
      "text/plain": [
       "<matplotlib.figure.Figure at 0x2ee3830d908>"
      ]
     },
     "metadata": {},
     "output_type": "display_data"
    }
   ],
   "source": [
    "plt.plot(reward_history)"
   ]
  },
  {
   "cell_type": "markdown",
   "metadata": {},
   "source": [
    "### Use checkpoint\n",
    "這裡同樣有幫大家跑好的 model，有興趣的話可以 restore ddpg_v1.ckpt 這個 checkpoint 來玩 pendulum，看看 train 好的 agent 多強。"
   ]
  },
  {
   "cell_type": "code",
   "execution_count": 8,
   "metadata": {
    "collapsed": true
   },
   "outputs": [],
   "source": [
    "# Add ops to save and restore all the variables.\n",
    "saver = tf.train.Saver()\n",
    "# Save the variables to disk.\n",
    "save_path = saver.save(sess, \"checkpoint/ddpg_v1.ckpt\")"
   ]
  },
  {
   "cell_type": "code",
   "execution_count": 10,
   "metadata": {},
   "outputs": [
    {
     "name": "stdout",
     "output_type": "stream",
     "text": [
      "INFO:tensorflow:Restoring parameters from checkpoint/ddpg_v1.ckpt\n"
     ]
    }
   ],
   "source": [
    "saver.restore(sess, \"checkpoint/ddpg_v1.ckpt\")\n",
    "s = env.reset()\n",
    "i_step = 0\n",
    "while True:\n",
    "    env.render()\n",
    "    a = ddpg.choose_action(s)\n",
    "    s_, r, done, info = env.step(a)\n",
    "    s = s_\n",
    "    i_step += 1\n",
    "    if i_step > 300:\n",
    "        break"
   ]
  }
 ],
 "metadata": {
  "kernelspec": {
   "display_name": "Python 3",
   "language": "python",
   "name": "python3"
  },
  "language_info": {
   "codemirror_mode": {
    "name": "ipython",
    "version": 3
   },
   "file_extension": ".py",
   "mimetype": "text/x-python",
   "name": "python",
   "nbconvert_exporter": "python",
   "pygments_lexer": "ipython3",
   "version": "3.6.1"
  }
 },
 "nbformat": 4,
 "nbformat_minor": 2
}
