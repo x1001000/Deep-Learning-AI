{
 "cells": [
  {
   "cell_type": "markdown",
   "metadata": {},
   "source": [
    "# POST爬蟲練習\n",
    "\n",
    "- 觀察 https://www.thsrc.com.tw/tw/TimeTable/SearchResult 並撰寫爬蟲程式\n",
    "- 抓取一個禮拜後的高鐵時刻表\n",
    "- 台北到台南下午兩點的班次\n",
    "- 使用 requests + BeautifulSoup 實作\n",
    "- 透過 pandas 輸出成 csv"
   ]
  },
  {
   "cell_type": "code",
   "execution_count": 1,
   "metadata": {},
   "outputs": [],
   "source": [
    "import os\n",
    "import requests\n",
    "import pandas as pd\n",
    "import datetime\n",
    "\n",
    "from bs4 import BeautifulSoup\n",
    "\n",
    "url = 'https://www.thsrc.com.tw/tw/TimeTable/SearchResult'"
   ]
  },
  {
   "cell_type": "code",
   "execution_count": 2,
   "metadata": {},
   "outputs": [
    {
     "name": "stdout",
     "output_type": "stream",
     "text": [
      "The date after one week - 2018/06/05\n"
     ]
    }
   ],
   "source": [
    "after_one_week = datetime.datetime.now() + datetime.timedelta(weeks=1)\n",
    "after_one_week_format = after_one_week.strftime('%Y/%m/%d')\n",
    "print('The date after one week - {}'.format(after_one_week_format))\n",
    "\n",
    "form_data = {\n",
    "    'StartStation': '977abb69-413a-4ccf-a109-0272c24fd490',\n",
    "    'EndStation': '9c5ac6ca-ec89-48f8-aab0-41b738cb1814',\n",
    "    'SearchDate': after_one_week_format,\n",
    "    'SearchTime': '14:00',\n",
    "    'SearchWay': 'DepartureInMandarin',\n",
    "    'RestTime': '',\n",
    "    'EarlyOrLater': ''\n",
    "}"
   ]
  },
  {
   "cell_type": "code",
   "execution_count": 3,
   "metadata": {},
   "outputs": [],
   "source": [
    "resp = requests.post(url, data=form_data)\n",
    "resp.encoding = 'utf-8'\n",
    "soup = BeautifulSoup(resp.text, 'lxml')"
   ]
  },
  {
   "cell_type": "code",
   "execution_count": 5,
   "metadata": {},
   "outputs": [
    {
     "name": "stdout",
     "output_type": "stream",
     "text": [
      "['車次', '出發時間', '抵達時間', '行車時間', '自由座車廂數', '早鳥']\n"
     ]
    }
   ],
   "source": [
    "rows = soup.table.find_all('tr', recursive=False)\n",
    "\n",
    "colname, rows = rows[1], rows[2:]\n",
    "colname = list(colname.stripped_strings)\n",
    "print(colname)"
   ]
  },
  {
   "cell_type": "code",
   "execution_count": 6,
   "metadata": {},
   "outputs": [
    {
     "data": {
      "text/html": [
       "<div>\n",
       "<table border=\"1\" class=\"dataframe\">\n",
       "  <thead>\n",
       "    <tr style=\"text-align: right;\">\n",
       "      <th></th>\n",
       "      <th>車次</th>\n",
       "      <th>出發時間</th>\n",
       "      <th>抵達時間</th>\n",
       "      <th>行車時間</th>\n",
       "      <th>自由座車廂數</th>\n",
       "      <th>早鳥</th>\n",
       "    </tr>\n",
       "  </thead>\n",
       "  <tbody>\n",
       "    <tr>\n",
       "      <th>0</th>\n",
       "      <td>0833</td>\n",
       "      <td>14:11</td>\n",
       "      <td>16:11</td>\n",
       "      <td>02:00</td>\n",
       "      <td>3</td>\n",
       "      <td>8折起</td>\n",
       "    </tr>\n",
       "    <tr>\n",
       "      <th>1</th>\n",
       "      <td>0651</td>\n",
       "      <td>14:46</td>\n",
       "      <td>16:32</td>\n",
       "      <td>01:46</td>\n",
       "      <td>3</td>\n",
       "      <td></td>\n",
       "    </tr>\n",
       "    <tr>\n",
       "      <th>2</th>\n",
       "      <td>0837</td>\n",
       "      <td>15:11</td>\n",
       "      <td>17:11</td>\n",
       "      <td>02:00</td>\n",
       "      <td>3</td>\n",
       "      <td>8折起</td>\n",
       "    </tr>\n",
       "    <tr>\n",
       "      <th>3</th>\n",
       "      <td>0657</td>\n",
       "      <td>15:46</td>\n",
       "      <td>17:32</td>\n",
       "      <td>01:46</td>\n",
       "      <td>3</td>\n",
       "      <td></td>\n",
       "    </tr>\n",
       "    <tr>\n",
       "      <th>4</th>\n",
       "      <td>0841</td>\n",
       "      <td>16:11</td>\n",
       "      <td>18:11</td>\n",
       "      <td>02:00</td>\n",
       "      <td>3</td>\n",
       "      <td>65折起</td>\n",
       "    </tr>\n",
       "    <tr>\n",
       "      <th>5</th>\n",
       "      <td>0661</td>\n",
       "      <td>16:21</td>\n",
       "      <td>18:06</td>\n",
       "      <td>01:45</td>\n",
       "      <td>3</td>\n",
       "      <td>65折起</td>\n",
       "    </tr>\n",
       "    <tr>\n",
       "      <th>6</th>\n",
       "      <td>0663</td>\n",
       "      <td>16:46</td>\n",
       "      <td>18:32</td>\n",
       "      <td>01:46</td>\n",
       "      <td>3</td>\n",
       "      <td></td>\n",
       "    </tr>\n",
       "    <tr>\n",
       "      <th>7</th>\n",
       "      <td>0845</td>\n",
       "      <td>17:11</td>\n",
       "      <td>19:11</td>\n",
       "      <td>02:00</td>\n",
       "      <td>4</td>\n",
       "      <td>65折起</td>\n",
       "    </tr>\n",
       "    <tr>\n",
       "      <th>8</th>\n",
       "      <td>0667</td>\n",
       "      <td>17:21</td>\n",
       "      <td>19:06</td>\n",
       "      <td>01:45</td>\n",
       "      <td>3</td>\n",
       "      <td>8折起</td>\n",
       "    </tr>\n",
       "    <tr>\n",
       "      <th>9</th>\n",
       "      <td>0669</td>\n",
       "      <td>17:46</td>\n",
       "      <td>19:32</td>\n",
       "      <td>01:46</td>\n",
       "      <td>5</td>\n",
       "      <td>8折起</td>\n",
       "    </tr>\n",
       "  </tbody>\n",
       "</table>\n",
       "</div>"
      ],
      "text/plain": [
       "     車次   出發時間   抵達時間   行車時間 自由座車廂數    早鳥\n",
       "0  0833  14:11  16:11  02:00      3   8折起\n",
       "1  0651  14:46  16:32  01:46      3      \n",
       "2  0837  15:11  17:11  02:00      3   8折起\n",
       "3  0657  15:46  17:32  01:46      3      \n",
       "4  0841  16:11  18:11  02:00      3  65折起\n",
       "5  0661  16:21  18:06  01:45      3  65折起\n",
       "6  0663  16:46  18:32  01:46      3      \n",
       "7  0845  17:11  19:11  02:00      4  65折起\n",
       "8  0667  17:21  19:06  01:45      3   8折起\n",
       "9  0669  17:46  19:32  01:46      5   8折起"
      ]
     },
     "execution_count": 6,
     "metadata": {},
     "output_type": "execute_result"
    }
   ],
   "source": [
    "for i, row in enumerate(rows):\n",
    "    trips = row.find('td', class_='column1')\n",
    "    t_departure = row.find('td', class_='column3')\n",
    "    t_arrive = row.find('td', class_='column4')\n",
    "    duration = row.find('td', class_='column2')\n",
    "    early_ticket = row.find('td', class_='Width1')\n",
    "    non_reserved_count = row.find('td', class_='column5')\n",
    "    \n",
    "    trips = trips.text if trips else None\n",
    "    t_departure = t_departure.text if t_departure else ''\n",
    "    t_arrive = t_arrive.text if t_arrive else ''\n",
    "    duration = duration.text if duration else ''\n",
    "    non_reserved_count = non_reserved_count.text if non_reserved_count else ''\n",
    "    early_ticket = list(early_ticket.stripped_strings) if early_ticket else ''\n",
    "    early_ticket = early_ticket[0] if early_ticket else ''\n",
    "    \n",
    "    rows[i] = [trips, t_departure, t_arrive, duration, non_reserved_count, early_ticket]\n",
    "\n",
    "df = pd.DataFrame(rows, columns=colname)\n",
    "df"
   ]
  },
  {
   "cell_type": "code",
   "execution_count": 8,
   "metadata": {},
   "outputs": [
    {
     "name": "stdout",
     "output_type": "stream",
     "text": [
      "Save csv to /home/jovyan/crawler/results/thsrc_20180602.csv\n"
     ]
    }
   ],
   "source": [
    "results = os.path.abspath('results')\n",
    "if not os.path.exists(results):\n",
    "    os.makedirs(results)\n",
    "\n",
    "filename = os.path.join(results, 'thsrc_{}.csv'.format(after_one_week.strftime('%Y%m%d')))\n",
    "df.to_csv(filename, index=False)\n",
    "print('Save csv to {}'.format(filename))"
   ]
  },
  {
   "cell_type": "code",
   "execution_count": null,
   "metadata": {},
   "outputs": [],
   "source": []
  }
 ],
 "metadata": {
  "kernelspec": {
   "display_name": "Python 3",
   "language": "python",
   "name": "python3"
  },
  "language_info": {
   "codemirror_mode": {
    "name": "ipython",
    "version": 3
   },
   "file_extension": ".py",
   "mimetype": "text/x-python",
   "name": "python",
   "nbconvert_exporter": "python",
   "pygments_lexer": "ipython3",
   "version": "3.6.3"
  }
 },
 "nbformat": 4,
 "nbformat_minor": 2
}
