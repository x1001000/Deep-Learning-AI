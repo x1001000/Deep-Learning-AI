{
 "cells": [
  {
   "cell_type": "markdown",
   "metadata": {},
   "source": [
    "# 練習\n",
    "\n",
    "- 取得 FB 粉絲團中所有文章的按讚與分享數\n",
    "- 使用 [Graph API](https://developers.facebook.com/tools/explorer/)\n",
    "- https://www.facebook.com/DoctorKoWJ\n",
    "- 輸出成 CSV"
   ]
  },
  {
   "cell_type": "code",
   "execution_count": 1,
   "metadata": {
    "collapsed": true
   },
   "outputs": [],
   "source": [
    "import os\n",
    "import requests\n",
    "import pandas as pd\n",
    "\n",
    "from datetime import datetime"
   ]
  },
  {
   "cell_type": "code",
   "execution_count": 2,
   "metadata": {
    "collapsed": true
   },
   "outputs": [],
   "source": [
    "# 透過 Graph API 觀察文章 ID 與 token\n",
    "fanpage_id = '136845026417486'\n",
    "token = ''"
   ]
  },
  {
   "cell_type": "code",
   "execution_count": 3,
   "metadata": {},
   "outputs": [
    {
     "name": "stdout",
     "output_type": "stream",
     "text": [
      "page 1\n",
      "page 2\n",
      "page 3\n",
      "page 4\n",
      "page 5\n",
      "page 6\n",
      "page 7\n",
      "page 8\n",
      "page 9\n",
      "page 10\n",
      "page 11\n",
      "page 12\n",
      "page 13\n",
      "page 14\n",
      "page 15\n",
      "page 16\n",
      "page 17\n",
      "page 18\n",
      "page 19\n",
      "page 20\n",
      "page 21\n",
      "page 22\n",
      "page 23\n",
      "page 24\n",
      "page 25\n",
      "page 26\n",
      "page 27\n",
      "page 28\n",
      "page 29\n",
      "page 30\n",
      "page 31\n",
      "page 32\n",
      "page 33\n",
      "page 34\n",
      "page 35\n",
      "page 36\n",
      "page 37\n",
      "page 38\n",
      "page 39\n",
      "page 40\n",
      "page 41\n",
      "page 42\n",
      "page 43\n",
      "page 44\n",
      "page 45\n",
      "page 46\n",
      "page 47\n",
      "page 48\n",
      "page 49\n",
      "page 50\n",
      "page 51\n",
      "page 52\n",
      "page 53\n",
      "page 54\n",
      "page 55\n",
      "page 56\n",
      "page 57\n",
      "EOF\n"
     ]
    }
   ],
   "source": [
    "url = 'https://graph.facebook.com/v2.11/{}/posts?fields={}&access_token={}'.format(\n",
    "    fanpage_id, 'id,created_time,name,likes.limit(0).summary(true),shares,message', token\n",
    ")\n",
    "\n",
    "posts = []\n",
    "pages = 0\n",
    "\n",
    "while True:\n",
    "    resp = requests.get(url)\n",
    "    data = resp.json()\n",
    "    posts += data['data']\n",
    "    pages += 1\n",
    "    \n",
    "    if 'next' not in data['paging']:\n",
    "        print('EOF')\n",
    "        break\n",
    "        \n",
    "    else:\n",
    "        url = data['paging']['next']\n",
    "        print('page {}'.format(pages))"
   ]
  },
  {
   "cell_type": "code",
   "execution_count": 4,
   "metadata": {},
   "outputs": [
    {
     "data": {
      "text/html": [
       "<div>\n",
       "<style>\n",
       "    .dataframe thead tr:only-child th {\n",
       "        text-align: right;\n",
       "    }\n",
       "\n",
       "    .dataframe thead th {\n",
       "        text-align: left;\n",
       "    }\n",
       "\n",
       "    .dataframe tbody tr th {\n",
       "        vertical-align: top;\n",
       "    }\n",
       "</style>\n",
       "<table border=\"1\" class=\"dataframe\">\n",
       "  <thead>\n",
       "    <tr style=\"text-align: right;\">\n",
       "      <th></th>\n",
       "      <th>created_time</th>\n",
       "      <th>id</th>\n",
       "      <th>message</th>\n",
       "      <th>name</th>\n",
       "      <th>total_likes</th>\n",
       "      <th>total_shares</th>\n",
       "    </tr>\n",
       "  </thead>\n",
       "  <tbody>\n",
       "    <tr>\n",
       "      <th>0</th>\n",
       "      <td>2018-01-29T10:07:27+0000</td>\n",
       "      <td>136845026417486_1230167763751868</td>\n",
       "      <td>來荷蘭烏特勒支市走一走，看看他們如何創造一個友善的自行車通行環境。\\n\\n---\\nPart...</td>\n",
       "      <td>直播｜考察荷蘭自行車設施（Part 2）</td>\n",
       "      <td>9022</td>\n",
       "      <td>131.0</td>\n",
       "    </tr>\n",
       "    <tr>\n",
       "      <th>1</th>\n",
       "      <td>2018-01-29T09:40:44+0000</td>\n",
       "      <td>136845026417486_1230143707087607</td>\n",
       "      <td>來荷蘭烏特勒支市走一走，看看他們如何創造一座全世界最大的自行車停車場。\\n\\n---\\nPa...</td>\n",
       "      <td>直播｜考察荷蘭自行車設施（Part 1）</td>\n",
       "      <td>10470</td>\n",
       "      <td>181.0</td>\n",
       "    </tr>\n",
       "    <tr>\n",
       "      <th>2</th>\n",
       "      <td>2018-01-28T03:30:00+0000</td>\n",
       "      <td>136845026417486_1228976073871037</td>\n",
       "      <td>每次出訪，都是一次難得的學習機會，這一趟歐洲行也不例外。\\n\\n荷蘭一直是我想去好好研究的地...</td>\n",
       "      <td>Timeline Photos</td>\n",
       "      <td>38594</td>\n",
       "      <td>400.0</td>\n",
       "    </tr>\n",
       "    <tr>\n",
       "      <th>3</th>\n",
       "      <td>2018-01-27T13:15:49+0000</td>\n",
       "      <td>136845026417486_1228569593911685</td>\n",
       "      <td>很多人都聽過「順手捐發票，救救老殘窮」，也看過在路上推著烤爐賣烤地瓜的「地瓜媽媽」，這些都是...</td>\n",
       "      <td>NaN</td>\n",
       "      <td>12317</td>\n",
       "      <td>192.0</td>\n",
       "    </tr>\n",
       "    <tr>\n",
       "      <th>4</th>\n",
       "      <td>2018-01-26T09:29:05+0000</td>\n",
       "      <td>136845026417486_1227573790677932</td>\n",
       "      <td>政治就是落實在人民的每一天生活之中，讓人民有好的居住環境，應當是中央和地方一致認同的進步價值...</td>\n",
       "      <td>Photos from 柯文哲's post</td>\n",
       "      <td>9145</td>\n",
       "      <td>86.0</td>\n",
       "    </tr>\n",
       "  </tbody>\n",
       "</table>\n",
       "</div>"
      ],
      "text/plain": [
       "               created_time                                id  \\\n",
       "0  2018-01-29T10:07:27+0000  136845026417486_1230167763751868   \n",
       "1  2018-01-29T09:40:44+0000  136845026417486_1230143707087607   \n",
       "2  2018-01-28T03:30:00+0000  136845026417486_1228976073871037   \n",
       "3  2018-01-27T13:15:49+0000  136845026417486_1228569593911685   \n",
       "4  2018-01-26T09:29:05+0000  136845026417486_1227573790677932   \n",
       "\n",
       "                                             message                    name  \\\n",
       "0  來荷蘭烏特勒支市走一走，看看他們如何創造一個友善的自行車通行環境。\\n\\n---\\nPart...    直播｜考察荷蘭自行車設施（Part 2）   \n",
       "1  來荷蘭烏特勒支市走一走，看看他們如何創造一座全世界最大的自行車停車場。\\n\\n---\\nPa...    直播｜考察荷蘭自行車設施（Part 1）   \n",
       "2  每次出訪，都是一次難得的學習機會，這一趟歐洲行也不例外。\\n\\n荷蘭一直是我想去好好研究的地...         Timeline Photos   \n",
       "3  很多人都聽過「順手捐發票，救救老殘窮」，也看過在路上推著烤爐賣烤地瓜的「地瓜媽媽」，這些都是...                     NaN   \n",
       "4  政治就是落實在人民的每一天生活之中，讓人民有好的居住環境，應當是中央和地方一致認同的進步價值...  Photos from 柯文哲's post   \n",
       "\n",
       "   total_likes  total_shares  \n",
       "0         9022         131.0  \n",
       "1        10470         181.0  \n",
       "2        38594         400.0  \n",
       "3        12317         192.0  \n",
       "4         9145          86.0  "
      ]
     },
     "execution_count": 4,
     "metadata": {},
     "output_type": "execute_result"
    }
   ],
   "source": [
    "posts_summary = []\n",
    "for post in posts:\n",
    "    p = {}\n",
    "    for k, v in post.items():\n",
    "        if k == 'likes' and 'summary' in v and 'total_count' in v['summary']:\n",
    "            p['total_likes'] = v['summary']['total_count']\n",
    "        elif k == 'shares' and 'count' in v:\n",
    "            p['total_shares'] = v['count']\n",
    "        else:\n",
    "            p[k] = v\n",
    "    posts_summary.append(p)\n",
    "\n",
    "df = pd.DataFrame.from_records(posts_summary)\n",
    "df.head()"
   ]
  },
  {
   "cell_type": "code",
   "execution_count": 5,
   "metadata": {},
   "outputs": [
    {
     "name": "stdout",
     "output_type": "stream",
     "text": [
      "Save file - /home/dirl/github/Python-Crawling-Tutorial/results/fanpage_136845026417486.csv\n"
     ]
    }
   ],
   "source": [
    "results = os.path.abspath('../results')\n",
    "if not os.path.exists(results):\n",
    "    os.makedirs(results)\n",
    "    \n",
    "filename = os.path.join(results, 'fanpage_{}.csv'.format(fanpage_id))\n",
    "df.to_csv(filename, index=False)\n",
    "print('Save file - {}'.format(filename))"
   ]
  }
 ],
 "metadata": {
  "kernelspec": {
   "display_name": "Python 3",
   "language": "python",
   "name": "python3"
  },
  "language_info": {
   "codemirror_mode": {
    "name": "ipython",
    "version": 3
   },
   "file_extension": ".py",
   "mimetype": "text/x-python",
   "name": "python",
   "nbconvert_exporter": "python",
   "pygments_lexer": "ipython3",
   "version": "3.5.2"
  }
 },
 "nbformat": 4,
 "nbformat_minor": 2
}
