{
 "cells": [
  {
   "cell_type": "markdown",
   "metadata": {},
   "source": [
    "## Numpy\n",
    "NumPy is the fundamental package for scientific computing with Python. "
   ]
  },
  {
   "cell_type": "markdown",
   "metadata": {},
   "source": [
    "NumPy’s main object is the homogeneous multidimensional array.  \n",
    "It is a table of elements (usually numbers), all of the **same type**, indexed by a tuple of positive integers.  \n",
    "In NumPy dimensions are called **axes**."
   ]
  },
  {
   "cell_type": "markdown",
   "metadata": {},
   "source": [
    "### Concept of axis\n",
    "\n",
    "Reference: 手把手打開資料分析大門\n",
    "https://www.slideshare.net/tw_dsconf/python-83977705/61"
   ]
  },
  {
   "cell_type": "code",
   "execution_count": 1,
   "metadata": {},
   "outputs": [
    {
     "data": {
      "text/plain": [
       "[[1, 3, 5], [2, 4, 6]]"
      ]
     },
     "execution_count": 1,
     "metadata": {},
     "output_type": "execute_result"
    }
   ],
   "source": [
    "# one axis\n",
    "[1, 3, 5]  # 3 elements, it has a length of 3.\n",
    "\n",
    "# 2 axes\n",
    "[[ 1, 3, 5],\n",
    " [ 2, 4, 6]]  # The first axis has a length of 2, the second axis has a length of 3."
   ]
  },
  {
   "cell_type": "markdown",
   "metadata": {},
   "source": [
    "NumPy’s array class is called **ndarray**. It is also known by the alias **array**.  \n",
    "Note that numpy.array is not the same as the Standard Python Library class array.array, which only handles one-dimensional arrays and offers less functionality."
   ]
  },
  {
   "cell_type": "markdown",
   "metadata": {},
   "source": [
    "### Create ndarray"
   ]
  },
  {
   "cell_type": "code",
   "execution_count": 2,
   "metadata": {},
   "outputs": [
    {
     "name": "stdout",
     "output_type": "stream",
     "text": [
      "[0 1 2]\n",
      "<class 'numpy.ndarray'>\n",
      "[ 0.  1.  2.]\n"
     ]
    }
   ],
   "source": [
    "import numpy as np\n",
    "\n",
    "# create 1 axis array\n",
    "x = np.arange(3)\n",
    "\n",
    "print(x)\n",
    "print(type(x))  # <class 'numpy.ndarray'>\n",
    "\n",
    "# check if ndarray type\n",
    "isinstance(x, np.ndarray)  # True\n",
    "\n",
    "# be explicitly specified type\n",
    "y = np.arange(3, dtype='float64')  # [ 0.  1.  2.]\n",
    "print(y)"
   ]
  },
  {
   "cell_type": "code",
   "execution_count": 3,
   "metadata": {},
   "outputs": [
    {
     "name": "stdout",
     "output_type": "stream",
     "text": [
      "[18 15 21 10 88 76 29 20]\n"
     ]
    }
   ],
   "source": [
    "import numpy as np\n",
    "\n",
    "existed_list = [18, 15, 21, 10, 88, 76, 29, 20]\n",
    "\n",
    "np_array = np.array(existed_list)\n",
    "print(np_array)  # [18 15 21 10 88 76 29 20]"
   ]
  },
  {
   "cell_type": "markdown",
   "metadata": {},
   "source": [
    "### Important attributes of  ndarray"
   ]
  },
  {
   "cell_type": "code",
   "execution_count": 4,
   "metadata": {},
   "outputs": [
    {
     "name": "stdout",
     "output_type": "stream",
     "text": [
      "[0 1 2]\n",
      "1\n",
      "(3,)\n",
      "3\n",
      "int64\n"
     ]
    }
   ],
   "source": [
    "import numpy as np\n",
    "\n",
    "x = np.arange(3)\n",
    "print(x)\n",
    "\n",
    "# ndim - the number of axes (dimensions) of the array.\n",
    "print(x.ndim)  # 1 dim\n",
    "\n",
    "# shape - the dimensions of the array. \n",
    "# This is a tuple of integers indicating the size of the array in each dimension.\n",
    "print(x.shape)  # (3, )\n",
    "\n",
    "# size - the total number of elements of the array. \n",
    "print(x.size)  # 3\n",
    "\n",
    "# dtype - the type of the elements in the array.\n",
    "print(x.dtype)  # int64"
   ]
  },
  {
   "cell_type": "markdown",
   "metadata": {},
   "source": [
    "### Axes reshape\n",
    "Gives a new shape to an array without changing its data."
   ]
  },
  {
   "cell_type": "code",
   "execution_count": 5,
   "metadata": {},
   "outputs": [
    {
     "name": "stdout",
     "output_type": "stream",
     "text": [
      "[0 1 2 3 4 5]\n",
      "[[0 1 2]\n",
      " [3 4 5]]\n"
     ]
    }
   ],
   "source": [
    "# reshape\n",
    "x = np.arange(6)\n",
    "print(x)  # [0 1 2 3 4 5]\n",
    "\n",
    "new_shape = x.reshape(2, 3)\n",
    "print(new_shape) # [[0 1 2]\n",
    "                 #  [3 4 5]]\n",
    "\n",
    "# equivalently\n",
    "new_shape = np.reshape(x, (2, 3))    \n",
    "    \n",
    "    \n",
    "# also can be one line to create and reshpae\n",
    "y = np.arange(6).reshape(2, 3)"
   ]
  },
  {
   "cell_type": "markdown",
   "metadata": {},
   "source": [
    "### Initial placeholder content"
   ]
  },
  {
   "cell_type": "code",
   "execution_count": 6,
   "metadata": {},
   "outputs": [
    {
     "data": {
      "text/plain": [
       "array([[ 1.,  0.,  0.],\n",
       "       [ 0.,  1.,  0.],\n",
       "       [ 0.,  0.,  1.]])"
      ]
     },
     "execution_count": 6,
     "metadata": {},
     "output_type": "execute_result"
    }
   ],
   "source": [
    "# np.zeros - full of zeros\n",
    "np.zeros(3)  # array([ 0.,  0.,  0.])\n",
    "\n",
    "np.zeros((2, 3))  # array([[ 0.,  0.,  0.],\n",
    "                  #        [ 0.,  0.,  0.]])\n",
    "\n",
    "    \n",
    "# np.ones - full of ones\n",
    "np.ones((2,3))  # array([[ 1.,  1.,  1.],\n",
    "                #        [ 1.,  1.,  1.]])\n",
    "\n",
    "    \n",
    "# np.identity - a square array with ones on the main diagonal\n",
    "np.identity(3)  # array([[ 1.,  0.,  0.],\n",
    "                #        [ 0.,  1.,  0.],\n",
    "                #        [ 0.,  0.,  1.]])\n",
    "\n",
    "\n",
    "# By default, the dtype of the created array is float64.\n",
    "# using dtype change the type\n",
    "# np.zeros(3, dtype=np.int16)"
   ]
  },
  {
   "cell_type": "markdown",
   "metadata": {},
   "source": [
    "### Array Index\n",
    "\n",
    "Array indexing refers to any use of the square brackets ( [ ] ) to index array values."
   ]
  },
  {
   "cell_type": "code",
   "execution_count": 7,
   "metadata": {},
   "outputs": [
    {
     "data": {
      "text/plain": [
       "5"
      ]
     },
     "execution_count": 7,
     "metadata": {},
     "output_type": "execute_result"
    }
   ],
   "source": [
    "import numpy as np\n",
    "\n",
    "# 1-D array\n",
    "x = np.arange(6)  # array([0, 1, 2, 3, 4, 5])\n",
    "x[2]   # 2\n",
    "x[-2]  # 4\n",
    "\n",
    "\n",
    "# 2-D array\n",
    "x = np.arange(6).reshape(2, 3)  #[[0, 1, 2],\n",
    "                                # [3, 4, 5]])\n",
    "x[0, 2]   # 2\n",
    "x[1, -1]  # 5"
   ]
  },
  {
   "cell_type": "markdown",
   "metadata": {
    "collapsed": true
   },
   "source": [
    "### Array Slice & Stride\n",
    "\n",
    "The slicing and striding works exactly the same way it does for lists except that they can be applied to multiple dimensions as well."
   ]
  },
  {
   "cell_type": "code",
   "execution_count": 8,
   "metadata": {},
   "outputs": [
    {
     "data": {
      "text/plain": [
       "array([[0, 2],\n",
       "       [3, 5]])"
      ]
     },
     "execution_count": 8,
     "metadata": {},
     "output_type": "execute_result"
    }
   ],
   "source": [
    "import numpy as np\n",
    "\n",
    "# 1-D array\n",
    "x = np.arange(6)  # array([0, 1, 2, 3, 4, 5])\n",
    "x[1:5]   # [2, 3, 4]\n",
    "x[:2]    # [0, 1]\n",
    "x[1:5:2] # [1, 3]\n",
    "\n",
    "\n",
    "# 2-D array\n",
    "x = np.arange(6).reshape(2, 3)  #[[0, 1, 2],\n",
    "                                # [3, 4, 5]])\n",
    "x[0, 0:2]    #  [0, 1]\n",
    "x[:, 1:]     # [[1, 2],\n",
    "             #  [4, 5]]\n",
    "x[::1, ::2]  # [[0, 2],\n",
    "             #  [3, 5]]"
   ]
  },
  {
   "cell_type": "markdown",
   "metadata": {},
   "source": [
    "### Boolean / Mask Index \n",
    "Boolean arrays must be of the same shape as the initial dimensions of the array being indexed."
   ]
  },
  {
   "cell_type": "code",
   "execution_count": 9,
   "metadata": {},
   "outputs": [
    {
     "name": "stdout",
     "output_type": "stream",
     "text": [
      "[ True  True  True False False False]\n"
     ]
    },
    {
     "data": {
      "text/plain": [
       "array([0, 0, 0, 3, 4, 5])"
      ]
     },
     "execution_count": 9,
     "metadata": {},
     "output_type": "execute_result"
    }
   ],
   "source": [
    "import numpy as np\n",
    "\n",
    "# 1-D array\n",
    "x = np.arange(6)  # array([0, 1, 2, 3, 4, 5])\n",
    "condition = x<3\n",
    "x[condition]      # [0, 1, 2]\n",
    "\n",
    "x[condition] = 0\n",
    "x                 # [0, 0, 0, 3, 4, 5]\n",
    "\n",
    "\n",
    "# why called mask?\n",
    "\n",
    "# original_x      # [ 0,    1,    2,   3,    4,    5]\n",
    "# if <3, assign 0\n",
    "print(condition)  # [ True  True  True False False False]\n",
    "x                 # [ 0,    0,    0,   3,    4,    5]"
   ]
  },
  {
   "cell_type": "markdown",
   "metadata": {},
   "source": [
    "### Concatenate\n",
    "Join a sequence of arrays along an existing axis."
   ]
  },
  {
   "cell_type": "code",
   "execution_count": 10,
   "metadata": {},
   "outputs": [
    {
     "data": {
      "text/plain": [
       "array([[1, 2, 3, 0],\n",
       "       [4, 5, 6, 0]])"
      ]
     },
     "execution_count": 10,
     "metadata": {},
     "output_type": "execute_result"
    }
   ],
   "source": [
    "import numpy as np\n",
    "\n",
    "a = np.array([[1, 2, 3], [4, 5, 6]])\n",
    "b = np.array([[7, 8, 9]])\n",
    "\n",
    "np.concatenate((a, b), axis=0)  # [[1, 2, 3],\n",
    "                                #  [4, 5, 6],\n",
    "                                #  [7, 8, 9]]\n",
    "\n",
    "c =  [[0], [0]]       \n",
    "np.concatenate((a, c), axis=1)  # [[1, 2, 3, 0],\n",
    "                                #  [4, 5, 6, 0]]"
   ]
  },
  {
   "cell_type": "markdown",
   "metadata": {},
   "source": [
    "### Basic Operations"
   ]
  },
  {
   "cell_type": "code",
   "execution_count": 11,
   "metadata": {},
   "outputs": [
    {
     "name": "stdout",
     "output_type": "stream",
     "text": [
      "[[ 6  8]\n",
      " [10 12]]\n",
      "[[-4 -4]\n",
      " [-4 -4]]\n",
      "[[ 5 12]\n",
      " [21 32]]\n",
      "[[ 0.2         0.33333333]\n",
      " [ 0.42857143  0.5       ]]\n",
      "[[0 1]\n",
      " [2 3]]\n",
      "[[2 4]\n",
      " [6 8]]\n"
     ]
    }
   ],
   "source": [
    "import numpy as np\n",
    "a = np.array([[1, 2], [3, 4]])\n",
    "b = np.array([[5, 6], [7, 8]])\n",
    "\n",
    "print(a + b)  # array([[6, 8], [10, 12]])\n",
    "print(a - b)  # array([[-4, -4], [-4, -4]])\n",
    "print(a * b)  # array([[5, 12], [21, 32]])\n",
    "print(a / b)  # array([[0.2, 0.33333333], [0.42857143, 0.5]]\n",
    "\n",
    "print(a - 1)  # array([[0, 1], [2, 3]])\n",
    "print(a * 2)  # array([[2, 4], [6, 8]])"
   ]
  },
  {
   "cell_type": "markdown",
   "metadata": {},
   "source": [
    "### Basic Linear Algebra\n",
    "\n",
    "轉置矩陣：m \\* n 矩陣在向量空間上轉置為 n \\* m 矩陣  \n",
    "逆矩陣：n \\* n 矩陣 A 存在一個 n \\* n 矩陣 B，使得 AB = BA = I"
   ]
  },
  {
   "cell_type": "code",
   "execution_count": 12,
   "metadata": {},
   "outputs": [
    {
     "name": "stdout",
     "output_type": "stream",
     "text": [
      "[[0 2]\n",
      " [1 3]]\n",
      "[[-1.5  0.5]\n",
      " [ 1.   0. ]]\n",
      "[[ 1.  0.]\n",
      " [ 0.  1.]]\n"
     ]
    }
   ],
   "source": [
    "import numpy as np\n",
    "\n",
    "# 轉置矩陣\n",
    "a = np.array([[0, 1], \n",
    "              [2, 3]])\n",
    "\n",
    "print(a.T)  #[[0, 2],\n",
    "            # [1, 3]]\n",
    "\n",
    "# 逆矩陣\n",
    "inverse = np.linalg.inv(a)\n",
    "print(inverse)             # [[-1.5, 0.5], \n",
    "                           #  [1,    0]]\n",
    "\n",
    "# 內積 \n",
    "print(np.dot(a, inverse))  # [[ 1.  0.]\n",
    "                           #  [ 0.  1.]]"
   ]
  },
  {
   "cell_type": "markdown",
   "metadata": {},
   "source": [
    "### Vector Stacking"
   ]
  },
  {
   "cell_type": "code",
   "execution_count": 13,
   "metadata": {},
   "outputs": [
    {
     "name": "stdout",
     "output_type": "stream",
     "text": [
      "(6, 2)\n",
      "[[ 0  1]\n",
      " [ 2  3]\n",
      " [ 4  5]\n",
      " [ 6  7]\n",
      " [ 8  9]\n",
      " [10 11]]\n",
      "(2, 6)\n",
      "[[ 0  1  4  5  8  9]\n",
      " [ 2  3  6  7 10 11]]\n",
      "(3, 2, 2)\n",
      "[[[ 0  1]\n",
      "  [ 2  3]]\n",
      "\n",
      " [[ 4  5]\n",
      "  [ 6  7]]\n",
      "\n",
      " [[ 8  9]\n",
      "  [10 11]]]\n"
     ]
    }
   ],
   "source": [
    "import numpy as np\n",
    "\n",
    "a = np.array([[0, 1], \n",
    "              [2, 3]])\n",
    "\n",
    "b = np.array([[4, 5], \n",
    "              [6, 7]])\n",
    "\n",
    "c = np.array([[8,  9], \n",
    "              [10, 11]])\n",
    "\n",
    "# vertical\n",
    "v = np.vstack((a, b, c))\n",
    "print(v.shape)  # (6, 2)\n",
    "print(v)\n",
    "\n",
    "# horizontal\n",
    "h = np.hstack((a, b, c))\n",
    "print(h.shape)  # (2, 6)\n",
    "print(h)\n",
    "\n",
    "# stack \n",
    "s = np.stack([a, b, c], axis=0)\n",
    "print(s.shape)  # (3, 2, 2)\n",
    "print(s)"
   ]
  },
  {
   "cell_type": "markdown",
   "metadata": {},
   "source": [
    "## 練習題"
   ]
  },
  {
   "cell_type": "code",
   "execution_count": 14,
   "metadata": {
    "collapsed": true
   },
   "outputs": [],
   "source": [
    "import numpy as np"
   ]
  },
  {
   "cell_type": "raw",
   "metadata": {},
   "source": [
    "Q1. Create a vector with values ranging from 10 to 49 by np.arrange"
   ]
  },
  {
   "cell_type": "code",
   "execution_count": 15,
   "metadata": {},
   "outputs": [
    {
     "name": "stdout",
     "output_type": "stream",
     "text": [
      "[10 11 12 13 14 15 16 17 18 19 20 21 22 23 24 25 26 27 28 29 30 31 32 33 34\n",
      " 35 36 37 38 39 40 41 42 43 44 45 46 47 48 49]\n"
     ]
    }
   ],
   "source": [
    "Z = np.arange(10, 50)\n",
    "print(Z)"
   ]
  },
  {
   "cell_type": "raw",
   "metadata": {},
   "source": [
    "Q2. Reverse a vector (first element becomes last)"
   ]
  },
  {
   "cell_type": "code",
   "execution_count": 16,
   "metadata": {},
   "outputs": [
    {
     "name": "stdout",
     "output_type": "stream",
     "text": [
      "[49 48 47 46 45 44 43 42 41 40 39 38 37 36 35 34 33 32 31 30 29 28 27 26 25\n",
      " 24 23 22 21 20 19 18 17 16 15 14 13 12 11 10  9  8  7  6  5  4  3  2  1  0]\n"
     ]
    }
   ],
   "source": [
    "Z = np.arange(50)\n",
    "Z = Z[::-1]\n",
    "print(Z)"
   ]
  },
  {
   "cell_type": "raw",
   "metadata": {},
   "source": [
    "Q3. Create a 3x3x3 array with random values by np.random.random"
   ]
  },
  {
   "cell_type": "code",
   "execution_count": 17,
   "metadata": {},
   "outputs": [
    {
     "name": "stdout",
     "output_type": "stream",
     "text": [
      "[[[ 0.67564188  0.09083812  0.71603631]\n",
      "  [ 0.46063409  0.1201112   0.7253742 ]\n",
      "  [ 0.59102889  0.73559909  0.5441022 ]]\n",
      "\n",
      " [[ 0.11115843  0.67817467  0.01560134]\n",
      "  [ 0.70915343  0.54937783  0.66858778]\n",
      "  [ 0.73977152  0.57440465  0.32654832]]\n",
      "\n",
      " [[ 0.07959621  0.13005374  0.80079367]\n",
      "  [ 0.61201666  0.34747518  0.68889982]\n",
      "  [ 0.57648818  0.03267974  0.9140913 ]]]\n"
     ]
    }
   ],
   "source": [
    "Z = np.random.random((3, 3, 3))\n",
    "print(Z)"
   ]
  },
  {
   "cell_type": "raw",
   "metadata": {},
   "source": [
    "Q4. Create a 10x10 array with random values and find the minimum and maximum values by np.min, np.max"
   ]
  },
  {
   "cell_type": "code",
   "execution_count": 18,
   "metadata": {},
   "outputs": [
    {
     "name": "stdout",
     "output_type": "stream",
     "text": [
      "0.00700726147983 0.967893477194\n"
     ]
    }
   ],
   "source": [
    "Z = np.random.random((10, 10))\n",
    "Zmin, Zmax = Z.min(), Z.max()\n",
    "print(Zmin, Zmax)"
   ]
  },
  {
   "cell_type": "raw",
   "metadata": {},
   "source": [
    "Q5. Add a border (filled with 0's) around an 3 * 3 matrix with 1 by np.pad"
   ]
  },
  {
   "cell_type": "code",
   "execution_count": 19,
   "metadata": {},
   "outputs": [
    {
     "name": "stdout",
     "output_type": "stream",
     "text": [
      "[[ 0.  0.  0.  0.  0.]\n",
      " [ 0.  1.  1.  1.  0.]\n",
      " [ 0.  1.  1.  1.  0.]\n",
      " [ 0.  1.  1.  1.  0.]\n",
      " [ 0.  0.  0.  0.  0.]]\n"
     ]
    }
   ],
   "source": [
    "Z = np.ones((3, 3))\n",
    "Z = np.pad(Z, pad_width=1, mode='constant', constant_values=0)\n",
    "print(Z)"
   ]
  },
  {
   "cell_type": "raw",
   "metadata": {},
   "source": [
    "Q6. Normalize a 5x5 random matrix by divide max number"
   ]
  },
  {
   "cell_type": "code",
   "execution_count": 20,
   "metadata": {},
   "outputs": [
    {
     "name": "stdout",
     "output_type": "stream",
     "text": [
      "[[ 0.64044462  1.          0.33549354  0.62608569  0.79055145]\n",
      " [ 0.76212792  0.42360372  0.89677917  0.41086149  0.        ]\n",
      " [ 0.12873463  0.25682202  0.96319046  0.48846749  0.57964635]\n",
      " [ 0.29389396  0.15668918  0.14826989  0.64431352  0.10519078]\n",
      " [ 0.33226473  0.09995767  0.1282338   0.6657058   0.53270008]]\n",
      "[[ 0.65080249  1.          0.35463627  0.6368572   0.79658513]\n",
      " [ 0.76898041  0.44020822  0.8997527   0.42783306  0.02880744]\n",
      " [ 0.15383355  0.27823108  0.96425085  0.50320343  0.59175566]\n",
      " [ 0.31423507  0.18098281  0.17280605  0.65455993  0.13096794]\n",
      " [ 0.35150048  0.12588559  0.15334715  0.67533596  0.5461618 ]]\n"
     ]
    }
   ],
   "source": [
    "Z = np.random.random((5, 5))\n",
    "Z2 = Z / Z.max()\n",
    "Zmax, Zmin = Z.max(), Z.min()\n",
    "Z1 = (Z - Zmin) / (Zmax - Zmin)\n",
    "print(Z1)\n",
    "print(Z2)"
   ]
  },
  {
   "cell_type": "raw",
   "metadata": {},
   "source": [
    "Q7. Given a 1D array, negate all elements which are between 3 and 8, in place."
   ]
  },
  {
   "cell_type": "code",
   "execution_count": 21,
   "metadata": {},
   "outputs": [
    {
     "name": "stdout",
     "output_type": "stream",
     "text": [
      "[ 0  1  2  3 -4 -5 -6 -7 -8  9 10]\n"
     ]
    }
   ],
   "source": [
    "Z = np.arange(11)\n",
    "Z[(3 < Z) & (Z <= 8)] *= -1\n",
    "print(Z)"
   ]
  },
  {
   "cell_type": "raw",
   "metadata": {},
   "source": [
    "Q8. Extract from the array np.array([3,4,6,10,24,89,45,43,46,99,100]) with Boolean masking all the number:  \n",
    "\n",
    "(1) which are not divisible by 3  \n",
    "(2) which are divisible by 5  \n",
    "(3) which are divisible by 3 and 5"
   ]
  },
  {
   "cell_type": "code",
   "execution_count": 22,
   "metadata": {},
   "outputs": [
    {
     "name": "stdout",
     "output_type": "stream",
     "text": [
      "[  4  10  89  43  46 100]\n",
      "[ 10  45 100]\n",
      "[45]\n"
     ]
    }
   ],
   "source": [
    "A = np.array([3,4,6,10,24,89,45,43,46,99,100])\n",
    "div3 = A[A%3 != 0]\n",
    "print(div3)\n",
    "\n",
    "div5 = A[A%5 == 0]\n",
    "print(div5)\n",
    "\n",
    "div15 = A[(A%3 == 0) & (A%5 == 0)]\n",
    "print(div15)"
   ]
  },
  {
   "cell_type": "raw",
   "metadata": {},
   "source": [
    "Q9. Create random vector of size 10 and replace the maximum value by 0 (np.argmax)"
   ]
  },
  {
   "cell_type": "code",
   "execution_count": 23,
   "metadata": {},
   "outputs": [
    {
     "name": "stdout",
     "output_type": "stream",
     "text": [
      "[ 0.37198232  0.25117761  0.68209449  0.04650935  0.67797053  0.41547822\n",
      "  0.35110955  0.26371556  0.          0.56822811]\n"
     ]
    }
   ],
   "source": [
    "Z = np.random.random(10)\n",
    "Z[Z.argmax()] = 0\n",
    "print(Z)"
   ]
  },
  {
   "cell_type": "raw",
   "metadata": {},
   "source": [
    "Q10. Create a 5x5 matrix with row values ranging from 0 to 4"
   ]
  },
  {
   "cell_type": "code",
   "execution_count": 24,
   "metadata": {},
   "outputs": [
    {
     "name": "stdout",
     "output_type": "stream",
     "text": [
      "[[ 0.  1.  2.  3.  4.]\n",
      " [ 0.  1.  2.  3.  4.]\n",
      " [ 0.  1.  2.  3.  4.]\n",
      " [ 0.  1.  2.  3.  4.]\n",
      " [ 0.  1.  2.  3.  4.]]\n"
     ]
    }
   ],
   "source": [
    "Z = np.zeros((5, 5))\n",
    "Z += np.arange(5)\n",
    "print(Z)"
   ]
  },
  {
   "cell_type": "markdown",
   "metadata": {},
   "source": [
    "### 請參考 [100-numpy-exercises](https://github.com/rougier/numpy-100/blob/master/100%20Numpy%20exercises.md) 做更多 numpy 的操作練習"
   ]
  }
 ],
 "metadata": {
  "kernelspec": {
   "display_name": "Python 3",
   "language": "python",
   "name": "python3"
  },
  "language_info": {
   "codemirror_mode": {
    "name": "ipython",
    "version": 3
   },
   "file_extension": ".py",
   "mimetype": "text/x-python",
   "name": "python",
   "nbconvert_exporter": "python",
   "pygments_lexer": "ipython3",
   "version": "3.6.3"
  }
 },
 "nbformat": 4,
 "nbformat_minor": 2
}
