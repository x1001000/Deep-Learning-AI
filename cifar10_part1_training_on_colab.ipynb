{
  "nbformat": 4,
  "nbformat_minor": 0,
  "metadata": {
    "colab": {
      "name": "cifar10_part1_training_on_colab.ipynb",
      "version": "0.3.2",
      "provenance": [],
      "collapsed_sections": [],
      "toc_visible": true,
      "include_colab_link": true
    },
    "kernelspec": {
      "name": "python3",
      "display_name": "Python 3"
    },
    "accelerator": "GPU"
  },
  "cells": [
    {
      "cell_type": "markdown",
      "metadata": {
        "id": "view-in-github",
        "colab_type": "text"
      },
      "source": [
        "<a href=\"https://colab.research.google.com/github/x1001000/Deep_Learning_AI/blob/master/cifar10_part1_training_on_colab.ipynb\" target=\"_parent\"><img src=\"https://colab.research.google.com/assets/colab-badge.svg\" alt=\"Open In Colab\"/></a>"
      ]
    },
    {
      "metadata": {
        "id": "L5DG-6wxa1uC",
        "colab_type": "text"
      },
      "cell_type": "markdown",
      "source": [
        "# Data"
      ]
    },
    {
      "metadata": {
        "id": "BLYIPvYpa52i",
        "colab_type": "text"
      },
      "cell_type": "markdown",
      "source": [
        "1. 資料都是數據化的多維陣列  \n",
        "資料常要視覺化以幫助理解\n",
        "\n",
        "2. 匯入多維陣列運算要用的函式庫 numpy，以下簡稱為 np  \n",
        "匯入作圖要用的函式庫 matplotlib.pyplot，以下簡稱為 plt"
      ]
    },
    {
      "metadata": {
        "id": "9CNV6V0IZbXq",
        "colab_type": "code",
        "colab": {}
      },
      "cell_type": "code",
      "source": [
        "import numpy as np\n",
        "import matplotlib.pyplot as plt"
      ],
      "execution_count": 0,
      "outputs": []
    },
    {
      "metadata": {
        "id": "eK86NyZPa_VK",
        "colab_type": "text"
      },
      "cell_type": "markdown",
      "source": [
        "3. [CIFAR-10](https://www.cs.toronto.edu/~kriz/cifar.html) 資料集有10類各6000張32x32的彩圖，預先被切成50000筆訓練圖片及其類別，和10000筆測試圖片及其類別\n",
        "\n",
        "4. x aka feature, image 32x32x3 in this case  \n",
        "y aka label, classification 0~9 in this case\n",
        "\n",
        "5. x 是四維陣列，陣列中有50000/10000個三維(三個數字)陣列  \n",
        "y 是二維陣列，陣列中有50000/10000個一維(一個數字)陣列，一維陣列又稱向量，而這個向量是個一維(數字為1)向量，就是包含一個純量的向量"
      ]
    },
    {
      "metadata": {
        "id": "gJQVlj2UZn45",
        "colab_type": "code",
        "outputId": "101c22e3-8e34-49c2-be35-d85b4a991a93",
        "colab": {
          "base_uri": "https://localhost:8080/",
          "height": 136
        }
      },
      "cell_type": "code",
      "source": [
        "from keras.datasets import cifar10\n",
        "#data = cifar10.load_data()\n",
        "(x_train, y_train), (x_test, y_test) = cifar10.load_data()\n",
        "print(x_train.shape)\n",
        "print(y_train.shape)\n",
        "print(x_test.shape)\n",
        "print(y_test.shape)"
      ],
      "execution_count": 0,
      "outputs": [
        {
          "output_type": "stream",
          "text": [
            "Using TensorFlow backend.\n"
          ],
          "name": "stderr"
        },
        {
          "output_type": "stream",
          "text": [
            "Downloading data from https://www.cs.toronto.edu/~kriz/cifar-10-python.tar.gz\n",
            "170500096/170498071 [==============================] - 16s 0us/step\n",
            "(50000, 32, 32, 3)\n",
            "(50000, 1)\n",
            "(10000, 32, 32, 3)\n",
            "(10000, 1)\n"
          ],
          "name": "stdout"
        }
      ]
    },
    {
      "metadata": {
        "id": "4vlVGDywK6_y",
        "colab_type": "text"
      },
      "cell_type": "markdown",
      "source": [
        "6. 準備一個字典，方便將類別的數字翻成英文"
      ]
    },
    {
      "metadata": {
        "id": "GYEim37OHwDT",
        "colab_type": "code",
        "colab": {}
      },
      "cell_type": "code",
      "source": [
        "thing = {0:\"airplane\", 1:\"automobile\", 2:\"bird\", 3:\"cat\", 4:\"deer\", 5:\"dog\", 6:\"frog\", 7:\"horse\", 8:\"ship\", 9:\"truck\"}"
      ],
      "execution_count": 0,
      "outputs": []
    },
    {
      "metadata": {
        "id": "ysWimfgyx6ZQ",
        "colab_type": "text"
      },
      "cell_type": "markdown",
      "source": [
        "7. 看一下 training data 的 5566~5571 筆的圖片及其類別\n",
        "\n",
        "8. 5566可以換個數字試試"
      ]
    },
    {
      "metadata": {
        "id": "cCOWVOifA7SQ",
        "colab_type": "code",
        "outputId": "b66b8192-359c-464d-ee52-997ef28a135b",
        "colab": {
          "base_uri": "https://localhost:8080/",
          "height": 340
        }
      },
      "cell_type": "code",
      "source": [
        "for i in range(6):\n",
        "  ax = plt.subplot(2, 3, 1+i)\n",
        "  ax.imshow(x_train[5566+i])\n",
        "  ax.set_title(thing[y_train[5566+i][0]])\n",
        "  ax.set_xticks([])\n",
        "  ax.set_yticks([])"
      ],
      "execution_count": 0,
      "outputs": [
        {
          "output_type": "display_data",
          "data": {
            "image/png": "[encoded data removed]",
            "text/plain": [
              "<matplotlib.figure.Figure at 0x7fd6567b7c88>"
            ]
          },
          "metadata": {
            "tags": []
          }
        }
      ]
    },
    {
      "metadata": {
        "id": "k9oyCAqZ-YHE",
        "colab_type": "text"
      },
      "cell_type": "markdown",
      "source": [
        "# Normalization"
      ]
    },
    {
      "metadata": {
        "id": "R-oODbaBMg_h",
        "colab_type": "text"
      },
      "cell_type": "markdown",
      "source": [
        "9. training data 的第5566筆的第0列的第0~31個像素的RGB值"
      ]
    },
    {
      "metadata": {
        "id": "gqaJyTIhQmNC",
        "colab_type": "code",
        "outputId": "2f14ba51-26e5-49c2-b123-549d30ebe863",
        "colab": {
          "base_uri": "https://localhost:8080/",
          "height": 561
        }
      },
      "cell_type": "code",
      "source": [
        "x_train[5566, 0, :, :]"
      ],
      "execution_count": 0,
      "outputs": [
        {
          "output_type": "execute_result",
          "data": {
            "text/plain": [
              "array([[253, 253, 253],\n",
              "       [253, 253, 253],\n",
              "       [254, 254, 254],\n",
              "       [254, 254, 254],\n",
              "       [254, 254, 254],\n",
              "       [253, 253, 253],\n",
              "       [252, 252, 252],\n",
              "       [251, 251, 251],\n",
              "       [251, 251, 251],\n",
              "       [252, 251, 251],\n",
              "       [251, 252, 252],\n",
              "       [246, 254, 253],\n",
              "       [243, 253, 252],\n",
              "       [241, 253, 251],\n",
              "       [239, 253, 250],\n",
              "       [237, 252, 249],\n",
              "       [234, 252, 250],\n",
              "       [231, 253, 254],\n",
              "       [229, 253, 254],\n",
              "       [226, 252, 253],\n",
              "       [222, 251, 252],\n",
              "       [220, 251, 250],\n",
              "       [218, 249, 250],\n",
              "       [214, 245, 250],\n",
              "       [210, 241, 249],\n",
              "       [207, 237, 250],\n",
              "       [205, 234, 251],\n",
              "       [201, 230, 251],\n",
              "       [198, 228, 249],\n",
              "       [196, 227, 246],\n",
              "       [192, 224, 243],\n",
              "       [190, 221, 240]], dtype=uint8)"
            ]
          },
          "metadata": {
            "tags": []
          },
          "execution_count": 5
        }
      ]
    },
    {
      "metadata": {
        "id": "hIwNjNTyVrOL",
        "colab_type": "text"
      },
      "cell_type": "markdown",
      "source": [
        "10. Normalization就是把0~255變成0~1"
      ]
    },
    {
      "metadata": {
        "id": "aTLvQnUlfSua",
        "colab_type": "code",
        "colab": {}
      },
      "cell_type": "code",
      "source": [
        "x_train = x_train/255\n",
        "x_test = x_test/255"
      ],
      "execution_count": 0,
      "outputs": []
    },
    {
      "metadata": {
        "id": "YyfSya0sWNJk",
        "colab_type": "text"
      },
      "cell_type": "markdown",
      "source": [
        "11. Normalized training data 的第5566筆的第0列的第0~31個像素的RGB值"
      ]
    },
    {
      "metadata": {
        "id": "OUa476ynhVUI",
        "colab_type": "code",
        "outputId": "82327762-d8f1-4fac-edef-3e7e8054aca8",
        "colab": {
          "base_uri": "https://localhost:8080/",
          "height": 561
        }
      },
      "cell_type": "code",
      "source": [
        "x_train[5566, 0, :, :]"
      ],
      "execution_count": 0,
      "outputs": [
        {
          "output_type": "execute_result",
          "data": {
            "text/plain": [
              "array([[0.99215686, 0.99215686, 0.99215686],\n",
              "       [0.99215686, 0.99215686, 0.99215686],\n",
              "       [0.99607843, 0.99607843, 0.99607843],\n",
              "       [0.99607843, 0.99607843, 0.99607843],\n",
              "       [0.99607843, 0.99607843, 0.99607843],\n",
              "       [0.99215686, 0.99215686, 0.99215686],\n",
              "       [0.98823529, 0.98823529, 0.98823529],\n",
              "       [0.98431373, 0.98431373, 0.98431373],\n",
              "       [0.98431373, 0.98431373, 0.98431373],\n",
              "       [0.98823529, 0.98431373, 0.98431373],\n",
              "       [0.98431373, 0.98823529, 0.98823529],\n",
              "       [0.96470588, 0.99607843, 0.99215686],\n",
              "       [0.95294118, 0.99215686, 0.98823529],\n",
              "       [0.94509804, 0.99215686, 0.98431373],\n",
              "       [0.9372549 , 0.99215686, 0.98039216],\n",
              "       [0.92941176, 0.98823529, 0.97647059],\n",
              "       [0.91764706, 0.98823529, 0.98039216],\n",
              "       [0.90588235, 0.99215686, 0.99607843],\n",
              "       [0.89803922, 0.99215686, 0.99607843],\n",
              "       [0.88627451, 0.98823529, 0.99215686],\n",
              "       [0.87058824, 0.98431373, 0.98823529],\n",
              "       [0.8627451 , 0.98431373, 0.98039216],\n",
              "       [0.85490196, 0.97647059, 0.98039216],\n",
              "       [0.83921569, 0.96078431, 0.98039216],\n",
              "       [0.82352941, 0.94509804, 0.97647059],\n",
              "       [0.81176471, 0.92941176, 0.98039216],\n",
              "       [0.80392157, 0.91764706, 0.98431373],\n",
              "       [0.78823529, 0.90196078, 0.98431373],\n",
              "       [0.77647059, 0.89411765, 0.97647059],\n",
              "       [0.76862745, 0.89019608, 0.96470588],\n",
              "       [0.75294118, 0.87843137, 0.95294118],\n",
              "       [0.74509804, 0.86666667, 0.94117647]])"
            ]
          },
          "metadata": {
            "tags": []
          },
          "execution_count": 7
        }
      ]
    },
    {
      "metadata": {
        "id": "FPHSz-xuhZ3n",
        "colab_type": "text"
      },
      "cell_type": "markdown",
      "source": [
        "# One-hot encoding"
      ]
    },
    {
      "metadata": {
        "id": "hHl2Yb0RZIbk",
        "colab_type": "text"
      },
      "cell_type": "markdown",
      "source": [
        "12. training data 的第0筆是個一維向量(一對中括號間有一個數字)"
      ]
    },
    {
      "metadata": {
        "id": "QjX8E6cI_ig0",
        "colab_type": "code",
        "outputId": "ef18c99d-f099-4ce9-8cd2-4970b97ae7b7",
        "colab": {
          "base_uri": "https://localhost:8080/",
          "height": 34
        }
      },
      "cell_type": "code",
      "source": [
        "y_train[0]"
      ],
      "execution_count": 0,
      "outputs": [
        {
          "output_type": "execute_result",
          "data": {
            "text/plain": [
              "array([6], dtype=uint8)"
            ]
          },
          "metadata": {
            "tags": []
          },
          "execution_count": 8
        }
      ]
    },
    {
      "metadata": {
        "id": "YvSe0et7ZkWv",
        "colab_type": "text"
      },
      "cell_type": "markdown",
      "source": [
        "13. 獨熱編碼就是把一維向量變成獨熱的N維向量(一對中括號間有N個數字，只有一個是1，其他是0)"
      ]
    },
    {
      "metadata": {
        "id": "U9w9-mKv-3I1",
        "colab_type": "code",
        "colab": {}
      },
      "cell_type": "code",
      "source": [
        "from keras.utils import np_utils\n",
        "y_train_onehot = np_utils.to_categorical(y_train)\n",
        "y_test_onehot = np_utils.to_categorical(y_test)"
      ],
      "execution_count": 0,
      "outputs": []
    },
    {
      "metadata": {
        "id": "XbULrz8SyNda",
        "colab_type": "text"
      },
      "cell_type": "markdown",
      "source": [
        "14. 獨熱編碼的 training data 的第0筆是個10維向量(一對中括號間有10個數字)"
      ]
    },
    {
      "metadata": {
        "id": "1rBd8dLrAGpc",
        "colab_type": "code",
        "outputId": "2626c66a-488b-466e-d538-843d53d067c4",
        "colab": {
          "base_uri": "https://localhost:8080/",
          "height": 34
        }
      },
      "cell_type": "code",
      "source": [
        "y_train_onehot[0]"
      ],
      "execution_count": 0,
      "outputs": [
        {
          "output_type": "execute_result",
          "data": {
            "text/plain": [
              "array([0., 0., 0., 0., 0., 0., 1., 0., 0., 0.], dtype=float32)"
            ]
          },
          "metadata": {
            "tags": []
          },
          "execution_count": 10
        }
      ]
    },
    {
      "metadata": {
        "id": "xaXGVtb2FaCQ",
        "colab_type": "text"
      },
      "cell_type": "markdown",
      "source": [
        "# Model"
      ]
    },
    {
      "metadata": {
        "id": "K27ixz0BBeDZ",
        "colab_type": "text"
      },
      "cell_type": "markdown",
      "source": [
        "15. 初學者用高階的Keras函式庫(之後再用TensorFlow函式庫)  \n",
        "初學者用順序式模型(之後再用函數式模型)"
      ]
    },
    {
      "metadata": {
        "id": "ub7Iwo_0A-I1",
        "colab_type": "code",
        "colab": {}
      },
      "cell_type": "code",
      "source": [
        "from keras.models import Sequential\n",
        "model = Sequential()"
      ],
      "execution_count": 0,
      "outputs": []
    },
    {
      "metadata": {
        "id": "B5hRX0xgL7WV",
        "colab_type": "text"
      },
      "cell_type": "markdown",
      "source": [
        "16. 匯入要用的神經網路層\n",
        "\n",
        "17. 卷積層 => 池化層 => 卷積層 => 池化層 => 卷積層 => 池化層 => 攤平層 => 全連接層 => 全連接層  \n",
        "放棄層藉由隨機放棄更新一部份神經元，避免模型過度擬合(overfitting)訓練資料，反而降低理解力  \n",
        "試試註解掉放棄層，看看有何不同\n",
        "\n",
        "18. 層就是一排神經元，輸入上一層的輸出\n",
        "\n",
        "19. 卷積層建構函數的引數：  \n",
        "filters是濾鏡組數，就是特徵圖數，就是神經元數，就是線性函數的個數  \n",
        "kernel_size是濾鏡的形狀，Conv2D的kernel_size就會是2D的  \n",
        "padding='same'，讓卷積結果圖不會小一圈  \n",
        "input_shape是輸入這一層眾神經元們的陣列形狀，只有第一層要填  \n",
        "activation='relu'，relu是REctified Linear Unit的縮寫，y=f(x)=max(0,x)，y等於0和x中較大者，換句話說，當x>0時y等於x，否則y等於0\n",
        "\n",
        "20. 池化層建構函數的引數：  \n",
        "pool_size就是從多大的池子取一個值，池化目的是壓縮資料量\n",
        "\n",
        "21. 放棄層建構函數的引數：  \n",
        "rate就是隨機放棄更新的比例\n",
        "\n",
        "22. 攤平層把上一層輸出的所有特徵圖像素排成一直線，以便銜接全連接層，再銜接至降至10個神經元的全連接層，輸出10維向量\n",
        "\n",
        "23. 輸出層的activation='softmax'，使10個輸出值的和，為機率的和，為1"
      ]
    },
    {
      "metadata": {
        "id": "YO1ldsVPF1mB",
        "colab_type": "code",
        "colab": {}
      },
      "cell_type": "code",
      "source": [
        "from keras.layers import Conv2D, MaxPooling2D, Dropout, Flatten, Dense\n",
        "\n",
        "model.add(Conv2D(filters=32,\n",
        "                 kernel_size=(3,3),\n",
        "                 padding='same',\n",
        "                 input_shape=(32,32,3), \n",
        "                 activation='relu'))\n",
        "model.add(MaxPooling2D(pool_size=(2,2)))\n",
        "model.add(Dropout(rate=0.25))\n",
        "\n",
        "model.add(Conv2D(filters=64,\n",
        "                 kernel_size=(3,3),\n",
        "                 padding='same',\n",
        "                 activation='relu'))\n",
        "model.add(MaxPooling2D(pool_size=(2,2)))\n",
        "model.add(Dropout(rate=0.25))\n",
        "\n",
        "model.add(Conv2D(filters=128,\n",
        "                 kernel_size=(3,3),\n",
        "                 padding='same',\n",
        "                 activation='relu'))\n",
        "model.add(MaxPooling2D(pool_size=(2,2)))\n",
        "model.add(Dropout(rate=0.25))\n",
        "\n",
        "model.add(Flatten())\n",
        "model.add(Dense(512, activation='relu'))\n",
        "model.add(Dropout(rate=0.25))\n",
        "\n",
        "model.add(Dense(10, activation='softmax'))"
      ],
      "execution_count": 0,
      "outputs": []
    },
    {
      "metadata": {
        "id": "GUM7CwStj7sG",
        "colab_type": "text"
      },
      "cell_type": "markdown",
      "source": [
        "24. 列印神經網路架構\n",
        "\n",
        "25. 模型參數Param個數：  \n",
        "( 3x3濾鏡形狀 x 3面RGB + 1個bias ) x 32面特徵圖 = 896  \n",
        "( 3x3濾鏡形狀 x 32面特徵圖 + 1個bias ) x 64面特徵圖 = 18496  \n",
        "( 3x3濾鏡形狀 x 64面特徵圖 + 1個bias ) x 128面特徵圖 = 73856  \n",
        "( 2048個輸入 + 1個bias ) x 512個神經元 = 1049088  \n",
        "( 512個輸入 + 1個bias ) x 10個神經元 = 5130"
      ]
    },
    {
      "metadata": {
        "id": "jMCSNBfij6zK",
        "colab_type": "code",
        "outputId": "88e6bbbc-b48b-4b90-a4ac-688251ac3d9b",
        "colab": {
          "base_uri": "https://localhost:8080/",
          "height": 578
        }
      },
      "cell_type": "code",
      "source": [
        "model.summary()"
      ],
      "execution_count": 0,
      "outputs": [
        {
          "output_type": "stream",
          "text": [
            "_________________________________________________________________\n",
            "Layer (type)                 Output Shape              Param #   \n",
            "=================================================================\n",
            "conv2d_1 (Conv2D)            (None, 32, 32, 32)        896       \n",
            "_________________________________________________________________\n",
            "max_pooling2d_1 (MaxPooling2 (None, 16, 16, 32)        0         \n",
            "_________________________________________________________________\n",
            "dropout_1 (Dropout)          (None, 16, 16, 32)        0         \n",
            "_________________________________________________________________\n",
            "conv2d_2 (Conv2D)            (None, 16, 16, 64)        18496     \n",
            "_________________________________________________________________\n",
            "max_pooling2d_2 (MaxPooling2 (None, 8, 8, 64)          0         \n",
            "_________________________________________________________________\n",
            "dropout_2 (Dropout)          (None, 8, 8, 64)          0         \n",
            "_________________________________________________________________\n",
            "conv2d_3 (Conv2D)            (None, 8, 8, 128)         73856     \n",
            "_________________________________________________________________\n",
            "max_pooling2d_3 (MaxPooling2 (None, 4, 4, 128)         0         \n",
            "_________________________________________________________________\n",
            "dropout_3 (Dropout)          (None, 4, 4, 128)         0         \n",
            "_________________________________________________________________\n",
            "flatten_1 (Flatten)          (None, 2048)              0         \n",
            "_________________________________________________________________\n",
            "dense_1 (Dense)              (None, 512)               1049088   \n",
            "_________________________________________________________________\n",
            "dropout_4 (Dropout)          (None, 512)               0         \n",
            "_________________________________________________________________\n",
            "dense_2 (Dense)              (None, 10)                5130      \n",
            "=================================================================\n",
            "Total params: 1,147,466\n",
            "Trainable params: 1,147,466\n",
            "Non-trainable params: 0\n",
            "_________________________________________________________________\n"
          ],
          "name": "stdout"
        }
      ]
    },
    {
      "metadata": {
        "id": "99AZyEjOymo3",
        "colab_type": "text"
      },
      "cell_type": "markdown",
      "source": [
        "# Train"
      ]
    },
    {
      "metadata": {
        "id": "j7SuXq9svRZL",
        "colab_type": "text"
      },
      "cell_type": "markdown",
      "source": [
        "26. [Before training a model, you need to configure the learning process, which is done via the compile method. It receives three arguments:](https://keras.io/getting-started/sequential-model-guide/)\n",
        ">1. loss='categorical_crossentropy'，針對分類問題的loss算法\n",
        ">2. optimizer='adam'，[Adam — latest trends in deep learning optimization](https://towardsdatascience.com/adam-latest-trends-in-deep-learning-optimization-6be9a291375c)  \n",
        ">3. metrics=['accuracy']，訓練過程顯示準確率"
      ]
    },
    {
      "metadata": {
        "id": "oBLPWY1UwhlT",
        "colab_type": "code",
        "colab": {}
      },
      "cell_type": "code",
      "source": [
        "model.compile(loss='categorical_crossentropy',\n",
        "              optimizer='adam',\n",
        "              metrics=['accuracy'])"
      ],
      "execution_count": 0,
      "outputs": []
    },
    {
      "metadata": {
        "id": "HNXO4jKQ0b7L",
        "colab_type": "text"
      },
      "cell_type": "markdown",
      "source": [
        "27. 用訓練資料的feature(x_train)和label(y_train)讓模型去學習(fit)  \n",
        "batch_size = 學習(更新Param)一波的樣本數  \n",
        "epochs = 學習訓練資料全部樣本的回合數  \n",
        "validation_split = 切多少比例的訓練資料，不做訓練，做驗證"
      ]
    },
    {
      "metadata": {
        "id": "7iFyQA_Jytkx",
        "colab_type": "code",
        "outputId": "905f4671-4e8a-469b-e91a-98a9b37a415c",
        "colab": {
          "base_uri": "https://localhost:8080/",
          "height": 734
        }
      },
      "cell_type": "code",
      "source": [
        "learning = model.fit(x_train,\n",
        "                     y_train_onehot,\n",
        "                     batch_size=128,\n",
        "                     epochs=20,\n",
        "                     validation_split=0.2)"
      ],
      "execution_count": 0,
      "outputs": [
        {
          "output_type": "stream",
          "text": [
            "Train on 40000 samples, validate on 10000 samples\n",
            "Epoch 1/20\n",
            "40000/40000 [==============================] - 14s 346us/step - loss: 1.6624 - acc: 0.3910 - val_loss: 1.3450 - val_acc: 0.5247\n",
            "Epoch 2/20\n",
            "40000/40000 [==============================] - 9s 225us/step - loss: 1.2823 - acc: 0.5403 - val_loss: 1.1322 - val_acc: 0.6043\n",
            "Epoch 3/20\n",
            "40000/40000 [==============================] - 9s 221us/step - loss: 1.0956 - acc: 0.6118 - val_loss: 1.0134 - val_acc: 0.6465\n",
            "Epoch 4/20\n",
            "40000/40000 [==============================] - 9s 223us/step - loss: 0.9977 - acc: 0.6441 - val_loss: 0.8809 - val_acc: 0.6923\n",
            "Epoch 5/20\n",
            "40000/40000 [==============================] - 9s 217us/step - loss: 0.9222 - acc: 0.6731 - val_loss: 0.8621 - val_acc: 0.6948\n",
            "Epoch 6/20\n",
            "40000/40000 [==============================] - 9s 213us/step - loss: 0.8563 - acc: 0.6953 - val_loss: 0.8262 - val_acc: 0.7143\n",
            "Epoch 7/20\n",
            "40000/40000 [==============================] - 9s 213us/step - loss: 0.7981 - acc: 0.7201 - val_loss: 0.7457 - val_acc: 0.7414\n",
            "Epoch 8/20\n",
            "40000/40000 [==============================] - 9s 213us/step - loss: 0.7588 - acc: 0.7328 - val_loss: 0.7292 - val_acc: 0.7464\n",
            "Epoch 9/20\n",
            "40000/40000 [==============================] - 8s 212us/step - loss: 0.7143 - acc: 0.7486 - val_loss: 0.7438 - val_acc: 0.7436\n",
            "Epoch 10/20\n",
            "40000/40000 [==============================] - 8s 210us/step - loss: 0.6855 - acc: 0.7586 - val_loss: 0.6930 - val_acc: 0.7583\n",
            "Epoch 11/20\n",
            "40000/40000 [==============================] - 8s 209us/step - loss: 0.6504 - acc: 0.7716 - val_loss: 0.6643 - val_acc: 0.7690\n",
            "Epoch 12/20\n",
            "40000/40000 [==============================] - 8s 208us/step - loss: 0.6150 - acc: 0.7840 - val_loss: 0.6654 - val_acc: 0.7715\n",
            "Epoch 13/20\n",
            "40000/40000 [==============================] - 8s 207us/step - loss: 0.5851 - acc: 0.7922 - val_loss: 0.6691 - val_acc: 0.7701\n",
            "Epoch 14/20\n",
            "40000/40000 [==============================] - 8s 208us/step - loss: 0.5604 - acc: 0.8014 - val_loss: 0.6518 - val_acc: 0.7765\n",
            "Epoch 15/20\n",
            "40000/40000 [==============================] - 8s 207us/step - loss: 0.5335 - acc: 0.8103 - val_loss: 0.6476 - val_acc: 0.7771\n",
            "Epoch 16/20\n",
            "40000/40000 [==============================] - 8s 205us/step - loss: 0.5137 - acc: 0.8193 - val_loss: 0.6411 - val_acc: 0.7814\n",
            "Epoch 17/20\n",
            "40000/40000 [==============================] - 8s 207us/step - loss: 0.4864 - acc: 0.8274 - val_loss: 0.6452 - val_acc: 0.7799\n",
            "Epoch 18/20\n",
            "40000/40000 [==============================] - 8s 208us/step - loss: 0.4689 - acc: 0.8319 - val_loss: 0.6283 - val_acc: 0.7892\n",
            "Epoch 19/20\n",
            "40000/40000 [==============================] - 8s 207us/step - loss: 0.4523 - acc: 0.8384 - val_loss: 0.6472 - val_acc: 0.7866\n",
            "Epoch 20/20\n",
            "40000/40000 [==============================] - 8s 204us/step - loss: 0.4345 - acc: 0.8454 - val_loss: 0.6312 - val_acc: 0.7907\n"
          ],
          "name": "stdout"
        }
      ]
    },
    {
      "metadata": {
        "id": "oaXQtjBRFSza",
        "colab_type": "text"
      },
      "cell_type": "markdown",
      "source": [
        "28. 畫出學習歷程的模型推論準確率  \n",
        "藍色曲線是模型對訓練資料的推論準確率  \n",
        "綠色曲線是模型對驗證資料的推論準確率  \n",
        "約在第10學習週期開始過度擬合"
      ]
    },
    {
      "metadata": {
        "id": "FC7y_zB-3YGO",
        "colab_type": "code",
        "outputId": "f436209f-ac6b-4d34-cadb-566600efe318",
        "colab": {
          "base_uri": "https://localhost:8080/",
          "height": 378
        }
      },
      "cell_type": "code",
      "source": [
        "plt.xlabel('Epoch')\n",
        "plt.ylabel('Accuracy')\n",
        "plt.plot(learning.history['acc'])\n",
        "plt.plot(learning.history['val_acc'])\n",
        "plt.legend(['training data learned', 'training data not learned'])"
      ],
      "execution_count": 0,
      "outputs": [
        {
          "output_type": "execute_result",
          "data": {
            "text/plain": [
              "<matplotlib.legend.Legend at 0x7fd650273978>"
            ]
          },
          "metadata": {
            "tags": []
          },
          "execution_count": 16
        },
        {
          "output_type": "display_data",
          "data": {
            "image/png": "[encoded data removed]",
            "text/plain": [
              "<matplotlib.figure.Figure at 0x7fd6502c2390>"
            ]
          },
          "metadata": {
            "tags": []
          }
        }
      ]
    },
    {
      "metadata": {
        "id": "4lhlEGpKLKr0",
        "colab_type": "text"
      },
      "cell_type": "markdown",
      "source": [
        "29. 最後的模型推論準確率"
      ]
    },
    {
      "metadata": {
        "id": "2FHMn4tBK1OH",
        "colab_type": "code",
        "outputId": "84286545-1480-4241-c673-3957f7b771bd",
        "colab": {
          "base_uri": "https://localhost:8080/",
          "height": 34
        }
      },
      "cell_type": "code",
      "source": [
        "learning.history['val_acc'][-1]"
      ],
      "execution_count": 0,
      "outputs": [
        {
          "output_type": "execute_result",
          "data": {
            "text/plain": [
              "0.7907"
            ]
          },
          "metadata": {
            "tags": []
          },
          "execution_count": 17
        }
      ]
    },
    {
      "metadata": {
        "id": "0KGo4Lw9MHcc",
        "colab_type": "text"
      },
      "cell_type": "markdown",
      "source": [
        "30. 用model.evaluate函數評估模型對10000筆測試資料的推論準確率，約略同上"
      ]
    },
    {
      "metadata": {
        "id": "nOcTHXj57vLa",
        "colab_type": "code",
        "outputId": "12c7d7e4-33c5-4f42-ba84-38452d35832f",
        "colab": {
          "base_uri": "https://localhost:8080/",
          "height": 51
        }
      },
      "cell_type": "code",
      "source": [
        "loss, accuracy = model.evaluate(x_test, y_test_onehot)\n",
        "accuracy"
      ],
      "execution_count": 0,
      "outputs": [
        {
          "output_type": "stream",
          "text": [
            "10000/10000 [==============================] - 1s 124us/step\n"
          ],
          "name": "stdout"
        },
        {
          "output_type": "execute_result",
          "data": {
            "text/plain": [
              "0.7797"
            ]
          },
          "metadata": {
            "tags": []
          },
          "execution_count": 18
        }
      ]
    },
    {
      "metadata": {
        "id": "2JBEUjMqL_jU",
        "colab_type": "text"
      },
      "cell_type": "markdown",
      "source": [
        "# Inference"
      ]
    },
    {
      "metadata": {
        "id": "BbVLNCkMfVF-",
        "colab_type": "text"
      },
      "cell_type": "markdown",
      "source": [
        "31. 以模型對測試資料取得推論為例  \n",
        "用model.predict函數取得推論，為10000筆10維向量  \n",
        "用model.predict_classes取得推論，為10000筆純量  \n",
        "查看第0筆的獨熱編碼及其類別是一致的"
      ]
    },
    {
      "metadata": {
        "id": "d5XY25-mUXH4",
        "colab_type": "code",
        "outputId": "621dd97a-17a9-471a-950a-a6f86c43b262",
        "colab": {
          "base_uri": "https://localhost:8080/",
          "height": 102
        }
      },
      "cell_type": "code",
      "source": [
        "prediction = model.predict(x_test)\n",
        "classification = model.predict_classes(x_test)\n",
        "print(prediction.shape)\n",
        "print(classification.shape)\n",
        "print(prediction[0])\n",
        "print(classification[0])"
      ],
      "execution_count": 0,
      "outputs": [
        {
          "output_type": "stream",
          "text": [
            "(10000, 10)\n",
            "(10000,)\n",
            "[0.00155721 0.01064905 0.02711223 0.40221953 0.00628971 0.35328412\n",
            " 0.03490924 0.01039482 0.10530623 0.04827785]\n",
            "3\n"
          ],
          "name": "stdout"
        }
      ]
    },
    {
      "metadata": {
        "id": "sDq28SY3kCTd",
        "colab_type": "text"
      },
      "cell_type": "markdown",
      "source": [
        "32. 任意看15張圖的推論結果正確與否"
      ]
    },
    {
      "metadata": {
        "id": "M_OVSHnqGsN_",
        "colab_type": "code",
        "outputId": "3ae6ed02-74ad-4407-c357-5970f6c64186",
        "colab": {
          "base_uri": "https://localhost:8080/",
          "height": 334
        }
      },
      "cell_type": "code",
      "source": [
        "for i in range(15):\n",
        "  ax = plt.subplot(3, 5, 1+i)\n",
        "  ax.imshow(x_test[i])\n",
        "  ax.set_title('O' if classification[5566+i] == y_test[5566+i][0] else 'X')\n",
        "  ax.set_xticks([])\n",
        "  ax.set_yticks([])"
      ],
      "execution_count": 0,
      "outputs": [
        {
          "output_type": "display_data",
          "data": {
            "image/png": "[encoded data removed]",
            "text/plain": [
              "<matplotlib.figure.Figure at 0x7fd6502d2898>"
            ]
          },
          "metadata": {
            "tags": []
          }
        }
      ]
    },
    {
      "metadata": {
        "id": "hSPrHPbuuYIP",
        "colab_type": "text"
      },
      "cell_type": "markdown",
      "source": [
        "# Save"
      ]
    },
    {
      "metadata": {
        "id": "qOpZeWSD1dqb",
        "colab_type": "text"
      },
      "cell_type": "markdown",
      "source": [
        "33. Save model to a JSON file"
      ]
    },
    {
      "metadata": {
        "id": "DO4Tfv1puTbB",
        "colab_type": "code",
        "outputId": "a4a9fad0-187f-4ac4-e7db-3fb3f9a37de2",
        "colab": {
          "base_uri": "https://localhost:8080/",
          "height": 51
        }
      },
      "cell_type": "code",
      "source": [
        "!ls\n",
        "model_json = model.to_json()\n",
        "with open('cifar10_model.json', 'w') as f:\n",
        "  f.write(model_json)\n",
        "!ls"
      ],
      "execution_count": 0,
      "outputs": [
        {
          "output_type": "stream",
          "text": [
            "sample_data\n",
            "cifar10_model.json  sample_data\n"
          ],
          "name": "stdout"
        }
      ]
    },
    {
      "metadata": {
        "id": "7RYJK_tf1c-C",
        "colab_type": "text"
      },
      "cell_type": "markdown",
      "source": [
        "34. Save params to a H5 file"
      ]
    },
    {
      "metadata": {
        "id": "dKAu4KVR1cdp",
        "colab_type": "code",
        "outputId": "2bc3e401-c577-492c-9bcb-a42db8e48a1d",
        "colab": {
          "base_uri": "https://localhost:8080/",
          "height": 51
        }
      },
      "cell_type": "code",
      "source": [
        "!ls\n",
        "model.save_weights('cifar10_params.h5')\n",
        "!ls"
      ],
      "execution_count": 0,
      "outputs": [
        {
          "output_type": "stream",
          "text": [
            "cifar10_model.json  sample_data\n",
            "cifar10_model.json  cifar10_params.h5  sample_data\n"
          ],
          "name": "stdout"
        }
      ]
    },
    {
      "metadata": {
        "id": "UqUW0P_93dlw",
        "colab_type": "text"
      },
      "cell_type": "markdown",
      "source": [
        "35. Save params+model to a H5 file"
      ]
    },
    {
      "metadata": {
        "id": "UKHQA_gR3imH",
        "colab_type": "code",
        "outputId": "4255d1c4-43b5-478a-a1a1-5adebf32aa62",
        "colab": {
          "base_uri": "https://localhost:8080/",
          "height": 51
        }
      },
      "cell_type": "code",
      "source": [
        "!ls\n",
        "model.save('cifar10_params_model.h5')\n",
        "!ls"
      ],
      "execution_count": 0,
      "outputs": [
        {
          "output_type": "stream",
          "text": [
            "cifar10_model.json  cifar10_params.h5  sample_data\n",
            "cifar10_model.json  cifar10_params.h5  cifar10_params_model.h5\tsample_data\n"
          ],
          "name": "stdout"
        }
      ]
    },
    {
      "metadata": {
        "id": "1cao5noVlv57",
        "colab_type": "text"
      },
      "cell_type": "markdown",
      "source": [
        "# Download to local drive"
      ]
    },
    {
      "metadata": {
        "id": "HGfjM65Jv2dY",
        "colab_type": "text"
      },
      "cell_type": "markdown",
      "source": [
        "36. Colab runtime 和 Chrome 斷線一段時間會被重置，儲存在 Colab runtime 中的檔案不會被保留，而這個 ipynb(IPython/Jupyter Notebook) 還是會存在你的雲端硬碟上\n",
        "37. 點開左側面板，點到Files，在此介面操作檔案的上傳及下載\n",
        "38. 也可以用 google.colab 的 files.upload() 和 files.download()"
      ]
    },
    {
      "metadata": {
        "id": "V2Jx8jSwwGSQ",
        "colab_type": "code",
        "colab": {}
      },
      "cell_type": "code",
      "source": [
        "from google.colab import files\n",
        "files.download('cifar10_params_model.h5')"
      ],
      "execution_count": 0,
      "outputs": []
    },
    {
      "metadata": {
        "id": "YKr2whZSmOpI",
        "colab_type": "text"
      },
      "cell_type": "markdown",
      "source": [
        "# Download to Google Drive"
      ]
    },
    {
      "metadata": {
        "id": "KzUIam89mp1e",
        "colab_type": "text"
      },
      "cell_type": "markdown",
      "source": [
        "39. Colab runtime 可以掛載 Google Drive 為一個目錄"
      ]
    },
    {
      "metadata": {
        "id": "6ulTkIwtnoqJ",
        "colab_type": "code",
        "outputId": "5b99aeaf-bc0f-474b-b3ff-a3c6f1779f41",
        "colab": {
          "base_uri": "https://localhost:8080/",
          "height": 122
        }
      },
      "cell_type": "code",
      "source": [
        "from google.colab import drive\n",
        "drive.mount('/content/gdrive')"
      ],
      "execution_count": 0,
      "outputs": [
        {
          "output_type": "stream",
          "text": [
            "Go to this URL in a browser: https://accounts.google.com/o/oauth2/auth?client_id=947318989803-6bn6qk8qdgf4n4g3pfee6491hc0brc4i.apps.googleusercontent.com&redirect_uri=urn%3Aietf%3Awg%3Aoauth%3A2.0%3Aoob&scope=email%20https%3A%2F%2Fwww.googleapis.com%2Fauth%2Fdocs.test%20https%3A%2F%2Fwww.googleapis.com%2Fauth%2Fdrive%20https%3A%2F%2Fwww.googleapis.com%2Fauth%2Fdrive.photos.readonly%20https%3A%2F%2Fwww.googleapis.com%2Fauth%2Fpeopleapi.readonly&response_type=code\n",
            "\n",
            "Enter your authorization code:\n",
            "··········\n",
            "Mounted at /content/gdrive\n"
          ],
          "name": "stdout"
        }
      ]
    },
    {
      "metadata": {
        "id": "0yzI16beohQI",
        "colab_type": "text"
      },
      "cell_type": "markdown",
      "source": [
        "40. 將要存下來的檔案備份在gdrive/My Drive目錄，即使runtime被重置，檔案還是會存在你的雲端硬碟上"
      ]
    },
    {
      "metadata": {
        "id": "agBv3OclpvoN",
        "colab_type": "code",
        "colab": {}
      },
      "cell_type": "code",
      "source": [
        "!cp cifar10* gdrive/My\\ Drive"
      ],
      "execution_count": 0,
      "outputs": []
    }
  ]
}