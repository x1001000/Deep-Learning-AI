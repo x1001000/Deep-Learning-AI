{
 "cells": [
  {
   "cell_type": "markdown",
   "metadata": {},
   "source": [
    "### Import package"
   ]
  },
  {
   "cell_type": "code",
   "execution_count": 1,
   "metadata": {},
   "outputs": [
    {
     "ename": "ModuleNotFoundError",
     "evalue": "No module named 'gym'",
     "output_type": "error",
     "traceback": [
      "\u001b[1;31m---------------------------------------------------------------------------\u001b[0m",
      "\u001b[1;31mModuleNotFoundError\u001b[0m                       Traceback (most recent call last)",
      "\u001b[1;32m<ipython-input-1-839885f75281>\u001b[0m in \u001b[0;36m<module>\u001b[1;34m()\u001b[0m\n\u001b[1;32m----> 1\u001b[1;33m \u001b[1;32mimport\u001b[0m \u001b[0mgym\u001b[0m\u001b[1;33m\u001b[0m\u001b[0m\n\u001b[0m\u001b[0;32m      2\u001b[0m \u001b[1;32mimport\u001b[0m \u001b[0mnumpy\u001b[0m \u001b[1;32mas\u001b[0m \u001b[0mnp\u001b[0m\u001b[1;33m\u001b[0m\u001b[0m\n\u001b[0;32m      3\u001b[0m \u001b[1;32mimport\u001b[0m \u001b[0mtensorflow\u001b[0m \u001b[1;32mas\u001b[0m \u001b[0mtf\u001b[0m\u001b[1;33m\u001b[0m\u001b[0m\n\u001b[0;32m      4\u001b[0m \u001b[1;32mimport\u001b[0m \u001b[0mmatplotlib\u001b[0m\u001b[1;33m.\u001b[0m\u001b[0mpyplot\u001b[0m \u001b[1;32mas\u001b[0m \u001b[0mplt\u001b[0m\u001b[1;33m\u001b[0m\u001b[0m\n\u001b[0;32m      5\u001b[0m \u001b[1;33m\u001b[0m\u001b[0m\n",
      "\u001b[1;31mModuleNotFoundError\u001b[0m: No module named 'gym'"
     ]
    }
   ],
   "source": [
    "import gym\n",
    "import numpy as np\n",
    "import tensorflow as tf\n",
    "import matplotlib.pyplot as plt\n",
    "\n",
    "np.random.seed(2)\n",
    "tf.set_random_seed(2)\n",
    "\n",
    "%matplotlib inline"
   ]
  },
  {
   "cell_type": "markdown",
   "metadata": {},
   "source": [
    "### Hyperparameter"
   ]
  },
  {
   "cell_type": "code",
   "execution_count": 2,
   "metadata": {
    "collapsed": true
   },
   "outputs": [],
   "source": [
    "MAX_EPISODE = 500 # 要跑多少個 episode\n",
    "MAX_EP_STEPS = 200 # 一個 episode 要跑多少步\n",
    "DISPLAY_REWARD_THRESHOLD = -60 # 如果 reward 大於這個 threshold 就 render 環境\n",
    "RENDER = False # 一開始先不要 render，因為會浪費時間\n",
    "GAMMA = 0.95 # reward discount factor\n",
    "LR_A = 0.0001 # learning rate for actor\n",
    "LR_C = 0.001 # learning rate for critic\n",
    "\n",
    "USE_ACTION_AS_INPUT = False # whether to use action as input for critic"
   ]
  },
  {
   "cell_type": "markdown",
   "metadata": {},
   "source": [
    "### Environment Settings"
   ]
  },
  {
   "cell_type": "code",
   "execution_count": 3,
   "metadata": {},
   "outputs": [
    {
     "data": {
      "text/plain": [
       "[1]"
      ]
     },
     "execution_count": 3,
     "metadata": {},
     "output_type": "execute_result"
    }
   ],
   "source": [
    "ENV_NAME = \"Pendulum-v0\"\n",
    "env = gym.make(ENV_NAME)\n",
    "env.seed(1) # reproducible\n",
    "\n",
    "n_obs = env.observation_space.shape[0]\n",
    "is_discrete = hasattr(env.action_space, \"n\")\n",
    "\n",
    "if is_discrete:\n",
    "    n_action_space = env.action_space.n\n",
    "else:\n",
    "    n_action_space = env.action_space.shape[0]\n",
    "print(\"The number of observation is: %s The number of action that can be taken is: %s (%s)\" % \\\n",
    "      (n_obs, n_action_space, \"discrete\" if is_discrete else \"continuous\"))\n",
    "\n",
    "if not is_discrete:\n",
    "    action_bound = env.action_space.high\n",
    "    print(\"Action boundary: %s ~ %s\" % (env.action_space.low[0], env.action_space.high[0]))"
   ]
  },
  {
   "cell_type": "markdown",
   "metadata": {},
   "source": [
    "<img src=\"img/actor_critic_pseudo.JPG\",width=400,height=200>"
   ]
  },
  {
   "cell_type": "markdown",
   "metadata": {},
   "source": [
    "### Actor-Critic\n",
    "以下程式碼我們做了挖空的處理，註解有 `###` 的部分就要請你練習寫出來的地方"
   ]
  },
  {
   "cell_type": "code",
   "execution_count": 5,
   "metadata": {
    "collapsed": true
   },
   "outputs": [],
   "source": [
    "class ActorCritic(object):\n",
    "    def __init__(self, n_action_space, n_state, action_bound, sess):\n",
    "        \n",
    "        self.n_action_space = n_action_space\n",
    "        self.n_state = n_state\n",
    "        self.action_bound = action_bound\n",
    "        self.sess = sess\n",
    "        \n",
    "        self.S = tf.placeholder(tf.float32, [1, self.n_state], 'state_input')\n",
    "        self.gt_action = tf.placeholder(tf.float32, None, 'gt_action')\n",
    "        self.td_error = tf.placeholder(tf.float32, None, name=\"td_error\")  # TD_error\n",
    "        \n",
    "        self.R = tf.placeholder(tf.float32, name='reward')\n",
    "        self.v_ = tf.placeholder(tf.float32, [1, 1], 'next_exp_v')\n",
    "        \n",
    "        with tf.variable_scope(\"Actor\"):\n",
    "            # create actor network\n",
    "            self.action, self.normal_dist = self.create_actor(self.S)\n",
    "            \n",
    "            with tf.name_scope(\"expected_value_for_actor\"):\n",
    "                ### 請定義 self.exp_v\n",
    "                # create_actor: normal_dist = tf.distributions.Normal(tf.squeeze(mu*2), tf.squeeze(sigma + 1e-5))\n",
    "                # actor gradient = grad[logP_Pi(a|s) * td_error]\n",
    "                self.exp_v = self.normal_dist.log_prob(self.gt_action) * self.td_error\n",
    "                self.exp_v = self.exp_v - 0.01 * self.normal_dist.entropy() # Add cross entropy cost to encourage exploration\n",
    "            \n",
    "            with tf.name_scope(\"actor_train\"):\n",
    "                ### 請定義 self.actor_train\n",
    "                # wish to maximize Q value, i.e., self.exp_v in our case\n",
    "                # Note: min(-v) = max(v)\n",
    "                self.actor_train = \n",
    "        \n",
    "        with tf.variable_scope(\"Critic\"):\n",
    "            # create critic network\n",
    "            self.v = self.create_critic(self.S, self.gt_action)\n",
    "            \n",
    "            with tf.name_scope(\"squared_TD_error\"):\n",
    "                ### 請定義 critic_v_target 及 self.critic_td_error\n",
    "                # critic gradient = grad[r + gamma * V(s_) - V(s)]\n",
    "                critic_v_target = \n",
    "                self.critic_td_error = \n",
    "                self.loss = tf.square(self.critic_td_error)\n",
    "            \n",
    "            with tf.name_scope(\"critic_train\"):\n",
    "                ### 請定義 self.critic_train\n",
    "                # wish to minimize the td error\n",
    "                self.critic_train = \n",
    "                \n",
    "    def choose_action(self, s):\n",
    "        s = s[np.newaxis, :]\n",
    "        ### 請回傳 action\n",
    "        return  # return a action with continuous real number\n",
    "    \n",
    "    def create_actor(self, s):\n",
    "        ### 請嘗試寫一個簡單的 actor network，\n",
    "        ### 輸入是 state (s)，輸出是 action 以及 action 的 distribution\n",
    "        ### 只需要有 1 層、30 units 的 dense layer (當然你也可以去 try 更複雜架構)\n",
    "        l1 = \n",
    "        mu = \n",
    "        sigma = \n",
    "        normal_dist = \n",
    "    \n",
    "        action = \n",
    "        return action, normal_dist\n",
    "        \n",
    "    def update_actor(self, s, a , td):\n",
    "        s = s[np.newaxis, :]\n",
    "        feed_dict = {self.S: s, self.gt_action: a, self.td_error: td}\n",
    "        _, exp_v = self.sess.run([self.actor_train, self.exp_v], feed_dict)\n",
    "        return exp_v\n",
    "        \n",
    "    def create_critic(self, s, a):\n",
    "        ### 請嘗試寫一個簡單的 critic network,\n",
    "        ### 輸入是 state (s)，如果 USE_ACTION_AS_INPUT == True 的話，輸入是 s + a\n",
    "        ### 輸出 value\n",
    "        l1 = \n",
    "        if USE_ACTION_AS_INPUT:\n",
    "            a = tf.reshape(a, (1, 1)) # reshape action to (1, 1) to concat properly\n",
    "            l2 = \n",
    "            v = \n",
    "        else:\n",
    "            v = \n",
    "\n",
    "        return v\n",
    "    \n",
    "    def update_critic(self, s, r, s_, a=None):\n",
    "        s, s_ = s[np.newaxis, :], s_[np.newaxis, :]\n",
    "\n",
    "        if a is None:\n",
    "            v_ = self.sess.run(self.v, {self.S: s_})\n",
    "            td_error, _ = self.sess.run([self.critic_td_error, self.critic_train],\n",
    "                                              {self.S: s, self.v_: v_, self.R: r})\n",
    "        else:\n",
    "            v_ = self.sess.run(self.v, {self.S: s_, self.gt_action: a})\n",
    "            td_error, _ = self.sess.run([self.critic_td_error, self.critic_train],\n",
    "                                              {self.S: s, self.gt_action: a, self.v_: v_, self.R: r})\n",
    "            \n",
    "        return td_error\n"
   ]
  },
  {
   "cell_type": "markdown",
   "metadata": {},
   "source": [
    "### Initial our Actor-Critic"
   ]
  },
  {
   "cell_type": "code",
   "execution_count": 6,
   "metadata": {
    "collapsed": true
   },
   "outputs": [],
   "source": [
    "tf.reset_default_graph()\n",
    "sess = tf.InteractiveSession()\n",
    "\n",
    "actor_critic = ActorCritic(n_action_space, n_obs, action_bound, sess)\n",
    "\n",
    "sess.run(tf.global_variables_initializer())"
   ]
  },
  {
   "cell_type": "markdown",
   "metadata": {},
   "source": [
    "### Main training"
   ]
  },
  {
   "cell_type": "code",
   "execution_count": null,
   "metadata": {
    "collapsed": true
   },
   "outputs": [],
   "source": [
    "reward_history = []\n",
    "for i_episode in range(MAX_EPISODE):\n",
    "    s = env.reset()\n",
    "    t, ep_rs = 0, 0\n",
    "    while True:\n",
    "        if RENDER:\n",
    "            env.render()\n",
    "        ### 請計算 given state 得到的 action\n",
    "        a = \n",
    "        s_, r, done, info = env.step(a)\n",
    "        r /= 10 # scaled reward to converge faster\n",
    "        ### 請更新 critic 並且計算 td_error\n",
    "        if USE_ACTION_AS_INPUT:\n",
    "            td_error = \n",
    "        else:\n",
    "            td_error =  # critic gradient = grad[r + gamma * V(s_) - V(s)]\n",
    "        ### 請更新 actor\n",
    "        # actor gradient = grad[logP_Pi(a|s) * td_error]\n",
    "\n",
    "        s = s_\n",
    "        t += 1\n",
    "        ep_rs += r\n",
    "        \n",
    "        if t > MAX_EP_STEPS:\n",
    "            reward_history.append(ep_rs)\n",
    "            if 'running_reward' not in globals():\n",
    "                running_reward = ep_rs\n",
    "            else:\n",
    "                running_reward = running_reward * 0.9 + ep_rs * 0.1 # 希望是穩定的 reward\n",
    "            \n",
    "            if running_reward > DISPLAY_REWARD_THRESHOLD: RENDER = True  # rendering\n",
    "            print(\"episode:\", i_episode, \"  reward:\", int(running_reward))\n",
    "            break"
   ]
  },
  {
   "cell_type": "code",
   "execution_count": 8,
   "metadata": {},
   "outputs": [
    {
     "data": {
      "text/plain": [
       "[<matplotlib.lines.Line2D at 0x25d8cc4f2b0>]"
      ]
     },
     "execution_count": 8,
     "metadata": {},
     "output_type": "execute_result"
    },
    {
     "data": {
      "image/png": "[encoded data removed]",
      "text/plain": [
       "<matplotlib.figure.Figure at 0x25de33ed4a8>"
      ]
     },
     "metadata": {},
     "output_type": "display_data"
    }
   ],
   "source": [
    "plt.plot(reward_history)"
   ]
  },
  {
   "cell_type": "markdown",
   "metadata": {},
   "source": [
    "### Save model"
   ]
  },
  {
   "cell_type": "code",
   "execution_count": 9,
   "metadata": {
    "collapsed": true
   },
   "outputs": [],
   "source": [
    "# Add ops to save and restore all the variables.\n",
    "saver = tf.train.Saver()\n",
    "# Save the variables to disk.\n",
    "save_path = saver.save(sess, \"checkpoint/ac_v1.ckpt\")"
   ]
  },
  {
   "cell_type": "markdown",
   "metadata": {},
   "source": [
    "### Use checkpoint\n",
    "這裡有幫大家跑好 `USE_ACTION_AS_INPUT = False` 的 model，有興趣的話可以 restore ac.ckpt 這個 checkpoint 來玩 pendulum。"
   ]
  },
  {
   "cell_type": "code",
   "execution_count": 10,
   "metadata": {},
   "outputs": [
    {
     "name": "stdout",
     "output_type": "stream",
     "text": [
      "INFO:tensorflow:Restoring parameters from checkpoint/ac_v1.ckpt\n"
     ]
    }
   ],
   "source": [
    "saver.restore(sess, \"checkpoint/ac_v1.ckpt\")\n",
    "s = env.reset()\n",
    "i_step = 0\n",
    "while True:\n",
    "    env.render()\n",
    "    a = actor_critic.choose_action(s)\n",
    "    s_, r, done, info = env.step(a)\n",
    "    s = s_\n",
    "    i_step += 1\n",
    "    if i_step > 300:\n",
    "        break"
   ]
  }
 ],
 "metadata": {
  "kernelspec": {
   "display_name": "Python 3",
   "language": "python",
   "name": "python3"
  },
  "language_info": {
   "codemirror_mode": {
    "name": "ipython",
    "version": 3
   },
   "file_extension": ".py",
   "mimetype": "text/x-python",
   "name": "python",
   "nbconvert_exporter": "python",
   "pygments_lexer": "ipython3",
   "version": "3.6.2"
  }
 },
 "nbformat": 4,
 "nbformat_minor": 2
}
