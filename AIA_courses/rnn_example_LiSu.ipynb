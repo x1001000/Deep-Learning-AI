{
 "cells": [
  {
   "cell_type": "code",
   "execution_count": 1,
   "metadata": {
    "colab": {
     "autoexec": {
      "startup": false,
      "wait_interval": 0
     },
     "base_uri": "https://localhost:8080/",
     "height": 332
    },
    "colab_type": "code",
    "executionInfo": {
     "elapsed": 1880,
     "status": "ok",
     "timestamp": 1531900981873,
     "user": {
      "displayName": "Li Su",
      "photoUrl": "//lh5.googleusercontent.com/-9pFUQ1NX_2Y/AAAAAAAAAAI/AAAAAAAABQs/85dFjpXP6Dc/s50-c-k-no/photo.jpg",
      "userId": "114061514994910013821"
     },
     "user_tz": -480
    },
    "id": "8qlPS85KsdxR",
    "outputId": "44823d4a-849f-4fa3-9d1b-145499ce4d97"
   },
   "outputs": [
    {
     "name": "stdout",
     "output_type": "stream",
     "text": [
      "--2018-07-20 17:42:45--  https://drive.google.com/uc?export=download&id=1qc8J2G33D1EJp7UcHjFsC8TM9En4mlnN\n",
      "Resolving drive.google.com (drive.google.com)... 216.58.200.238, 2404:6800:4008:802::200e\n",
      "Connecting to drive.google.com (drive.google.com)|216.58.200.238|:443... connected.\n",
      "HTTP request sent, awaiting response... 302 Moved Temporarily\n",
      "Location: https://doc-0s-68-docs.googleusercontent.com/docs/securesc/ha0ro937gcuc7l7deffksulhg5h7mbp1/dr8mgt28r7ovpjphoj1su5ei9i0iqip0/1532073600000/03883088111541851449/*/1qc8J2G33D1EJp7UcHjFsC8TM9En4mlnN?e=download [following]\n",
      "Warning: wildcards not supported in HTTP.\n",
      "--2018-07-20 17:42:45--  https://doc-0s-68-docs.googleusercontent.com/docs/securesc/ha0ro937gcuc7l7deffksulhg5h7mbp1/dr8mgt28r7ovpjphoj1su5ei9i0iqip0/1532073600000/03883088111541851449/*/1qc8J2G33D1EJp7UcHjFsC8TM9En4mlnN?e=download\n",
      "Resolving doc-0s-68-docs.googleusercontent.com (doc-0s-68-docs.googleusercontent.com)... 216.58.200.225, 2404:6800:4008:802::2001\n",
      "Connecting to doc-0s-68-docs.googleusercontent.com (doc-0s-68-docs.googleusercontent.com)|216.58.200.225|:443... connected.\n",
      "HTTP request sent, awaiting response... 200 OK\n",
      "Length: 722 [text/plain]\n",
      "Saving to: ‘international-airline-passengers.txt’\n",
      "\n",
      "international-airli 100%[===================>]     722  --.-KB/s    in 0s      \n",
      "\n",
      "2018-07-20 17:42:46 (20.5 MB/s) - ‘international-airline-passengers.txt’ saved [722/722]\n",
      "\n"
     ]
    }
   ],
   "source": [
    "# download dataset\n",
    "!wget --no-check-certificate \"https://drive.google.com/uc?export=download&id=1qc8J2G33D1EJp7UcHjFsC8TM9En4mlnN\" -O international-airline-passengers.txt\n",
    "# !wget --no-check-certificate \"https://drive.google.com/uc?export=download&id=1sqDa14EfBkGzIahLawTjQLR__lI0dBg0\" -O Timeline.txt"
   ]
  },
  {
   "cell_type": "code",
   "execution_count": 2,
   "metadata": {
    "colab": {
     "autoexec": {
      "startup": false,
      "wait_interval": 0
     },
     "base_uri": "https://localhost:8080/",
     "height": 35
    },
    "colab_type": "code",
    "executionInfo": {
     "elapsed": 1588,
     "status": "ok",
     "timestamp": 1531900984277,
     "user": {
      "displayName": "Li Su",
      "photoUrl": "//lh5.googleusercontent.com/-9pFUQ1NX_2Y/AAAAAAAAAAI/AAAAAAAABQs/85dFjpXP6Dc/s50-c-k-no/photo.jpg",
      "userId": "114061514994910013821"
     },
     "user_tz": -480
    },
    "id": "4rpOU9rcu9Yp",
    "outputId": "01b715a1-99ea-47a0-ddbd-a454396e5dd6"
   },
   "outputs": [
    {
     "name": "stdout",
     "output_type": "stream",
     "text": [
      "international-airline-passengers.txt  rnn_example_LiSu.ipynb\r\n"
     ]
    }
   ],
   "source": [
    "ls"
   ]
  },
  {
   "cell_type": "code",
   "execution_count": 3,
   "metadata": {
    "colab": {
     "autoexec": {
      "startup": false,
      "wait_interval": 0
     },
     "base_uri": "https://localhost:8080/",
     "height": 382
    },
    "colab_type": "code",
    "executionInfo": {
     "elapsed": 2839,
     "status": "ok",
     "timestamp": 1531900987874,
     "user": {
      "displayName": "Li Su",
      "photoUrl": "//lh5.googleusercontent.com/-9pFUQ1NX_2Y/AAAAAAAAAAI/AAAAAAAABQs/85dFjpXP6Dc/s50-c-k-no/photo.jpg",
      "userId": "114061514994910013821"
     },
     "user_tz": -480
    },
    "id": "DturXYrK1YkZ",
    "outputId": "67f52653-447c-4a87-8dd4-19d91c926869"
   },
   "outputs": [
    {
     "name": "stderr",
     "output_type": "stream",
     "text": [
      "/home/nelson/anaconda3/lib/python3.6/site-packages/h5py/__init__.py:36: FutureWarning: Conversion of the second argument of issubdtype from `float` to `np.floating` is deprecated. In future, it will be treated as `np.float64 == np.dtype(float).type`.\n",
      "  from ._conv import register_converters as _register_converters\n",
      "Using TensorFlow backend.\n"
     ]
    },
    {
     "data": {
      "text/plain": [
       "<matplotlib.figure.Figure at 0x7f7bedc8b2e8>"
      ]
     },
     "metadata": {},
     "output_type": "display_data"
    },
    {
     "name": "stdout",
     "output_type": "stream",
     "text": [
      "96 48\n"
     ]
    }
   ],
   "source": [
    "import keras.backend as K\n",
    "import numpy as np\n",
    "import matplotlib.pyplot as plt\n",
    "import math\n",
    "from keras.models import Sequential\n",
    "from keras.models import Model\n",
    "from keras.layers import Dense\n",
    "from keras.layers import LSTM\n",
    "from keras.layers import SimpleRNN\n",
    "from keras.layers import GRU\n",
    "from keras.layers import Input\n",
    "from keras.layers import merge\n",
    "from keras.layers import Permute\n",
    "from keras.layers import Flatten\n",
    "from keras.layers import RepeatVector\n",
    "from keras.layers import Lambda\n",
    "from keras.layers import Multiply\n",
    "from sklearn.preprocessing import MinMaxScaler\n",
    "from sklearn.metrics import mean_squared_error\n",
    "\n",
    "# fix random seed for reproducibility\n",
    "np.random.seed(7)\n",
    "\n",
    "# load the dataset\n",
    "dataset = np.loadtxt('international-airline-passengers.txt')\n",
    "plt.plot(dataset)\n",
    "plt.show()\n",
    "dataset = dataset.astype('float32')\n",
    "dataset = dataset.reshape(-1,1)\n",
    "\n",
    "# normalize the dataset\n",
    "scaler = MinMaxScaler(feature_range=(0, 1))\n",
    "dataset = scaler.fit_transform(dataset)\n",
    "\n",
    "# split into train and test sets\n",
    "train_size = int(len(dataset) * 0.67)\n",
    "test_size = len(dataset) - train_size\n",
    "train, test = dataset[0:train_size,:], dataset[train_size:len(dataset),:]\n",
    "print(len(train), len(test))"
   ]
  },
  {
   "cell_type": "code",
   "execution_count": 4,
   "metadata": {
    "colab": {
     "autoexec": {
      "startup": false,
      "wait_interval": 0
     }
    },
    "colab_type": "code",
    "id": "DtfH70JK4N-I"
   },
   "outputs": [],
   "source": [
    "# convert an array of values into a dataset matrix\n",
    "def create_dataset(dataset, look_back=1):\n",
    "    dataX, dataY = [], []\n",
    "    for i in range(len(dataset)-look_back-1):\n",
    "        a = dataset[i:(i+look_back), 0]\n",
    "        dataX.append(a)\n",
    "        dataY.append(dataset[i + look_back, 0])\n",
    "    return np.array(dataX), np.array(dataY)\n",
    "\n",
    "def attention_3d_block(inputs, look_back):\n",
    "    # inputs.shape = (batch_size, time_steps, input_dim)\n",
    "    input_dim = int(inputs.shape[2])\n",
    "    a = Permute((2, 1))(inputs)\n",
    "    # a = Reshape((input_dim, TIME_STEPS))(a) # this line is not useful. It's just to know which dimension is what.\n",
    "    a = Dense(look_back, activation='softmax')(a)\n",
    "    # if SINGLE_ATTENTION_VECTOR:\n",
    "    #     a = Lambda(lambda x: K.mean(x, axis=1), name='dim_reduction')(a)\n",
    "    #     a = RepeatVector(input_dim)(a)\n",
    "    a_probs = Permute((2, 1), name='attention_vec')(a)\n",
    "    output_attention_mul = merge([inputs, a_probs], name='attention_mul', mode='mul')\n",
    "    return output_attention_mul\n",
    "\n",
    "def model_lstm(look_back):\n",
    "    inputs = Input(shape=(look_back, 1))\n",
    "    lstm_out = LSTM(4, input_shape=(look_back, 1))(inputs)\n",
    "    output = Dense(1)(lstm_out)\n",
    "    model = Model(input=[inputs], output=output)\n",
    "    return model\n",
    "  \n",
    "def model_attention_applied_after_lstm(look_back):\n",
    "    # using the model class API\n",
    "    inputs = Input(shape=(look_back, 1))\n",
    "    lstm_out = LSTM(4, input_shape=(look_back, 1), return_sequences=True)(inputs)\n",
    "    a = Permute((2, 1))(lstm_out)\n",
    "    a = Dense(look_back, activation='softmax')(lstm_out)\n",
    "    a = Lambda(lambda x: K.mean(x, axis=1), name='dim_reduction')(a)\n",
    "    a = RepeatVector(4)(a)\n",
    "    a_probs = Permute((2, 1), name='attention_vec')(a)\n",
    "    attention_mul = Multiply()([lstm_out, a_probs]) # \n",
    "    attention_mul = Flatten()(attention_mul)\n",
    "    output = Dense(1)(attention_mul) # activation='linear' if not specified\n",
    "    model = Model(input=[inputs], output=output)\n",
    "    return model"
   ]
  },
  {
   "cell_type": "code",
   "execution_count": 5,
   "metadata": {
    "colab": {
     "autoexec": {
      "startup": false,
      "wait_interval": 0
     },
     "base_uri": "https://localhost:8080/",
     "height": 3573
    },
    "colab_type": "code",
    "executionInfo": {
     "elapsed": 30348,
     "status": "ok",
     "timestamp": 1531901144137,
     "user": {
      "displayName": "Li Su",
      "photoUrl": "//lh5.googleusercontent.com/-9pFUQ1NX_2Y/AAAAAAAAAAI/AAAAAAAABQs/85dFjpXP6Dc/s50-c-k-no/photo.jpg",
      "userId": "114061514994910013821"
     },
     "user_tz": -480
    },
    "id": "Qxsm3mwH4UrP",
    "outputId": "9de79fc8-376d-48a8-c43c-d3dc954f64cb"
   },
   "outputs": [
    {
     "name": "stdout",
     "output_type": "stream",
     "text": [
      "(91, 4, 1)\n"
     ]
    },
    {
     "name": "stderr",
     "output_type": "stream",
     "text": [
      "/home/nelson/anaconda3/lib/python3.6/site-packages/ipykernel_launcher.py:27: UserWarning: Update your `Model` call to the Keras 2 API: `Model(inputs=[<tf.Tenso..., outputs=Tensor(\"de...)`\n"
     ]
    },
    {
     "name": "stdout",
     "output_type": "stream",
     "text": [
      "Epoch 1/100\n",
      " - 0s - loss: 0.0370\n",
      "Epoch 2/100\n",
      " - 0s - loss: 0.0154\n",
      "Epoch 3/100\n",
      " - 0s - loss: 0.0129\n",
      "Epoch 4/100\n",
      " - 0s - loss: 0.0113\n",
      "Epoch 5/100\n",
      " - 0s - loss: 0.0094\n",
      "Epoch 6/100\n",
      " - 0s - loss: 0.0080\n",
      "Epoch 7/100\n",
      " - 0s - loss: 0.0070\n",
      "Epoch 8/100\n",
      " - 0s - loss: 0.0059\n",
      "Epoch 9/100\n",
      " - 0s - loss: 0.0056\n",
      "Epoch 10/100\n",
      " - 0s - loss: 0.0051\n",
      "Epoch 11/100\n",
      " - 0s - loss: 0.0049\n",
      "Epoch 12/100\n",
      " - 0s - loss: 0.0049\n",
      "Epoch 13/100\n",
      " - 0s - loss: 0.0050\n",
      "Epoch 14/100\n",
      " - 0s - loss: 0.0046\n",
      "Epoch 15/100\n",
      " - 0s - loss: 0.0045\n",
      "Epoch 16/100\n",
      " - 0s - loss: 0.0045\n",
      "Epoch 17/100\n",
      " - 0s - loss: 0.0045\n",
      "Epoch 18/100\n",
      " - 0s - loss: 0.0046\n",
      "Epoch 19/100\n",
      " - 0s - loss: 0.0046\n",
      "Epoch 20/100\n",
      " - 0s - loss: 0.0044\n",
      "Epoch 21/100\n",
      " - 0s - loss: 0.0044\n",
      "Epoch 22/100\n",
      " - 0s - loss: 0.0043\n",
      "Epoch 23/100\n",
      " - 0s - loss: 0.0043\n",
      "Epoch 24/100\n",
      " - 0s - loss: 0.0044\n",
      "Epoch 25/100\n",
      " - 0s - loss: 0.0043\n",
      "Epoch 26/100\n",
      " - 0s - loss: 0.0044\n",
      "Epoch 27/100\n",
      " - 0s - loss: 0.0042\n",
      "Epoch 28/100\n",
      " - 0s - loss: 0.0043\n",
      "Epoch 29/100\n",
      " - 0s - loss: 0.0042\n",
      "Epoch 30/100\n",
      " - 0s - loss: 0.0042\n",
      "Epoch 31/100\n",
      " - 0s - loss: 0.0043\n",
      "Epoch 32/100\n",
      " - 0s - loss: 0.0042\n",
      "Epoch 33/100\n",
      " - 0s - loss: 0.0041\n",
      "Epoch 34/100\n",
      " - 0s - loss: 0.0042\n",
      "Epoch 35/100\n",
      " - 0s - loss: 0.0040\n",
      "Epoch 36/100\n",
      " - 0s - loss: 0.0041\n",
      "Epoch 37/100\n",
      " - 0s - loss: 0.0040\n",
      "Epoch 38/100\n",
      " - 0s - loss: 0.0040\n",
      "Epoch 39/100\n",
      " - 0s - loss: 0.0039\n",
      "Epoch 40/100\n",
      " - 0s - loss: 0.0042\n",
      "Epoch 41/100\n",
      " - 0s - loss: 0.0039\n",
      "Epoch 42/100\n",
      " - 0s - loss: 0.0040\n",
      "Epoch 43/100\n",
      " - 0s - loss: 0.0040\n",
      "Epoch 44/100\n",
      " - 0s - loss: 0.0040\n",
      "Epoch 45/100\n",
      " - 0s - loss: 0.0038\n",
      "Epoch 46/100\n",
      " - 0s - loss: 0.0038\n",
      "Epoch 47/100\n",
      " - 0s - loss: 0.0037\n",
      "Epoch 48/100\n",
      " - 0s - loss: 0.0037\n",
      "Epoch 49/100\n",
      " - 0s - loss: 0.0038\n",
      "Epoch 50/100\n",
      " - 0s - loss: 0.0038\n",
      "Epoch 51/100\n",
      " - 0s - loss: 0.0037\n",
      "Epoch 52/100\n",
      " - 0s - loss: 0.0036\n",
      "Epoch 53/100\n",
      " - 0s - loss: 0.0037\n",
      "Epoch 54/100\n",
      " - 0s - loss: 0.0035\n",
      "Epoch 55/100\n",
      " - 0s - loss: 0.0038\n",
      "Epoch 56/100\n",
      " - 0s - loss: 0.0036\n",
      "Epoch 57/100\n",
      " - 0s - loss: 0.0037\n",
      "Epoch 58/100\n",
      " - 0s - loss: 0.0035\n",
      "Epoch 59/100\n",
      " - 0s - loss: 0.0035\n",
      "Epoch 60/100\n",
      " - 0s - loss: 0.0033\n",
      "Epoch 61/100\n",
      " - 0s - loss: 0.0035\n",
      "Epoch 62/100\n",
      " - 0s - loss: 0.0034\n",
      "Epoch 63/100\n",
      " - 0s - loss: 0.0036\n",
      "Epoch 64/100\n",
      " - 0s - loss: 0.0033\n",
      "Epoch 65/100\n",
      " - 0s - loss: 0.0033\n",
      "Epoch 66/100\n",
      " - 0s - loss: 0.0033\n",
      "Epoch 67/100\n",
      " - 0s - loss: 0.0034\n",
      "Epoch 68/100\n",
      " - 0s - loss: 0.0032\n",
      "Epoch 69/100\n",
      " - 0s - loss: 0.0033\n",
      "Epoch 70/100\n",
      " - 0s - loss: 0.0031\n",
      "Epoch 71/100\n",
      " - 0s - loss: 0.0032\n",
      "Epoch 72/100\n",
      " - 0s - loss: 0.0031\n",
      "Epoch 73/100\n",
      " - 0s - loss: 0.0030\n",
      "Epoch 74/100\n",
      " - 0s - loss: 0.0031\n",
      "Epoch 75/100\n",
      " - 0s - loss: 0.0031\n",
      "Epoch 76/100\n",
      " - 0s - loss: 0.0031\n",
      "Epoch 77/100\n",
      " - 0s - loss: 0.0029\n",
      "Epoch 78/100\n",
      " - 0s - loss: 0.0029\n",
      "Epoch 79/100\n",
      " - 0s - loss: 0.0028\n",
      "Epoch 80/100\n",
      " - 0s - loss: 0.0028\n",
      "Epoch 81/100\n",
      " - 0s - loss: 0.0028\n",
      "Epoch 82/100\n",
      " - 0s - loss: 0.0027\n",
      "Epoch 83/100\n",
      " - 0s - loss: 0.0027\n",
      "Epoch 84/100\n",
      " - 0s - loss: 0.0027\n",
      "Epoch 85/100\n",
      " - 0s - loss: 0.0026\n",
      "Epoch 86/100\n",
      " - 0s - loss: 0.0026\n",
      "Epoch 87/100\n",
      " - 0s - loss: 0.0026\n",
      "Epoch 88/100\n",
      " - 0s - loss: 0.0026\n",
      "Epoch 89/100\n",
      " - 0s - loss: 0.0025\n",
      "Epoch 90/100\n",
      " - 0s - loss: 0.0026\n",
      "Epoch 91/100\n",
      " - 0s - loss: 0.0024\n",
      "Epoch 92/100\n",
      " - 0s - loss: 0.0025\n",
      "Epoch 93/100\n",
      " - 0s - loss: 0.0026\n",
      "Epoch 94/100\n",
      " - 0s - loss: 0.0024\n",
      "Epoch 95/100\n",
      " - 0s - loss: 0.0024\n",
      "Epoch 96/100\n",
      " - 0s - loss: 0.0024\n",
      "Epoch 97/100\n",
      " - 0s - loss: 0.0024\n",
      "Epoch 98/100\n",
      " - 0s - loss: 0.0023\n",
      "Epoch 99/100\n",
      " - 0s - loss: 0.0023\n",
      "Epoch 100/100\n",
      " - 0s - loss: 0.0022\n",
      "Train Score: 24.29 RMSE\n",
      "Test Score: 63.60 RMSE\n"
     ]
    }
   ],
   "source": [
    "# reshape into X=t and Y=t+1\n",
    "look_back = 4\n",
    "trainX, trainY = create_dataset(train, look_back)\n",
    "testX, testY = create_dataset(test, look_back)\n",
    "\n",
    "# reshape input to be [batch_size (samples?), time steps, features]\n",
    "trainX = np.reshape(trainX, (trainX.shape[0], trainX.shape[1], 1))\n",
    "testX = np.reshape(testX, (testX.shape[0], testX.shape[1], 1))\n",
    "print(trainX.shape)\n",
    "\n",
    "# create and fit the LSTM network\n",
    "# model = Sequential()\n",
    "# model.add(GRU(4, input_shape=(look_back, 1)))\n",
    "# model.add(Dense(1))\n",
    "# model.compile(loss='mean_squared_error', optimizer='adam')\n",
    "# model.fit(trainX, trainY, epochs=50, batch_size=1, verbose=2)\n",
    "\n",
    "\n",
    "inputs = Input(shape=(look_back, 1))\n",
    "lstm_out = LSTM(4, input_shape=(look_back, 1), return_sequences=True)(inputs)\n",
    "a = Permute((2, 1))(lstm_out)\n",
    "a = Dense(look_back, activation='softmax')(lstm_out)\n",
    "a = Lambda(lambda x: K.mean(x, axis=1), name='dim_reduction')(a)\n",
    "a = RepeatVector(4)(a)\n",
    "a_probs = Permute((2, 1), name='attention_vec')(a)\n",
    "attention_mul = Multiply()([lstm_out, a_probs])\n",
    "attention_mul = Flatten()(attention_mul)\n",
    "output = Dense(1)(attention_mul) # activation='linear' if not specified\n",
    "#output = Dense(1)(lstm_out)\n",
    "\n",
    "model = model_lstm(look_back)\n",
    "# model = Model(input=[inputs], output=output)\n",
    "model.compile(loss='mean_squared_error', optimizer='adam')\n",
    "model.fit(trainX, trainY, epochs=100, batch_size=1, verbose=2)\n",
    "\n",
    "# make predictions\n",
    "trainPredict = model.predict(trainX)\n",
    "testPredict = model.predict(testX)\n",
    "# invert predictions\n",
    "trainPredict = scaler.inverse_transform(trainPredict)\n",
    "trainY = scaler.inverse_transform([trainY])\n",
    "testPredict = scaler.inverse_transform(testPredict)\n",
    "testY = scaler.inverse_transform([testY])\n",
    "# calculate root mean squared error\n",
    "trainScore = math.sqrt(mean_squared_error(trainY[0], trainPredict[:,0]))\n",
    "print('Train Score: %.2f RMSE' % (trainScore))\n",
    "testScore = math.sqrt(mean_squared_error(testY[0], testPredict[:,0]))\n",
    "print('Test Score: %.2f RMSE' % (testScore))\n",
    "\n"
   ]
  },
  {
   "cell_type": "code",
   "execution_count": 6,
   "metadata": {
    "colab": {
     "autoexec": {
      "startup": false,
      "wait_interval": 0
     }
    },
    "colab_type": "code",
    "id": "FRFv_ozogSc6"
   },
   "outputs": [],
   "source": [
    "# shift train predictions for plotting\n",
    "trainPredictPlot = np.empty_like(dataset)\n",
    "trainPredictPlot[:, :] = np.nan\n",
    "trainPredictPlot[look_back:len(trainPredict)+look_back, :] = trainPredict\n",
    "# shift test predictions for plotting\n",
    "testPredictPlot = np.empty_like(dataset)\n",
    "testPredictPlot[:, :] = np.nan\n",
    "testPredictPlot[len(trainPredict)+(look_back*2)+1:len(dataset)-1, :] = testPredict\n"
   ]
  },
  {
   "cell_type": "code",
   "execution_count": 7,
   "metadata": {
    "colab": {
     "autoexec": {
      "startup": false,
      "wait_interval": 0
     },
     "base_uri": "https://localhost:8080/",
     "height": 347
    },
    "colab_type": "code",
    "executionInfo": {
     "elapsed": 669,
     "status": "ok",
     "timestamp": 1531901157246,
     "user": {
      "displayName": "Li Su",
      "photoUrl": "//lh5.googleusercontent.com/-9pFUQ1NX_2Y/AAAAAAAAAAI/AAAAAAAABQs/85dFjpXP6Dc/s50-c-k-no/photo.jpg",
      "userId": "114061514994910013821"
     },
     "user_tz": -480
    },
    "id": "YPoB-g7UeE8n",
    "outputId": "dd0b5bdf-728f-441a-ca80-922051d160cb"
   },
   "outputs": [
    {
     "data": {
      "image/png": "[encoded data removed]",
      "text/plain": [
       "<matplotlib.figure.Figure at 0x7f7bea302b38>"
      ]
     },
     "metadata": {},
     "output_type": "display_data"
    }
   ],
   "source": [
    "# plot baseline and predictions\n",
    "plt.plot(scaler.inverse_transform(dataset[:int(len(dataset)*0.67)]))\n",
    "plt.plot(trainPredictPlot[:int(len(dataset)*0.67)])\n",
    "#plt.plot(testPredictPlot)\n",
    "plt.show()"
   ]
  },
  {
   "cell_type": "code",
   "execution_count": 8,
   "metadata": {
    "colab": {
     "autoexec": {
      "startup": false,
      "wait_interval": 0
     },
     "base_uri": "https://localhost:8080/",
     "height": 347
    },
    "colab_type": "code",
    "executionInfo": {
     "elapsed": 920,
     "status": "ok",
     "timestamp": 1531901159556,
     "user": {
      "displayName": "Li Su",
      "photoUrl": "//lh5.googleusercontent.com/-9pFUQ1NX_2Y/AAAAAAAAAAI/AAAAAAAABQs/85dFjpXP6Dc/s50-c-k-no/photo.jpg",
      "userId": "114061514994910013821"
     },
     "user_tz": -480
    },
    "id": "cNB-kq7reG8O",
    "outputId": "3a479538-3fc3-4012-cb84-1686bc1fecf2"
   },
   "outputs": [
    {
     "data": {
      "image/png": "[encoded data removed]",
      "text/plain": [
       "<matplotlib.figure.Figure at 0x7f7be817dcc0>"
      ]
     },
     "metadata": {},
     "output_type": "display_data"
    }
   ],
   "source": [
    "# plot baseline and predictions\n",
    "plt.plot(scaler.inverse_transform(dataset[int(len(dataset)*0.67):]))\n",
    "#plt.plot(trainPredictPlot)\n",
    "plt.plot(testPredictPlot[int(len(dataset)*0.67):])\n",
    "plt.show()"
   ]
  },
  {
   "cell_type": "code",
   "execution_count": 9,
   "metadata": {
    "colab": {
     "autoexec": {
      "startup": false,
      "wait_interval": 0
     },
     "base_uri": "https://localhost:8080/",
     "height": 677
    },
    "colab_type": "code",
    "executionInfo": {
     "elapsed": 1011,
     "status": "ok",
     "timestamp": 1531901168441,
     "user": {
      "displayName": "Li Su",
      "photoUrl": "//lh5.googleusercontent.com/-9pFUQ1NX_2Y/AAAAAAAAAAI/AAAAAAAABQs/85dFjpXP6Dc/s50-c-k-no/photo.jpg",
      "userId": "114061514994910013821"
     },
     "user_tz": -480
    },
    "id": "9SgmB-86exgO",
    "outputId": "d18781d0-58a0-4868-faaf-2db208ee8a13"
   },
   "outputs": [
    {
     "data": {
      "image/png": "[encoded data removed]",
      "text/plain": [
       "<matplotlib.figure.Figure at 0x7f7be81c5da0>"
      ]
     },
     "metadata": {},
     "output_type": "display_data"
    },
    {
     "data": {
      "image/png": "[encoded data removed]",
      "text/plain": [
       "<matplotlib.figure.Figure at 0x7f7be81546d8>"
      ]
     },
     "metadata": {},
     "output_type": "display_data"
    }
   ],
   "source": [
    "\n",
    "# shift train predictions for plotting\n",
    "trainPredictPlot = np.empty_like(dataset)\n",
    "trainPredictPlot[:, :] = np.nan\n",
    "trainPredictPlot[look_back:len(trainPredict)+look_back, :] = trainPredict\n",
    "# shift test predictions for plotting\n",
    "testPredictPlot = np.empty_like(dataset)\n",
    "testPredictPlot[:, :] = np.nan\n",
    "testPredictPlot[len(trainPredict)+(look_back*2)+1:len(dataset)-1, :] = testPredict\n",
    "# plot baseline and predictions\n",
    "plt.plot(scaler.inverse_transform(dataset))\n",
    "plt.plot(trainPredictPlot)\n",
    "plt.plot(testPredictPlot)\n",
    "plt.show()\n",
    "# shift train predictions for plotting\n",
    "trainPredictPlot = np.empty_like(dataset)\n",
    "trainPredictPlot[:, :] = np.nan\n",
    "trainPredictPlot[look_back:len(trainPredict)+look_back, :] = trainPredict\n",
    "# shift test predictions for plotting\n",
    "testPredictPlot = np.empty_like(dataset)\n",
    "testPredictPlot[:, :] = np.nan\n",
    "testPredictPlot[len(trainPredict)+(look_back*2)+1:len(dataset)-1, :] = testPredict\n",
    "# plot baseline and predictions\n",
    "plt.plot(scaler.inverse_transform(dataset))\n",
    "plt.plot(trainPredictPlot)\n",
    "plt.plot(testPredictPlot)\n",
    "plt.show()"
   ]
  },
  {
   "cell_type": "code",
   "execution_count": 0,
   "metadata": {
    "colab": {
     "autoexec": {
      "startup": false,
      "wait_interval": 0
     }
    },
    "colab_type": "code",
    "id": "0TKJpO6PM7xs"
   },
   "outputs": [],
   "source": []
  }
 ],
 "metadata": {
  "colab": {
   "default_view": {},
   "name": "rnn_example.ipynb",
   "provenance": [],
   "version": "0.3.2",
   "views": {}
  },
  "kernelspec": {
   "display_name": "Python 3",
   "language": "python",
   "name": "python3"
  },
  "language_info": {
   "codemirror_mode": {
    "name": "ipython",
    "version": 3
   },
   "file_extension": ".py",
   "mimetype": "text/x-python",
   "name": "python",
   "nbconvert_exporter": "python",
   "pygments_lexer": "ipython3",
   "version": "3.6.4"
  }
 },
 "nbformat": 4,
 "nbformat_minor": 1
}
