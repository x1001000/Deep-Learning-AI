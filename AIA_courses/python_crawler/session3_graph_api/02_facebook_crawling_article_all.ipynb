{
 "cells": [
  {
   "cell_type": "markdown",
   "metadata": {},
   "source": [
    "# 練習\n",
    "\n",
    "- 取得 FB 文章底下所有留言, 附檔連結, application\n",
    "- 使用 [Graph API](https://developers.facebook.com/tools/explorer/)\n",
    "- https://www.facebook.com/appledaily.tw/posts/10156769966527069\n",
    "- 輸出成 CSV"
   ]
  },
  {
   "cell_type": "code",
   "execution_count": 1,
   "metadata": {
    "collapsed": true
   },
   "outputs": [],
   "source": [
    "import os\n",
    "import requests\n",
    "import pandas as pd\n",
    "\n",
    "from datetime import datetime"
   ]
  },
  {
   "cell_type": "code",
   "execution_count": 2,
   "metadata": {
    "collapsed": true
   },
   "outputs": [],
   "source": [
    "# 透過 Graph API 觀察文章 ID 與 token\n",
    "article_id = '232633627068_10156769966527069'\n",
    "token = ''"
   ]
  },
  {
   "cell_type": "code",
   "execution_count": 3,
   "metadata": {},
   "outputs": [
    {
     "name": "stdout",
     "output_type": "stream",
     "text": [
      "pages 1\n",
      "pages 2\n",
      "pages 3\n",
      "pages 4\n",
      "pages 5\n",
      "pages 6\n",
      "pages 7\n",
      "comments length = 63\n"
     ]
    }
   ],
   "source": [
    "comments = []\n",
    "pages = 0\n",
    "\n",
    "\"\"\"\n",
    "nested query + 游標型分頁\n",
    "%7B => {\n",
    "%7D => }\n",
    "%2C => ,\n",
    "reference: https://www.w3schools.com/tags/ref_urlencode.asp\n",
    "\"\"\"\n",
    "\n",
    "base_url = 'https://graph.facebook.com/v2.11/{}'.format(article_id)\n",
    "query = '?fields=comments.limit({})%7Battachment%2Capplication%2Cmessage.limit({})%7D&access_token={}'.format(\n",
    "    10, 100, token\n",
    ")\n",
    "url = '{}/{}'.format(base_url, query)\n",
    "\n",
    "while True:\n",
    "    pages += 1\n",
    "    resp = requests.get(url)\n",
    "    data = resp.json()\n",
    "    if 'comments' not in data:\n",
    "        break\n",
    "\n",
    "    comments += data['comments']['data']\n",
    "    \n",
    "    if 'after' not in data['comments']['paging']['cursors']:\n",
    "        print('EOF')\n",
    "        break\n",
    "    else:\n",
    "        cursors_after = data['comments']['paging']['cursors']['after']\n",
    "        query = '?fields=comments.limit({}).after({})%7Battachment%2Capplication%2Cmessage.limit({})%7D&access_token={}'.format(\n",
    "            10, cursors_after, 100, token\n",
    "        )\n",
    "        url = '{}/{}'.format(base_url, query)\n",
    "        print('pages {}'.format(pages))\n",
    "\n",
    "print('comments length = {}'.format(len(comments)))"
   ]
  },
  {
   "cell_type": "code",
   "execution_count": 4,
   "metadata": {},
   "outputs": [
    {
     "data": {
      "text/html": [
       "<div>\n",
       "<style>\n",
       "    .dataframe thead tr:only-child th {\n",
       "        text-align: right;\n",
       "    }\n",
       "\n",
       "    .dataframe thead th {\n",
       "        text-align: left;\n",
       "    }\n",
       "\n",
       "    .dataframe tbody tr th {\n",
       "        vertical-align: top;\n",
       "    }\n",
       "</style>\n",
       "<table border=\"1\" class=\"dataframe\">\n",
       "  <thead>\n",
       "    <tr style=\"text-align: right;\">\n",
       "      <th></th>\n",
       "      <th>application_category</th>\n",
       "      <th>application_id</th>\n",
       "      <th>application_link</th>\n",
       "      <th>application_name</th>\n",
       "      <th>application_namespace</th>\n",
       "      <th>attachment_type</th>\n",
       "      <th>attachment_url</th>\n",
       "      <th>id</th>\n",
       "      <th>message</th>\n",
       "    </tr>\n",
       "  </thead>\n",
       "  <tbody>\n",
       "    <tr>\n",
       "      <th>0</th>\n",
       "      <td>Utilities</td>\n",
       "      <td>350685531728</td>\n",
       "      <td>/android</td>\n",
       "      <td>Facebook for Android</td>\n",
       "      <td>fbandroid</td>\n",
       "      <td>NaN</td>\n",
       "      <td>NaN</td>\n",
       "      <td>10156769966527069_10156771068602069</td>\n",
       "      <td>又要連PO好幾天\\n一天好幾篇\\nPO到有人反感\\n留言開始有人吵架鬥嘴\\n最後一面倒開始噴這遊戲</td>\n",
       "    </tr>\n",
       "    <tr>\n",
       "      <th>1</th>\n",
       "      <td>Utilities</td>\n",
       "      <td>6628568379</td>\n",
       "      <td>/iphone</td>\n",
       "      <td>Facebook for iPhone</td>\n",
       "      <td>fbiphone</td>\n",
       "      <td>photo</td>\n",
       "      <td>https://www.facebook.com/photo.php?fbid=164774...</td>\n",
       "      <td>10156769966527069_10156771204372069</td>\n",
       "      <td>水溝是怎樣</td>\n",
       "    </tr>\n",
       "    <tr>\n",
       "      <th>2</th>\n",
       "      <td>Utilities</td>\n",
       "      <td>350685531728</td>\n",
       "      <td>/android</td>\n",
       "      <td>Facebook for Android</td>\n",
       "      <td>fbandroid</td>\n",
       "      <td>photo</td>\n",
       "      <td>https://www.facebook.com/photo.php?fbid=201326...</td>\n",
       "      <td>10156769966527069_10156771212477069</td>\n",
       "      <td>我的🐸兒子好久才回家本來很生氣（找不到罵兒子的選項XD\\n\\n結果看到他帶回來的名產\\n以及...</td>\n",
       "    </tr>\n",
       "    <tr>\n",
       "      <th>3</th>\n",
       "      <td>Utilities</td>\n",
       "      <td>350685531728</td>\n",
       "      <td>/android</td>\n",
       "      <td>Facebook for Android</td>\n",
       "      <td>fbandroid</td>\n",
       "      <td>NaN</td>\n",
       "      <td>NaN</td>\n",
       "      <td>10156769966527069_10156771109777069</td>\n",
       "      <td>重複報導是不會膩喔</td>\n",
       "    </tr>\n",
       "    <tr>\n",
       "      <th>4</th>\n",
       "      <td>Utilities</td>\n",
       "      <td>350685531728</td>\n",
       "      <td>/android</td>\n",
       "      <td>Facebook for Android</td>\n",
       "      <td>fbandroid</td>\n",
       "      <td>photo</td>\n",
       "      <td>https://www.facebook.com/photo.php?fbid=537644...</td>\n",
       "      <td>10156769966527069_10156771833147069</td>\n",
       "      <td>我家的青蛙在我肚子裡跟我一起去旅行了</td>\n",
       "    </tr>\n",
       "  </tbody>\n",
       "</table>\n",
       "</div>"
      ],
      "text/plain": [
       "  application_category application_id application_link      application_name  \\\n",
       "0            Utilities   350685531728         /android  Facebook for Android   \n",
       "1            Utilities     6628568379          /iphone   Facebook for iPhone   \n",
       "2            Utilities   350685531728         /android  Facebook for Android   \n",
       "3            Utilities   350685531728         /android  Facebook for Android   \n",
       "4            Utilities   350685531728         /android  Facebook for Android   \n",
       "\n",
       "  application_namespace attachment_type  \\\n",
       "0             fbandroid             NaN   \n",
       "1              fbiphone           photo   \n",
       "2             fbandroid           photo   \n",
       "3             fbandroid             NaN   \n",
       "4             fbandroid           photo   \n",
       "\n",
       "                                      attachment_url  \\\n",
       "0                                                NaN   \n",
       "1  https://www.facebook.com/photo.php?fbid=164774...   \n",
       "2  https://www.facebook.com/photo.php?fbid=201326...   \n",
       "3                                                NaN   \n",
       "4  https://www.facebook.com/photo.php?fbid=537644...   \n",
       "\n",
       "                                    id  \\\n",
       "0  10156769966527069_10156771068602069   \n",
       "1  10156769966527069_10156771204372069   \n",
       "2  10156769966527069_10156771212477069   \n",
       "3  10156769966527069_10156771109777069   \n",
       "4  10156769966527069_10156771833147069   \n",
       "\n",
       "                                             message  \n",
       "0  又要連PO好幾天\\n一天好幾篇\\nPO到有人反感\\n留言開始有人吵架鬥嘴\\n最後一面倒開始噴這遊戲  \n",
       "1                                              水溝是怎樣  \n",
       "2  我的🐸兒子好久才回家本來很生氣（找不到罵兒子的選項XD\\n\\n結果看到他帶回來的名產\\n以及...  \n",
       "3                                          重複報導是不會膩喔  \n",
       "4                                 我家的青蛙在我肚子裡跟我一起去旅行了  "
      ]
     },
     "execution_count": 4,
     "metadata": {},
     "output_type": "execute_result"
    }
   ],
   "source": [
    "for comment in comments:\n",
    "    application, attachment, message = '', '', ''\n",
    "    if 'application' in comment:\n",
    "        app = {'application_{}'.format(k):v for k, v in comment['application'].items()}\n",
    "        comment.update(app)\n",
    "        del comment['application']\n",
    "    if 'attachment' in comment:\n",
    "        att = {\n",
    "            'attachment_type': comment['attachment']['type'],\n",
    "            'attachment_url': comment['attachment']['url']\n",
    "        }\n",
    "        comment.update(att)\n",
    "        del comment['attachment']\n",
    "\n",
    "df = pd.DataFrame.from_records(comments)\n",
    "df.head()"
   ]
  },
  {
   "cell_type": "code",
   "execution_count": 5,
   "metadata": {},
   "outputs": [
    {
     "name": "stdout",
     "output_type": "stream",
     "text": [
      "Save file - /home/dirl/github/Python-Crawling-Tutorial/results/232633627068_10156769966527069.csv\n"
     ]
    }
   ],
   "source": [
    "results = os.path.abspath('../results')\n",
    "if not os.path.exists(results):\n",
    "    os.makedirs(results)\n",
    "\n",
    "filename = os.path.join(results, '{}.csv'.format(article_id))\n",
    "df.to_csv(filename, index=False)\n",
    "print('Save file - {}'.format(filename))"
   ]
  }
 ],
 "metadata": {
  "kernelspec": {
   "display_name": "Python 3",
   "language": "python",
   "name": "python3"
  },
  "language_info": {
   "codemirror_mode": {
    "name": "ipython",
    "version": 3
   },
   "file_extension": ".py",
   "mimetype": "text/x-python",
   "name": "python",
   "nbconvert_exporter": "python",
   "pygments_lexer": "ipython3",
   "version": "3.5.2"
  }
 },
 "nbformat": 4,
 "nbformat_minor": 2
}
